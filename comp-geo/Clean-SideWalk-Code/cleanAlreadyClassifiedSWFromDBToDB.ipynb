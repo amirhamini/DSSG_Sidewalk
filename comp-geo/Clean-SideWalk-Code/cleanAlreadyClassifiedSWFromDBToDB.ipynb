{
 "cells": [
  {
   "cell_type": "markdown",
   "metadata": {
    "collapsed": false
   },
   "source": [
    "## Goal:\n",
    "* Read classified sidewalk data from database\n",
    "* Clean sidewalks\n",
    "* Write the result back to the database"
   ]
  },
  {
   "cell_type": "markdown",
   "metadata": {},
   "source": [
    "## Connect to Database and fetch the data using psycopg2:"
   ]
  },
  {
   "cell_type": "code",
   "execution_count": 1,
   "metadata": {
    "collapsed": true
   },
   "outputs": [],
   "source": [
    "import psycopg2"
   ]
  },
  {
   "cell_type": "code",
   "execution_count": 2,
   "metadata": {
    "collapsed": false
   },
   "outputs": [
    {
     "name": "stdout",
     "output_type": "stream",
     "text": [
      "Opened database successfully\n"
     ]
    }
   ],
   "source": [
    "conn = psycopg2.connect(database=\"****\", user=\"****\", password=\"****\", host=\"****\", port=\"****\")\n",
    "print \"Opened database successfully\""
   ]
  },
  {
   "cell_type": "markdown",
   "metadata": {},
   "source": [
    "* Fetch the data:  \n",
    "each row including a polygon_id (b_id) and geometry (in geoJSON format) of all sidewalks within that polygon"
   ]
  },
  {
   "cell_type": "code",
   "execution_count": 3,
   "metadata": {
    "collapsed": false
   },
   "outputs": [],
   "source": [
    "cur = conn.cursor()\n",
    "cur.execute(\"SELECT b_id,  st_asgeojson(ST_Collect(sidewalk_geom)) from polygon_sidewalks group by b_id\")\n",
    "rows = cur.fetchall()"
   ]
  },
  {
   "cell_type": "markdown",
   "metadata": {},
   "source": [
    "* Each row of the fetched data looks like:"
   ]
  },
  {
   "cell_type": "code",
   "execution_count": 4,
   "metadata": {
    "collapsed": false
   },
   "outputs": [
    {
     "name": "stdout",
     "output_type": "stream",
     "text": [
      "(1, '{\"type\":\"MultiLineString\",\"coordinates\":[[[1255276.99133064,194138.403187305],[1255075.26469998,193527.346994713],[1255066.18433756,193398.133342385]],[[1255076.1321523,193404.484379545],[1255021.58764197,193413.560476884],[1254877.71063314,193461.121733472],[1254858.82976539,193471.062658474],[1254844.39213023,193486.04097496]],[[1255275.28234456,194132.847424135],[1255069.95828015,194291.478668556]],[[1255089.30240156,194300.672219723],[1254838.81701015,193538.456224471],[1254835.50369656,193517.105545387],[1254837.9656339,193499.805383131]]]}')\n"
     ]
    }
   ],
   "source": [
    "for row in rows:\n",
    "    print row\n",
    "    break"
   ]
  },
  {
   "cell_type": "markdown",
   "metadata": {},
   "source": [
    "## Cleaning and Plotting Functions:"
   ]
  },
  {
   "cell_type": "code",
   "execution_count": 5,
   "metadata": {
    "collapsed": true
   },
   "outputs": [],
   "source": [
    "# Packages:\n",
    "import shapely\n",
    "from shapely.geometry import Point, Polygon, LineString\n",
    "from copy import deepcopy\n",
    "import fiona\n",
    "import matplotlib\n",
    "from matplotlib import pyplot\n",
    "import mpld3\n",
    "%matplotlib inline\n",
    "mpld3.enable_notebook()\n",
    "\n",
    "# Cleaning:\n",
    "def lenLine(line):\n",
    "    return Point(line[0]).distance(Point(line[1]))\n",
    "\n",
    "def cosAndsine(line):\n",
    "    # cos and sine made with horizon\n",
    "    if lenLine(line) != 0:\n",
    "        cos = float(line[1][0] - line[0][0])/float(lenLine(line))\n",
    "        sine = float(line[1][1] - line[0][1])/float(lenLine(line))\n",
    "        return [cos, sine]\n",
    "    else:\n",
    "        \n",
    "        print \"Warning: Following Line is changed to a Point!!! Check your tolerances\"\n",
    "        print line\n",
    "        return [0,0]\n",
    "    \n",
    "def connectToAvgIfCloseEnough(twoLineList, tolClose):\n",
    "    lineAfterList = deepcopy(twoLineList)\n",
    "    for i in range(len(twoLineList[0])):\n",
    "        for j in range(len(twoLineList[1])):\n",
    "            if Point(twoLineList[0][i]).distance(Point(twoLineList[1][j])) < tolClose:\n",
    "                avgX = (twoLineList[0][i][0] + twoLineList[1][j][0])/float(2)\n",
    "                avgY = (twoLineList[0][i][1] + twoLineList[1][j][1])/float(2)\n",
    "                lineAfterList[0][i] = [avgX, avgY]\n",
    "                lineAfterList[1][j] = [avgX, avgY]\n",
    "    return lineAfterList\n",
    "\n",
    "def cleanIfintesectedAlready(twoLineList, tolInt, tolClose):\n",
    "    lines = deepcopy(twoLineList)\n",
    "    intrsct = LineString(lines[0]).intersection(LineString(lines[1]))\n",
    "    if intrsct.length == 0:\n",
    "        for i in range(len(lines)):\n",
    "            for j in range(2):\n",
    "                if Point(lines[i][-j]).distance(intrsct) < tolInt:\n",
    "                    lines[i][-j] = [intrsct.x, intrsct.y]\n",
    "        return lines\n",
    "    else: \n",
    "        return connectToAvgIfCloseEnough(lines, tolClose)\n",
    "\n",
    "def givefirstandLasttwoLines(line):\n",
    "    return [ [line[0],line[1]], [line[-2], line[-1]] ]\n",
    "    \n",
    "    \n",
    "def extendMultiSectioLinefromBothsides(line, extL):\n",
    "    extLine = deepcopy(line)\n",
    "    if len(line) > 2:\n",
    "        firstLast = givefirstandLasttwoLines(line)\n",
    "        for j in range(len(firstLast)):\n",
    "            line = firstLast[j]\n",
    "            cosT = cosAndsine(line)[0]\n",
    "            sinT = cosAndsine(line)[1]\n",
    "            extCoordsPos = [line[-j][0] + extL * cosT, line[-j][1] + extL * sinT]\n",
    "            extCoordsNeg = [line[-j][0] - extL * cosT, line[-j][1] - extL * sinT]\n",
    "            if Point(extCoordsPos).distance(Point(extLine[1-3*j])) > Point(extCoordsNeg).distance(Point(extLine[1-3*j])):\n",
    "                extCoords = extCoordsPos\n",
    "            else:\n",
    "                extCoords = extCoordsNeg\n",
    "            extLine[-j] = extCoords\n",
    "        return extLine\n",
    "    else:\n",
    "        cosT = cosAndsine(line)[0]\n",
    "        sinT = cosAndsine(line)[1]\n",
    "        for j in range(len(line)):\n",
    "            extCoordsPos = [line[-j][0] + extL * cosT, line[-j][1] + extL * sinT]\n",
    "            extCoordsNeg = [line[-j][0] - extL * cosT, line[-j][1] - extL * sinT]\n",
    "            if Point(extCoordsPos).distance(Point(extLine[abs(j-1)])) > Point(extCoordsNeg).distance(Point(extLine[abs(j-1)])):\n",
    "                extCoords = extCoordsPos\n",
    "            else:\n",
    "                extCoords = extCoordsNeg\n",
    "            extLine[j] = extCoords\n",
    "        return extLine\n",
    "\n",
    "def connectIfintesectedAfterExtending(twoLineList, extL ,tolInt,tolClose):\n",
    "    lines = deepcopy(twoLineList)\n",
    "    extLine1 = extendMultiSectioLinefromBothsides(twoLineList[0], extL)\n",
    "    extLine2 = extendMultiSectioLinefromBothsides(twoLineList[1], extL)\n",
    "    intrsct = LineString(extLine1).intersection(LineString(extLine2))\n",
    "    if intrsct.length == 0:\n",
    "        numDistanceBelowtolInt = 0\n",
    "        for line in lines:\n",
    "            for point in line:\n",
    "                if Point(point).distance(intrsct) < tolInt:\n",
    "                    numDistanceBelowtolInt += 1\n",
    "        if numDistanceBelowtolInt > 1:\n",
    "            for i in range(len(lines)):\n",
    "                for j in range(2):\n",
    "                    if Point(lines[i][-j]).distance(intrsct) < tolInt:\n",
    "                        lines[i][-j] = [intrsct.x, intrsct.y]\n",
    "            return lines\n",
    "        else:\n",
    "            return connectToAvgIfCloseEnough(lines, tolInt)\n",
    "    else:\n",
    "        return connectToAvgIfCloseEnough(lines, tolInt) #Not by tolClose\n",
    "\n",
    "def cleanDanglesofAnyKind(twoLineList, extL, tolInt, tolClose):\n",
    "    extline1 = extendMultiSectioLinefromBothsides(twoLineList[0], extL)\n",
    "    extline2 = extendMultiSectioLinefromBothsides(twoLineList[1], extL)\n",
    "    \n",
    "    if LineString(twoLineList[0]).intersects(LineString(twoLineList[1])) == True:\n",
    "        return cleanIfintesectedAlready(twoLineList, tolInt, tolClose)\n",
    "    \n",
    "    elif LineString(extline1).intersects(LineString(extline2)) == True:\n",
    "        return connectIfintesectedAfterExtending(twoLineList, extL ,tolInt, tolClose)\n",
    "    \n",
    "    else:\n",
    "        return connectToAvgIfCloseEnough(twoLineList, tolClose)\n",
    "def cleanEachGroup(linesList, extL, tolInt, tolClose):\n",
    "    linesListClean = deepcopy(linesList)\n",
    "    for i in range(len(linesListClean)):\n",
    "        for j in range(i+1, len(linesListClean)):\n",
    "            twoline = [linesListClean[i], linesListClean[j]]\n",
    "            twolineclean = cleanDanglesofAnyKind(twoline, extL, tolInt, tolClose)\n",
    "            if twoline[0] != twolineclean[0]:\n",
    "                linesListClean[i] = twolineclean[0]\n",
    "            if twoline[1] != twolineclean[1]:\n",
    "                linesListClean[j] = twolineclean[1]\n",
    "    return linesListClean\n",
    "# Plotting:\n",
    "# function: plots one line (not a lineList) with first and last points with different colors\n",
    "def plot_line(ax, line, color):\n",
    "    #line = [(x, y),...]\n",
    "    x, y = LineString(line).xy\n",
    "    # plot lines between points\n",
    "    ax.plot(x, y, color= color, alpha=0.7, linewidth=1, solid_capstyle='round', zorder=1)\n",
    "    # Plot first and last points with different colors\n",
    "#     ax.plot(x[0], y[0], 'o', color='#80F222', zorder=2)\n",
    "#     ax.plot(x[-1], y[-1], 'o', color='#F22222', zorder=2)\n",
    "    \n",
    "# function: handle axes limits and title of a plot of a (lineList \n",
    "def handle_axesLimTitle_for_lineList(ax, lineList, title):\n",
    "    #lineList = [line1, ...]\n",
    "    allXList = []\n",
    "    allYList = []\n",
    "    for line in lineList:\n",
    "        for point in line:\n",
    "            allXList.append(point[0])\n",
    "            allYList.append(point[1])\n",
    "    XLim = [min(allXList), max(allXList)]\n",
    "    YLim = [min(allYList), max(allYList)]\n",
    "    XEmptySpace = int((XLim[1]-XLim[0])/5.0)\n",
    "    YEmptySpace = int((YLim[1]-YLim[0])/5.0)\n",
    "    if XEmptySpace == 0:\n",
    "        XEmptySpace = 1\n",
    "    if YEmptySpace == 0:\n",
    "        YEmptySpace = 1\n",
    "    Xrange = [int(XLim[0]) - XEmptySpace, int(XLim[1]) + XEmptySpace]\n",
    "    Yrange = [int(YLim[0]) - YEmptySpace, int(YLim[1]) + YEmptySpace]\n",
    "    ax.set_xlim(*Xrange)\n",
    "    ax.set_ylim(*Yrange)\n",
    "    # ax.set_yticks(list(range(*Yrange)) + [Yrange[-1]])\n",
    "    # ax.set_aspect(1)\n",
    "    ax.set_title(title) "
   ]
  },
  {
   "cell_type": "markdown",
   "metadata": {},
   "source": [
    "* Clean one group to see if cleaning is working:\n",
    "* Note: ast.literal_eval changes text to a dictionary"
   ]
  },
  {
   "cell_type": "code",
   "execution_count": 6,
   "metadata": {
    "collapsed": false
   },
   "outputs": [
    {
     "data": {
      "image/png": "[encoded data removed]",
      "text/html": [
       "\n",
       "\n",
       "<style>\n",
       "\n",
       "</style>\n",
       "\n",
       "<div id=\"fig_el114044757454881595547630\"></div>\n",
       "<script>\n",
       "function mpld3_load_lib(url, callback){\n",
       "  var s = document.createElement('script');\n",
       "  s.src = url;\n",
       "  s.async = true;\n",
       "  s.onreadystatechange = s.onload = callback;\n",
       "  s.onerror = function(){console.warn(\"failed to load library \" + url);};\n",
       "  document.getElementsByTagName(\"head\")[0].appendChild(s);\n",
       "}\n",
       "\n",
       "if(typeof(mpld3) !== \"undefined\" && mpld3._mpld3IsLoaded){\n",
       "   // already loaded: just create the figure\n",
       "   !function(mpld3){\n",
       "       \n",
       "       mpld3.draw_figure(\"fig_el114044757454881595547630\", {\"axes\": [{\"xlim\": [1254747.0, 1255364.0], \"yscale\": \"linear\", \"axesbg\": \"none\", \"texts\": [{\"v_baseline\": \"auto\", \"h_anchor\": \"middle\", \"color\": \"#000000\", \"text\": \"Lines\", \"coordinates\": \"axes\", \"zorder\": 3, \"alpha\": 1, \"fontsize\": 12.0, \"position\": [0.5, 1.0179211469534051], \"rotation\": -0.0, \"id\": \"el11404475840144\"}], \"zoomable\": true, \"images\": [], \"xdomain\": [1254747.0, 1255364.0], \"ylim\": [193218.0, 194480.0], \"paths\": [], \"sharey\": [], \"sharex\": [], \"axesbgalpha\": null, \"axes\": [{\"scale\": \"linear\", \"tickformat\": null, \"grid\": {\"gridOn\": false}, \"fontsize\": 10.0, \"position\": \"bottom\", \"nticks\": 8, \"tickvalues\": null}, {\"scale\": \"linear\", \"tickformat\": null, \"grid\": {\"gridOn\": false}, \"fontsize\": 10.0, \"position\": \"left\", \"nticks\": 8, \"tickvalues\": null}], \"lines\": [{\"color\": \"#F22222\", \"yindex\": 1, \"coordinates\": \"data\", \"dasharray\": \"10,0\", \"zorder\": 1, \"alpha\": 0.7, \"xindex\": 0, \"linewidth\": 1, \"data\": \"data01\", \"id\": \"el11404475894160\"}, {\"color\": \"#F22222\", \"yindex\": 1, \"coordinates\": \"data\", \"dasharray\": \"10,0\", \"zorder\": 1, \"alpha\": 0.7, \"xindex\": 0, \"linewidth\": 1, \"data\": \"data02\", \"id\": \"el11404475894928\"}, {\"color\": \"#F22222\", \"yindex\": 1, \"coordinates\": \"data\", \"dasharray\": \"10,0\", \"zorder\": 1, \"alpha\": 0.7, \"xindex\": 0, \"linewidth\": 1, \"data\": \"data03\", \"id\": \"el11404475913104\"}, {\"color\": \"#F22222\", \"yindex\": 1, \"coordinates\": \"data\", \"dasharray\": \"10,0\", \"zorder\": 1, \"alpha\": 0.7, \"xindex\": 0, \"linewidth\": 1, \"data\": \"data04\", \"id\": \"el11404475914704\"}], \"markers\": [], \"id\": \"el11404474937296\", \"ydomain\": [193218.0, 194480.0], \"collections\": [], \"xscale\": \"linear\", \"bbox\": [0.125, 0.125, 0.35227272727272724, 0.77500000000000002]}, {\"xlim\": [1254747.0, 1255364.0], \"yscale\": \"linear\", \"axesbg\": \"none\", \"texts\": [{\"v_baseline\": \"auto\", \"h_anchor\": \"middle\", \"color\": \"#000000\", \"text\": \"Lines Clean\", \"coordinates\": \"axes\", \"zorder\": 3, \"alpha\": 1, \"fontsize\": 12.0, \"position\": [0.5, 1.0179211469534051], \"rotation\": -0.0, \"id\": \"el11404476022032\"}], \"zoomable\": true, \"images\": [], \"xdomain\": [1254747.0, 1255364.0], \"ylim\": [193218.0, 194480.0], \"paths\": [], \"sharey\": [], \"sharex\": [], \"axesbgalpha\": null, \"axes\": [{\"scale\": \"linear\", \"tickformat\": null, \"grid\": {\"gridOn\": false}, \"fontsize\": 10.0, \"position\": \"bottom\", \"nticks\": 8, \"tickvalues\": null}, {\"scale\": \"linear\", \"tickformat\": null, \"grid\": {\"gridOn\": false}, \"fontsize\": 10.0, \"position\": \"left\", \"nticks\": 8, \"tickvalues\": null}], \"lines\": [{\"color\": \"#F22222\", \"yindex\": 1, \"coordinates\": \"data\", \"dasharray\": \"10,0\", \"zorder\": 1, \"alpha\": 0.7, \"xindex\": 0, \"linewidth\": 1, \"data\": \"data05\", \"id\": \"el11404475921424\"}, {\"color\": \"#F22222\", \"yindex\": 1, \"coordinates\": \"data\", \"dasharray\": \"10,0\", \"zorder\": 1, \"alpha\": 0.7, \"xindex\": 0, \"linewidth\": 1, \"data\": \"data06\", \"id\": \"el11404476038288\"}, {\"color\": \"#F22222\", \"yindex\": 1, \"coordinates\": \"data\", \"dasharray\": \"10,0\", \"zorder\": 1, \"alpha\": 0.7, \"xindex\": 0, \"linewidth\": 1, \"data\": \"data07\", \"id\": \"el11404476068752\"}, {\"color\": \"#F22222\", \"yindex\": 1, \"coordinates\": \"data\", \"dasharray\": \"10,0\", \"zorder\": 1, \"alpha\": 0.7, \"xindex\": 0, \"linewidth\": 1, \"data\": \"data08\", \"id\": \"el11404476070352\"}], \"markers\": [], \"id\": \"el11404475746064\", \"ydomain\": [193218.0, 194480.0], \"collections\": [], \"xscale\": \"linear\", \"bbox\": [0.54772727272727262, 0.125, 0.35227272727272729, 0.77500000000000002]}], \"height\": 450.0, \"width\": 900.0, \"plugins\": [{\"type\": \"reset\"}, {\"enabled\": false, \"button\": true, \"type\": \"zoom\"}, {\"enabled\": false, \"button\": true, \"type\": \"boxzoom\"}], \"data\": {\"data08\": [[1255082.97601421, 194281.4213021221], [1254838.81701015, 193538.456224471], [1254835.50369656, 193517.105545387], [1254839.1505610845, 193491.47883792562]], \"data06\": [[1255066.7404716567, 193406.04713640505], [1255021.58764197, 193413.560476884], [1254877.71063314, 193461.121733472], [1254858.82976539, 193471.062658474], [1254839.1505610845, 193491.47883792562]], \"data07\": [[1255275.1826470105, 194132.9244494284], [1255082.97601421, 194281.4213021221]], \"data04\": [[1255089.30240156, 194300.672219723], [1254838.81701015, 193538.456224471], [1254835.50369656, 193517.105545387], [1254837.9656339, 193499.805383131]], \"data05\": [[1255275.1826470105, 194132.9244494284], [1255075.26469998, 193527.346994713], [1255066.7404716567, 193406.04713640505]], \"data02\": [[1255076.1321523, 193404.484379545], [1255021.58764197, 193413.560476884], [1254877.71063314, 193461.121733472], [1254858.82976539, 193471.062658474], [1254844.39213023, 193486.04097496]], \"data03\": [[1255275.28234456, 194132.847424135], [1255069.95828015, 194291.478668556]], \"data01\": [[1255276.99133064, 194138.403187305], [1255075.26469998, 193527.346994713], [1255066.18433756, 193398.133342385]]}, \"id\": \"el11404475745488\"});\n",
       "   }(mpld3);\n",
       "}else if(typeof define === \"function\" && define.amd){\n",
       "   // require.js is available: use it to load d3/mpld3\n",
       "   require.config({paths: {d3: \"https://mpld3.github.io/js/d3.v3.min\"}});\n",
       "   require([\"d3\"], function(d3){\n",
       "      window.d3 = d3;\n",
       "      mpld3_load_lib(\"https://mpld3.github.io/js/mpld3.v0.2.js\", function(){\n",
       "         \n",
       "         mpld3.draw_figure(\"fig_el114044757454881595547630\", {\"axes\": [{\"xlim\": [1254747.0, 1255364.0], \"yscale\": \"linear\", \"axesbg\": \"none\", \"texts\": [{\"v_baseline\": \"auto\", \"h_anchor\": \"middle\", \"color\": \"#000000\", \"text\": \"Lines\", \"coordinates\": \"axes\", \"zorder\": 3, \"alpha\": 1, \"fontsize\": 12.0, \"position\": [0.5, 1.0179211469534051], \"rotation\": -0.0, \"id\": \"el11404475840144\"}], \"zoomable\": true, \"images\": [], \"xdomain\": [1254747.0, 1255364.0], \"ylim\": [193218.0, 194480.0], \"paths\": [], \"sharey\": [], \"sharex\": [], \"axesbgalpha\": null, \"axes\": [{\"scale\": \"linear\", \"tickformat\": null, \"grid\": {\"gridOn\": false}, \"fontsize\": 10.0, \"position\": \"bottom\", \"nticks\": 8, \"tickvalues\": null}, {\"scale\": \"linear\", \"tickformat\": null, \"grid\": {\"gridOn\": false}, \"fontsize\": 10.0, \"position\": \"left\", \"nticks\": 8, \"tickvalues\": null}], \"lines\": [{\"color\": \"#F22222\", \"yindex\": 1, \"coordinates\": \"data\", \"dasharray\": \"10,0\", \"zorder\": 1, \"alpha\": 0.7, \"xindex\": 0, \"linewidth\": 1, \"data\": \"data01\", \"id\": \"el11404475894160\"}, {\"color\": \"#F22222\", \"yindex\": 1, \"coordinates\": \"data\", \"dasharray\": \"10,0\", \"zorder\": 1, \"alpha\": 0.7, \"xindex\": 0, \"linewidth\": 1, \"data\": \"data02\", \"id\": \"el11404475894928\"}, {\"color\": \"#F22222\", \"yindex\": 1, \"coordinates\": \"data\", \"dasharray\": \"10,0\", \"zorder\": 1, \"alpha\": 0.7, \"xindex\": 0, \"linewidth\": 1, \"data\": \"data03\", \"id\": \"el11404475913104\"}, {\"color\": \"#F22222\", \"yindex\": 1, \"coordinates\": \"data\", \"dasharray\": \"10,0\", \"zorder\": 1, \"alpha\": 0.7, \"xindex\": 0, \"linewidth\": 1, \"data\": \"data04\", \"id\": \"el11404475914704\"}], \"markers\": [], \"id\": \"el11404474937296\", \"ydomain\": [193218.0, 194480.0], \"collections\": [], \"xscale\": \"linear\", \"bbox\": [0.125, 0.125, 0.35227272727272724, 0.77500000000000002]}, {\"xlim\": [1254747.0, 1255364.0], \"yscale\": \"linear\", \"axesbg\": \"none\", \"texts\": [{\"v_baseline\": \"auto\", \"h_anchor\": \"middle\", \"color\": \"#000000\", \"text\": \"Lines Clean\", \"coordinates\": \"axes\", \"zorder\": 3, \"alpha\": 1, \"fontsize\": 12.0, \"position\": [0.5, 1.0179211469534051], \"rotation\": -0.0, \"id\": \"el11404476022032\"}], \"zoomable\": true, \"images\": [], \"xdomain\": [1254747.0, 1255364.0], \"ylim\": [193218.0, 194480.0], \"paths\": [], \"sharey\": [], \"sharex\": [], \"axesbgalpha\": null, \"axes\": [{\"scale\": \"linear\", \"tickformat\": null, \"grid\": {\"gridOn\": false}, \"fontsize\": 10.0, \"position\": \"bottom\", \"nticks\": 8, \"tickvalues\": null}, {\"scale\": \"linear\", \"tickformat\": null, \"grid\": {\"gridOn\": false}, \"fontsize\": 10.0, \"position\": \"left\", \"nticks\": 8, \"tickvalues\": null}], \"lines\": [{\"color\": \"#F22222\", \"yindex\": 1, \"coordinates\": \"data\", \"dasharray\": \"10,0\", \"zorder\": 1, \"alpha\": 0.7, \"xindex\": 0, \"linewidth\": 1, \"data\": \"data05\", \"id\": \"el11404475921424\"}, {\"color\": \"#F22222\", \"yindex\": 1, \"coordinates\": \"data\", \"dasharray\": \"10,0\", \"zorder\": 1, \"alpha\": 0.7, \"xindex\": 0, \"linewidth\": 1, \"data\": \"data06\", \"id\": \"el11404476038288\"}, {\"color\": \"#F22222\", \"yindex\": 1, \"coordinates\": \"data\", \"dasharray\": \"10,0\", \"zorder\": 1, \"alpha\": 0.7, \"xindex\": 0, \"linewidth\": 1, \"data\": \"data07\", \"id\": \"el11404476068752\"}, {\"color\": \"#F22222\", \"yindex\": 1, \"coordinates\": \"data\", \"dasharray\": \"10,0\", \"zorder\": 1, \"alpha\": 0.7, \"xindex\": 0, \"linewidth\": 1, \"data\": \"data08\", \"id\": \"el11404476070352\"}], \"markers\": [], \"id\": \"el11404475746064\", \"ydomain\": [193218.0, 194480.0], \"collections\": [], \"xscale\": \"linear\", \"bbox\": [0.54772727272727262, 0.125, 0.35227272727272729, 0.77500000000000002]}], \"height\": 450.0, \"width\": 900.0, \"plugins\": [{\"type\": \"reset\"}, {\"enabled\": false, \"button\": true, \"type\": \"zoom\"}, {\"enabled\": false, \"button\": true, \"type\": \"boxzoom\"}], \"data\": {\"data08\": [[1255082.97601421, 194281.4213021221], [1254838.81701015, 193538.456224471], [1254835.50369656, 193517.105545387], [1254839.1505610845, 193491.47883792562]], \"data06\": [[1255066.7404716567, 193406.04713640505], [1255021.58764197, 193413.560476884], [1254877.71063314, 193461.121733472], [1254858.82976539, 193471.062658474], [1254839.1505610845, 193491.47883792562]], \"data07\": [[1255275.1826470105, 194132.9244494284], [1255082.97601421, 194281.4213021221]], \"data04\": [[1255089.30240156, 194300.672219723], [1254838.81701015, 193538.456224471], [1254835.50369656, 193517.105545387], [1254837.9656339, 193499.805383131]], \"data05\": [[1255275.1826470105, 194132.9244494284], [1255075.26469998, 193527.346994713], [1255066.7404716567, 193406.04713640505]], \"data02\": [[1255076.1321523, 193404.484379545], [1255021.58764197, 193413.560476884], [1254877.71063314, 193461.121733472], [1254858.82976539, 193471.062658474], [1254844.39213023, 193486.04097496]], \"data03\": [[1255275.28234456, 194132.847424135], [1255069.95828015, 194291.478668556]], \"data01\": [[1255276.99133064, 194138.403187305], [1255075.26469998, 193527.346994713], [1255066.18433756, 193398.133342385]]}, \"id\": \"el11404475745488\"});\n",
       "      });\n",
       "    });\n",
       "}else{\n",
       "    // require.js not available: dynamically load d3 & mpld3\n",
       "    mpld3_load_lib(\"https://mpld3.github.io/js/d3.v3.min.js\", function(){\n",
       "         mpld3_load_lib(\"https://mpld3.github.io/js/mpld3.v0.2.js\", function(){\n",
       "                 \n",
       "                 mpld3.draw_figure(\"fig_el114044757454881595547630\", {\"axes\": [{\"xlim\": [1254747.0, 1255364.0], \"yscale\": \"linear\", \"axesbg\": \"none\", \"texts\": [{\"v_baseline\": \"auto\", \"h_anchor\": \"middle\", \"color\": \"#000000\", \"text\": \"Lines\", \"coordinates\": \"axes\", \"zorder\": 3, \"alpha\": 1, \"fontsize\": 12.0, \"position\": [0.5, 1.0179211469534051], \"rotation\": -0.0, \"id\": \"el11404475840144\"}], \"zoomable\": true, \"images\": [], \"xdomain\": [1254747.0, 1255364.0], \"ylim\": [193218.0, 194480.0], \"paths\": [], \"sharey\": [], \"sharex\": [], \"axesbgalpha\": null, \"axes\": [{\"scale\": \"linear\", \"tickformat\": null, \"grid\": {\"gridOn\": false}, \"fontsize\": 10.0, \"position\": \"bottom\", \"nticks\": 8, \"tickvalues\": null}, {\"scale\": \"linear\", \"tickformat\": null, \"grid\": {\"gridOn\": false}, \"fontsize\": 10.0, \"position\": \"left\", \"nticks\": 8, \"tickvalues\": null}], \"lines\": [{\"color\": \"#F22222\", \"yindex\": 1, \"coordinates\": \"data\", \"dasharray\": \"10,0\", \"zorder\": 1, \"alpha\": 0.7, \"xindex\": 0, \"linewidth\": 1, \"data\": \"data01\", \"id\": \"el11404475894160\"}, {\"color\": \"#F22222\", \"yindex\": 1, \"coordinates\": \"data\", \"dasharray\": \"10,0\", \"zorder\": 1, \"alpha\": 0.7, \"xindex\": 0, \"linewidth\": 1, \"data\": \"data02\", \"id\": \"el11404475894928\"}, {\"color\": \"#F22222\", \"yindex\": 1, \"coordinates\": \"data\", \"dasharray\": \"10,0\", \"zorder\": 1, \"alpha\": 0.7, \"xindex\": 0, \"linewidth\": 1, \"data\": \"data03\", \"id\": \"el11404475913104\"}, {\"color\": \"#F22222\", \"yindex\": 1, \"coordinates\": \"data\", \"dasharray\": \"10,0\", \"zorder\": 1, \"alpha\": 0.7, \"xindex\": 0, \"linewidth\": 1, \"data\": \"data04\", \"id\": \"el11404475914704\"}], \"markers\": [], \"id\": \"el11404474937296\", \"ydomain\": [193218.0, 194480.0], \"collections\": [], \"xscale\": \"linear\", \"bbox\": [0.125, 0.125, 0.35227272727272724, 0.77500000000000002]}, {\"xlim\": [1254747.0, 1255364.0], \"yscale\": \"linear\", \"axesbg\": \"none\", \"texts\": [{\"v_baseline\": \"auto\", \"h_anchor\": \"middle\", \"color\": \"#000000\", \"text\": \"Lines Clean\", \"coordinates\": \"axes\", \"zorder\": 3, \"alpha\": 1, \"fontsize\": 12.0, \"position\": [0.5, 1.0179211469534051], \"rotation\": -0.0, \"id\": \"el11404476022032\"}], \"zoomable\": true, \"images\": [], \"xdomain\": [1254747.0, 1255364.0], \"ylim\": [193218.0, 194480.0], \"paths\": [], \"sharey\": [], \"sharex\": [], \"axesbgalpha\": null, \"axes\": [{\"scale\": \"linear\", \"tickformat\": null, \"grid\": {\"gridOn\": false}, \"fontsize\": 10.0, \"position\": \"bottom\", \"nticks\": 8, \"tickvalues\": null}, {\"scale\": \"linear\", \"tickformat\": null, \"grid\": {\"gridOn\": false}, \"fontsize\": 10.0, \"position\": \"left\", \"nticks\": 8, \"tickvalues\": null}], \"lines\": [{\"color\": \"#F22222\", \"yindex\": 1, \"coordinates\": \"data\", \"dasharray\": \"10,0\", \"zorder\": 1, \"alpha\": 0.7, \"xindex\": 0, \"linewidth\": 1, \"data\": \"data05\", \"id\": \"el11404475921424\"}, {\"color\": \"#F22222\", \"yindex\": 1, \"coordinates\": \"data\", \"dasharray\": \"10,0\", \"zorder\": 1, \"alpha\": 0.7, \"xindex\": 0, \"linewidth\": 1, \"data\": \"data06\", \"id\": \"el11404476038288\"}, {\"color\": \"#F22222\", \"yindex\": 1, \"coordinates\": \"data\", \"dasharray\": \"10,0\", \"zorder\": 1, \"alpha\": 0.7, \"xindex\": 0, \"linewidth\": 1, \"data\": \"data07\", \"id\": \"el11404476068752\"}, {\"color\": \"#F22222\", \"yindex\": 1, \"coordinates\": \"data\", \"dasharray\": \"10,0\", \"zorder\": 1, \"alpha\": 0.7, \"xindex\": 0, \"linewidth\": 1, \"data\": \"data08\", \"id\": \"el11404476070352\"}], \"markers\": [], \"id\": \"el11404475746064\", \"ydomain\": [193218.0, 194480.0], \"collections\": [], \"xscale\": \"linear\", \"bbox\": [0.54772727272727262, 0.125, 0.35227272727272729, 0.77500000000000002]}], \"height\": 450.0, \"width\": 900.0, \"plugins\": [{\"type\": \"reset\"}, {\"enabled\": false, \"button\": true, \"type\": \"zoom\"}, {\"enabled\": false, \"button\": true, \"type\": \"boxzoom\"}], \"data\": {\"data08\": [[1255082.97601421, 194281.4213021221], [1254838.81701015, 193538.456224471], [1254835.50369656, 193517.105545387], [1254839.1505610845, 193491.47883792562]], \"data06\": [[1255066.7404716567, 193406.04713640505], [1255021.58764197, 193413.560476884], [1254877.71063314, 193461.121733472], [1254858.82976539, 193471.062658474], [1254839.1505610845, 193491.47883792562]], \"data07\": [[1255275.1826470105, 194132.9244494284], [1255082.97601421, 194281.4213021221]], \"data04\": [[1255089.30240156, 194300.672219723], [1254838.81701015, 193538.456224471], [1254835.50369656, 193517.105545387], [1254837.9656339, 193499.805383131]], \"data05\": [[1255275.1826470105, 194132.9244494284], [1255075.26469998, 193527.346994713], [1255066.7404716567, 193406.04713640505]], \"data02\": [[1255076.1321523, 193404.484379545], [1255021.58764197, 193413.560476884], [1254877.71063314, 193461.121733472], [1254858.82976539, 193471.062658474], [1254844.39213023, 193486.04097496]], \"data03\": [[1255275.28234456, 194132.847424135], [1255069.95828015, 194291.478668556]], \"data01\": [[1255276.99133064, 194138.403187305], [1255075.26469998, 193527.346994713], [1255066.18433756, 193398.133342385]]}, \"id\": \"el11404475745488\"});\n",
       "            })\n",
       "         });\n",
       "}\n",
       "</script>"
      ],
      "text/plain": [
       "<matplotlib.figure.Figure at 0x10ac674d0>"
      ]
     },
     "metadata": {},
     "output_type": "display_data"
    }
   ],
   "source": [
    "import ast\n",
    "extL, tolInt, tolClose = 150, 30, 25\n",
    "cleanSWList = []\n",
    "for row in rows:\n",
    "    group = ast.literal_eval(row[1])['coordinates']\n",
    "    cleanGroup = cleanEachGroup(group, extL, tolInt, tolClose)\n",
    "    cleanSWList.append((row[0], {'type': 'MultiLineString', 'coordinates': cleanGroup}))\n",
    "    break\n",
    "# Plot the results\n",
    "fig = pyplot.figure(1, figsize=(10,5), dpi=90)\n",
    "ax = fig.add_subplot(121)\n",
    "for line in group:\n",
    "    plot_line(ax, line, '#F22222')\n",
    "handle_axesLimTitle_for_lineList(ax, group, \"Lines\")\n",
    "ax = fig.add_subplot(122)\n",
    "for line in cleanSWList[0][1]['coordinates']:\n",
    "    plot_line(ax, line, '#F22222')\n",
    "handle_axesLimTitle_for_lineList(ax, group, \"Lines Clean\")"
   ]
  },
  {
   "cell_type": "markdown",
   "metadata": {},
   "source": [
    "* Applying the cleaning to **n** polygons which have less than **m** number of sidewalks inside them:"
   ]
  },
  {
   "cell_type": "code",
   "execution_count": 9,
   "metadata": {
    "collapsed": false
   },
   "outputs": [],
   "source": [
    "n = 5\n",
    "m = 7\n",
    "extL, tolInt, tolClose = 100, 35, 15\n",
    "SWProcessedList = []\n",
    "cleanSWList = []\n",
    "for i in range(n):\n",
    "    group = ast.literal_eval(rows[i][1])['coordinates']\n",
    "    if len(group) < m:\n",
    "        SWProcessedList.append((rows[i][0], {'type': 'MultiLineString', 'coordinates': group}))\n",
    "        cleanGroup = cleanEachGroup(group, extL, tolInt, tolClose)\n",
    "        cleanSWList.append((rows[i][0], {'type': 'MultiLineString', 'coordinates': cleanGroup}))\n",
    "    else:\n",
    "        print rows[i][0],i"
   ]
  },
  {
   "cell_type": "code",
   "execution_count": 10,
   "metadata": {
    "collapsed": false
   },
   "outputs": [
    {
     "data": {
      "image/png": "[encoded data removed]",
      "text/html": [
       "\n",
       "\n",
       "<style>\n",
       "\n",
       "</style>\n",
       "\n",
       "<div id=\"fig_el114044782967201856317321\"></div>\n",
       "<script>\n",
       "function mpld3_load_lib(url, callback){\n",
       "  var s = document.createElement('script');\n",
       "  s.src = url;\n",
       "  s.async = true;\n",
       "  s.onreadystatechange = s.onload = callback;\n",
       "  s.onerror = function(){console.warn(\"failed to load library \" + url);};\n",
       "  document.getElementsByTagName(\"head\")[0].appendChild(s);\n",
       "}\n",
       "\n",
       "if(typeof(mpld3) !== \"undefined\" && mpld3._mpld3IsLoaded){\n",
       "   // already loaded: just create the figure\n",
       "   !function(mpld3){\n",
       "       \n",
       "       mpld3.draw_figure(\"fig_el114044782967201856317321\", {\"axes\": [{\"xlim\": [1250000.0, 1280000.0], \"yscale\": \"linear\", \"axesbg\": \"none\", \"texts\": [], \"zoomable\": true, \"images\": [], \"xdomain\": [1250000.0, 1280000.0], \"ylim\": [190000.0, 215000.0], \"paths\": [], \"sharey\": [], \"sharex\": [], \"axesbgalpha\": null, \"axes\": [{\"scale\": \"linear\", \"tickformat\": null, \"grid\": {\"gridOn\": false}, \"fontsize\": 10.0, \"position\": \"bottom\", \"nticks\": 7, \"tickvalues\": null}, {\"scale\": \"linear\", \"tickformat\": null, \"grid\": {\"gridOn\": false}, \"fontsize\": 10.0, \"position\": \"left\", \"nticks\": 6, \"tickvalues\": null}], \"lines\": [{\"color\": \"#F22222\", \"yindex\": 1, \"coordinates\": \"data\", \"dasharray\": \"10,0\", \"zorder\": 1, \"alpha\": 0.7, \"xindex\": 0, \"linewidth\": 1, \"data\": \"data01\", \"id\": \"el11404476125648\"}, {\"color\": \"#F22222\", \"yindex\": 1, \"coordinates\": \"data\", \"dasharray\": \"10,0\", \"zorder\": 1, \"alpha\": 0.7, \"xindex\": 0, \"linewidth\": 1, \"data\": \"data02\", \"id\": \"el11404476128144\"}, {\"color\": \"#F22222\", \"yindex\": 1, \"coordinates\": \"data\", \"dasharray\": \"10,0\", \"zorder\": 1, \"alpha\": 0.7, \"xindex\": 0, \"linewidth\": 1, \"data\": \"data03\", \"id\": \"el11404476126608\"}, {\"color\": \"#F22222\", \"yindex\": 1, \"coordinates\": \"data\", \"dasharray\": \"10,0\", \"zorder\": 1, \"alpha\": 0.7, \"xindex\": 0, \"linewidth\": 1, \"data\": \"data04\", \"id\": \"el11404476178768\"}, {\"color\": \"#F22222\", \"yindex\": 1, \"coordinates\": \"data\", \"dasharray\": \"10,0\", \"zorder\": 1, \"alpha\": 0.7, \"xindex\": 0, \"linewidth\": 1, \"data\": \"data05\", \"id\": \"el11404476178832\"}, {\"color\": \"#F22222\", \"yindex\": 1, \"coordinates\": \"data\", \"dasharray\": \"10,0\", \"zorder\": 1, \"alpha\": 0.7, \"xindex\": 0, \"linewidth\": 1, \"data\": \"data06\", \"id\": \"el11404476182032\"}, {\"color\": \"#F22222\", \"yindex\": 1, \"coordinates\": \"data\", \"dasharray\": \"10,0\", \"zorder\": 1, \"alpha\": 0.7, \"xindex\": 0, \"linewidth\": 1, \"data\": \"data07\", \"id\": \"el11404476184720\"}, {\"color\": \"#F22222\", \"yindex\": 1, \"coordinates\": \"data\", \"dasharray\": \"10,0\", \"zorder\": 1, \"alpha\": 0.7, \"xindex\": 0, \"linewidth\": 1, \"data\": \"data08\", \"id\": \"el11404476186448\"}, {\"color\": \"#F22222\", \"yindex\": 1, \"coordinates\": \"data\", \"dasharray\": \"10,0\", \"zorder\": 1, \"alpha\": 0.7, \"xindex\": 0, \"linewidth\": 1, \"data\": \"data09\", \"id\": \"el11404476103888\"}, {\"color\": \"#F22222\", \"yindex\": 1, \"coordinates\": \"data\", \"dasharray\": \"10,0\", \"zorder\": 1, \"alpha\": 0.7, \"xindex\": 0, \"linewidth\": 1, \"data\": \"data10\", \"id\": \"el11404475969232\"}, {\"color\": \"#F22222\", \"yindex\": 1, \"coordinates\": \"data\", \"dasharray\": \"10,0\", \"zorder\": 1, \"alpha\": 0.7, \"xindex\": 0, \"linewidth\": 1, \"data\": \"data11\", \"id\": \"el11404475965776\"}, {\"color\": \"#F22222\", \"yindex\": 1, \"coordinates\": \"data\", \"dasharray\": \"10,0\", \"zorder\": 1, \"alpha\": 0.7, \"xindex\": 0, \"linewidth\": 1, \"data\": \"data12\", \"id\": \"el11404475967248\"}, {\"color\": \"#F22222\", \"yindex\": 1, \"coordinates\": \"data\", \"dasharray\": \"10,0\", \"zorder\": 1, \"alpha\": 0.7, \"xindex\": 0, \"linewidth\": 1, \"data\": \"data13\", \"id\": \"el11404505559632\"}, {\"color\": \"#F22222\", \"yindex\": 1, \"coordinates\": \"data\", \"dasharray\": \"10,0\", \"zorder\": 1, \"alpha\": 0.7, \"xindex\": 0, \"linewidth\": 1, \"data\": \"data14\", \"id\": \"el11404476087888\"}, {\"color\": \"#F22222\", \"yindex\": 1, \"coordinates\": \"data\", \"dasharray\": \"10,0\", \"zorder\": 1, \"alpha\": 0.7, \"xindex\": 0, \"linewidth\": 1, \"data\": \"data15\", \"id\": \"el11404476084816\"}, {\"color\": \"#F22222\", \"yindex\": 1, \"coordinates\": \"data\", \"dasharray\": \"10,0\", \"zorder\": 1, \"alpha\": 0.7, \"xindex\": 0, \"linewidth\": 1, \"data\": \"data16\", \"id\": \"el11404476004048\"}, {\"color\": \"#F22222\", \"yindex\": 1, \"coordinates\": \"data\", \"dasharray\": \"10,0\", \"zorder\": 1, \"alpha\": 0.7, \"xindex\": 0, \"linewidth\": 1, \"data\": \"data17\", \"id\": \"el11404476006288\"}, {\"color\": \"#F22222\", \"yindex\": 1, \"coordinates\": \"data\", \"dasharray\": \"10,0\", \"zorder\": 1, \"alpha\": 0.7, \"xindex\": 0, \"linewidth\": 1, \"data\": \"data18\", \"id\": \"el11404475947856\"}, {\"color\": \"#F22222\", \"yindex\": 1, \"coordinates\": \"data\", \"dasharray\": \"10,0\", \"zorder\": 1, \"alpha\": 0.7, \"xindex\": 0, \"linewidth\": 1, \"data\": \"data19\", \"id\": \"el11404475948880\"}, {\"color\": \"#F22222\", \"yindex\": 1, \"coordinates\": \"data\", \"dasharray\": \"10,0\", \"zorder\": 1, \"alpha\": 0.7, \"xindex\": 0, \"linewidth\": 1, \"data\": \"data20\", \"id\": \"el11404475949008\"}, {\"color\": \"#F22222\", \"yindex\": 1, \"coordinates\": \"data\", \"dasharray\": \"10,0\", \"zorder\": 1, \"alpha\": 0.7, \"xindex\": 0, \"linewidth\": 1, \"data\": \"data21\", \"id\": \"el11404505557072\"}, {\"color\": \"#F22222\", \"yindex\": 1, \"coordinates\": \"data\", \"dasharray\": \"10,0\", \"zorder\": 1, \"alpha\": 0.7, \"xindex\": 0, \"linewidth\": 1, \"data\": \"data22\", \"id\": \"el11404505558864\"}], \"markers\": [], \"id\": \"el11404478525520\", \"ydomain\": [190000.0, 215000.0], \"collections\": [], \"xscale\": \"linear\", \"bbox\": [0.125, 0.125, 0.35227272727272724, 0.77500000000000002]}, {\"xlim\": [1250000.0, 1280000.0], \"yscale\": \"linear\", \"axesbg\": \"none\", \"texts\": [], \"zoomable\": true, \"images\": [], \"xdomain\": [1250000.0, 1280000.0], \"ylim\": [190000.0, 215000.0], \"paths\": [], \"sharey\": [], \"sharex\": [], \"axesbgalpha\": null, \"axes\": [{\"scale\": \"linear\", \"tickformat\": null, \"grid\": {\"gridOn\": false}, \"fontsize\": 10.0, \"position\": \"bottom\", \"nticks\": 7, \"tickvalues\": null}, {\"scale\": \"linear\", \"tickformat\": null, \"grid\": {\"gridOn\": false}, \"fontsize\": 10.0, \"position\": \"left\", \"nticks\": 6, \"tickvalues\": null}], \"lines\": [{\"color\": \"#F22222\", \"yindex\": 1, \"coordinates\": \"data\", \"dasharray\": \"10,0\", \"zorder\": 1, \"alpha\": 0.7, \"xindex\": 0, \"linewidth\": 1, \"data\": \"data23\", \"id\": \"el11404475809424\"}, {\"color\": \"#F22222\", \"yindex\": 1, \"coordinates\": \"data\", \"dasharray\": \"10,0\", \"zorder\": 1, \"alpha\": 0.7, \"xindex\": 0, \"linewidth\": 1, \"data\": \"data24\", \"id\": \"el11404475843536\"}, {\"color\": \"#F22222\", \"yindex\": 1, \"coordinates\": \"data\", \"dasharray\": \"10,0\", \"zorder\": 1, \"alpha\": 0.7, \"xindex\": 0, \"linewidth\": 1, \"data\": \"data25\", \"id\": \"el11404476131856\"}, {\"color\": \"#F22222\", \"yindex\": 1, \"coordinates\": \"data\", \"dasharray\": \"10,0\", \"zorder\": 1, \"alpha\": 0.7, \"xindex\": 0, \"linewidth\": 1, \"data\": \"data26\", \"id\": \"el11404478701520\"}, {\"color\": \"#F22222\", \"yindex\": 1, \"coordinates\": \"data\", \"dasharray\": \"10,0\", \"zorder\": 1, \"alpha\": 0.7, \"xindex\": 0, \"linewidth\": 1, \"data\": \"data27\", \"id\": \"el11404478697552\"}, {\"color\": \"#F22222\", \"yindex\": 1, \"coordinates\": \"data\", \"dasharray\": \"10,0\", \"zorder\": 1, \"alpha\": 0.7, \"xindex\": 0, \"linewidth\": 1, \"data\": \"data28\", \"id\": \"el11404478700048\"}, {\"color\": \"#F22222\", \"yindex\": 1, \"coordinates\": \"data\", \"dasharray\": \"10,0\", \"zorder\": 1, \"alpha\": 0.7, \"xindex\": 0, \"linewidth\": 1, \"data\": \"data29\", \"id\": \"el11404476139984\"}, {\"color\": \"#F22222\", \"yindex\": 1, \"coordinates\": \"data\", \"dasharray\": \"10,0\", \"zorder\": 1, \"alpha\": 0.7, \"xindex\": 0, \"linewidth\": 1, \"data\": \"data30\", \"id\": \"el11404476141264\"}, {\"color\": \"#F22222\", \"yindex\": 1, \"coordinates\": \"data\", \"dasharray\": \"10,0\", \"zorder\": 1, \"alpha\": 0.7, \"xindex\": 0, \"linewidth\": 1, \"data\": \"data31\", \"id\": \"el11404478594320\"}, {\"color\": \"#F22222\", \"yindex\": 1, \"coordinates\": \"data\", \"dasharray\": \"10,0\", \"zorder\": 1, \"alpha\": 0.7, \"xindex\": 0, \"linewidth\": 1, \"data\": \"data32\", \"id\": \"el11404478661904\"}, {\"color\": \"#F22222\", \"yindex\": 1, \"coordinates\": \"data\", \"dasharray\": \"10,0\", \"zorder\": 1, \"alpha\": 0.7, \"xindex\": 0, \"linewidth\": 1, \"data\": \"data33\", \"id\": \"el11404476192912\"}, {\"color\": \"#F22222\", \"yindex\": 1, \"coordinates\": \"data\", \"dasharray\": \"10,0\", \"zorder\": 1, \"alpha\": 0.7, \"xindex\": 0, \"linewidth\": 1, \"data\": \"data34\", \"id\": \"el11404476191952\"}, {\"color\": \"#F22222\", \"yindex\": 1, \"coordinates\": \"data\", \"dasharray\": \"10,0\", \"zorder\": 1, \"alpha\": 0.7, \"xindex\": 0, \"linewidth\": 1, \"data\": \"data35\", \"id\": \"el11404476190800\"}, {\"color\": \"#F22222\", \"yindex\": 1, \"coordinates\": \"data\", \"dasharray\": \"10,0\", \"zorder\": 1, \"alpha\": 0.7, \"xindex\": 0, \"linewidth\": 1, \"data\": \"data36\", \"id\": \"el11404478499792\"}, {\"color\": \"#F22222\", \"yindex\": 1, \"coordinates\": \"data\", \"dasharray\": \"10,0\", \"zorder\": 1, \"alpha\": 0.7, \"xindex\": 0, \"linewidth\": 1, \"data\": \"data37\", \"id\": \"el11404476154512\"}, {\"color\": \"#F22222\", \"yindex\": 1, \"coordinates\": \"data\", \"dasharray\": \"10,0\", \"zorder\": 1, \"alpha\": 0.7, \"xindex\": 0, \"linewidth\": 1, \"data\": \"data38\", \"id\": \"el11404476153936\"}, {\"color\": \"#F22222\", \"yindex\": 1, \"coordinates\": \"data\", \"dasharray\": \"10,0\", \"zorder\": 1, \"alpha\": 0.7, \"xindex\": 0, \"linewidth\": 1, \"data\": \"data39\", \"id\": \"el11404478637904\"}, {\"color\": \"#F22222\", \"yindex\": 1, \"coordinates\": \"data\", \"dasharray\": \"10,0\", \"zorder\": 1, \"alpha\": 0.7, \"xindex\": 0, \"linewidth\": 1, \"data\": \"data40\", \"id\": \"el11404478649872\"}, {\"color\": \"#F22222\", \"yindex\": 1, \"coordinates\": \"data\", \"dasharray\": \"10,0\", \"zorder\": 1, \"alpha\": 0.7, \"xindex\": 0, \"linewidth\": 1, \"data\": \"data41\", \"id\": \"el11404478651792\"}, {\"color\": \"#F22222\", \"yindex\": 1, \"coordinates\": \"data\", \"dasharray\": \"10,0\", \"zorder\": 1, \"alpha\": 0.7, \"xindex\": 0, \"linewidth\": 1, \"data\": \"data42\", \"id\": \"el11404475847824\"}, {\"color\": \"#F22222\", \"yindex\": 1, \"coordinates\": \"data\", \"dasharray\": \"10,0\", \"zorder\": 1, \"alpha\": 0.7, \"xindex\": 0, \"linewidth\": 1, \"data\": \"data43\", \"id\": \"el11404475849424\"}, {\"color\": \"#F22222\", \"yindex\": 1, \"coordinates\": \"data\", \"dasharray\": \"10,0\", \"zorder\": 1, \"alpha\": 0.7, \"xindex\": 0, \"linewidth\": 1, \"data\": \"data44\", \"id\": \"el11404475916624\"}], \"markers\": [], \"id\": \"el11404476112720\", \"ydomain\": [190000.0, 215000.0], \"collections\": [], \"xscale\": \"linear\", \"bbox\": [0.54772727272727262, 0.125, 0.35227272727272729, 0.77500000000000002]}], \"height\": 450.0, \"width\": 900.0, \"plugins\": [{\"type\": \"reset\"}, {\"enabled\": false, \"button\": true, \"type\": \"zoom\"}, {\"enabled\": false, \"button\": true, \"type\": \"boxzoom\"}], \"data\": {\"data42\": [[1276949.0580712447, 207660.36957223905], [1276885.5036928996, 207528.75725682927]], \"data43\": [[1276949.0580712447, 207660.36957223905], [1277144.1968371146, 207562.38313467006]], \"data40\": [[1277249.642103095, 207007.60349871952], [1277279.801630209, 206815.13169500936]], \"data41\": [[1277144.1968371146, 207562.38313467006], [1277249.642103095, 207007.60349871952]], \"data44\": [[1276885.5036928996, 207528.75725682927], [1276877.64563581, 207488.997877136], [1276878.64169681, 207436.270620391], [1276886.37494905, 207403.395029962], [1276908.99695106, 207355.735676467], [1276929.84566264, 207328.61007455], [1276954.87153123, 207305.490698218], [1277024.9724409, 207265.344124973], [1277047.30376107, 207248.26016964], [1277074.46184322, 207216.803539634], [1277093.42046672, 207179.070347384], [1277124.8462569, 207020.443696126], [1277128.0470379, 206987.470336884], [1277122.07099998, 206938.122994632], [1277104.7493868512, 206895.36213740017]], \"data28\": [[1255341.1083013, 193500.82504311175], [1255155.69531339, 193415.864278048], [1255107.832653154, 193405.91927413517]], \"data06\": [[1255337.49547473, 193499.169557631], [1255155.69531339, 193415.864278048], [1255095.4336229, 193403.342977628]], \"data08\": [[1255315.92465173, 194125.550194636], [1255115.80464514, 193519.360462129], [1255107.08353397, 193395.259332389]], \"data09\": [[1250817.52321547, 214732.106094301], [1250791.9048284, 214089.428245798]], \"data20\": [[1276955.58675289, 207673.889567718], [1276893.22631331, 207544.749734133]], \"data21\": [[1276950.78361289, 207659.503113553], [1277122.79081482, 207573.131895214]], \"data22\": [[1276884.72436181, 207524.814078465], [1276877.64563581, 207488.997877136], [1276878.64169681, 207436.270620391], [1276886.37494905, 207403.395029962], [1276908.99695106, 207355.735676467], [1276929.84566264, 207328.61007455], [1276954.87153123, 207305.490698218], [1277024.9724409, 207265.344124973], [1277047.30376107, 207248.26016964], [1277074.46184322, 207216.803539634], [1277093.42046672, 207179.070347384], [1277124.8462569, 207020.443696126], [1277128.0470379, 206987.470336884], [1277122.07099998, 206938.122994632], [1277103.88730931, 206893.233976796]], \"data05\": [[1255492.94693547, 193963.425518885], [1255295.96832681, 194115.602379888]], \"data02\": [[1255076.1321523, 193404.484379545], [1255021.58764197, 193413.560476884], [1254877.71063314, 193461.121733472], [1254858.82976539, 193471.062658474], [1254844.39213023, 193486.04097496]], \"data04\": [[1255089.30240156, 194300.672219723], [1254838.81701015, 193538.456224471], [1254835.50369656, 193517.105545387], [1254837.9656339, 193499.805383131]], \"data26\": [[1255082.97601421, 194281.4213021221], [1254838.81701015, 193538.456224471], [1254835.50369656, 193517.105545387], [1254839.1505610845, 193491.47883792562]], \"data01\": [[1255276.99133064, 194138.403187305], [1255075.26469998, 193527.346994713], [1255066.18433756, 193398.133342385]], \"data23\": [[1255275.1826470105, 194132.9244494284], [1255075.26469998, 193527.346994713], [1255066.7404716567, 193406.04713640505]], \"data24\": [[1255066.7404716567, 193406.04713640505], [1255021.58764197, 193413.560476884], [1254877.71063314, 193461.121733472], [1254858.82976539, 193471.062658474], [1254839.1505610845, 193491.47883792562]], \"data03\": [[1255275.28234456, 194132.847424135], [1255069.95828015, 194291.478668556]], \"data27\": [[1255493.1235235669, 193963.28909482117], [1255309.2525656368, 194105.33957125503]], \"data07\": [[1255495.24909623, 193969.755558714], [1255342.69986065, 193505.666919962]], \"data37\": [[1251139.4280383808, 214711.19975637278], [1251114.992070111, 214100.98697257426]], \"data36\": [[1251395.3696448011, 214089.59706312456], [1251114.992070111, 214100.98697257426]], \"data35\": [[1251419.9459764508, 214699.92550874368], [1251139.4280383808, 214711.19975637278]], \"data34\": [[1251074.0655163112, 214103.64014675206], [1250792.9209996809, 214114.9205131618]], \"data25\": [[1255275.1826470105, 194132.9244494284], [1255082.97601421, 194281.4213021221]], \"data32\": [[1251098.4622883452, 214712.87412570865], [1251074.0655163112, 214103.64014675206]], \"data31\": [[1250817.2224624828, 214724.5612288828], [1250792.9209996809, 214114.9205131618]], \"data30\": [[1255309.2525656368, 194105.33957125503], [1255115.80464514, 193519.360462129], [1255107.832653154, 193405.91927413517]], \"data39\": [[1277104.7493868512, 206895.36213740017], [1277235.2672959, 206806.921485379], [1277279.801630209, 206815.13169500936]], \"data38\": [[1251419.9459764508, 214699.92550874368], [1251395.3696448011, 214089.59706312456]], \"data19\": [[1277140.07752565, 207584.056085974], [1277246.93656389, 207020.393827468]], \"data18\": [[1277252.3476423, 206994.813169971], [1277280.70388481, 206809.226598889]], \"data15\": [[1251139.72926398, 214718.721934721], [1251114.01113956, 214076.491263807]], \"data14\": [[1251402.93346198, 214089.289794639], [1251108.45898531, 214101.252369136]], \"data17\": [[1277099.72590031, 206898.76611796], [1277235.2672959, 206806.921485379], [1277285.65695889, 206816.211164966]], \"data16\": [[1251420.24871606, 214707.443742052], [1251394.38262606, 214065.085446715]], \"data11\": [[1251105.94553889, 214712.563154384], [1250810.67119506, 214724.833471045]], \"data10\": [[1251098.76215431, 214720.362351388], [1251073.04402989, 214078.131680474]], \"data13\": [[1251427.49181181, 214699.622235388], [1251132.87593123, 214711.463090971]], \"data12\": [[1251081.58797605, 214103.338322967], [1250786.40877639, 214115.181803212]], \"data29\": [[1255493.1235235669, 193963.28909482117], [1255341.1083013, 193500.82504311175]], \"data33\": [[1251098.4622883452, 214712.87412570865], [1250817.2224624828, 214724.5612288828]]}, \"id\": \"el11404478296720\"});\n",
       "   }(mpld3);\n",
       "}else if(typeof define === \"function\" && define.amd){\n",
       "   // require.js is available: use it to load d3/mpld3\n",
       "   require.config({paths: {d3: \"https://mpld3.github.io/js/d3.v3.min\"}});\n",
       "   require([\"d3\"], function(d3){\n",
       "      window.d3 = d3;\n",
       "      mpld3_load_lib(\"https://mpld3.github.io/js/mpld3.v0.2.js\", function(){\n",
       "         \n",
       "         mpld3.draw_figure(\"fig_el114044782967201856317321\", {\"axes\": [{\"xlim\": [1250000.0, 1280000.0], \"yscale\": \"linear\", \"axesbg\": \"none\", \"texts\": [], \"zoomable\": true, \"images\": [], \"xdomain\": [1250000.0, 1280000.0], \"ylim\": [190000.0, 215000.0], \"paths\": [], \"sharey\": [], \"sharex\": [], \"axesbgalpha\": null, \"axes\": [{\"scale\": \"linear\", \"tickformat\": null, \"grid\": {\"gridOn\": false}, \"fontsize\": 10.0, \"position\": \"bottom\", \"nticks\": 7, \"tickvalues\": null}, {\"scale\": \"linear\", \"tickformat\": null, \"grid\": {\"gridOn\": false}, \"fontsize\": 10.0, \"position\": \"left\", \"nticks\": 6, \"tickvalues\": null}], \"lines\": [{\"color\": \"#F22222\", \"yindex\": 1, \"coordinates\": \"data\", \"dasharray\": \"10,0\", \"zorder\": 1, \"alpha\": 0.7, \"xindex\": 0, \"linewidth\": 1, \"data\": \"data01\", \"id\": \"el11404476125648\"}, {\"color\": \"#F22222\", \"yindex\": 1, \"coordinates\": \"data\", \"dasharray\": \"10,0\", \"zorder\": 1, \"alpha\": 0.7, \"xindex\": 0, \"linewidth\": 1, \"data\": \"data02\", \"id\": \"el11404476128144\"}, {\"color\": \"#F22222\", \"yindex\": 1, \"coordinates\": \"data\", \"dasharray\": \"10,0\", \"zorder\": 1, \"alpha\": 0.7, \"xindex\": 0, \"linewidth\": 1, \"data\": \"data03\", \"id\": \"el11404476126608\"}, {\"color\": \"#F22222\", \"yindex\": 1, \"coordinates\": \"data\", \"dasharray\": \"10,0\", \"zorder\": 1, \"alpha\": 0.7, \"xindex\": 0, \"linewidth\": 1, \"data\": \"data04\", \"id\": \"el11404476178768\"}, {\"color\": \"#F22222\", \"yindex\": 1, \"coordinates\": \"data\", \"dasharray\": \"10,0\", \"zorder\": 1, \"alpha\": 0.7, \"xindex\": 0, \"linewidth\": 1, \"data\": \"data05\", \"id\": \"el11404476178832\"}, {\"color\": \"#F22222\", \"yindex\": 1, \"coordinates\": \"data\", \"dasharray\": \"10,0\", \"zorder\": 1, \"alpha\": 0.7, \"xindex\": 0, \"linewidth\": 1, \"data\": \"data06\", \"id\": \"el11404476182032\"}, {\"color\": \"#F22222\", \"yindex\": 1, \"coordinates\": \"data\", \"dasharray\": \"10,0\", \"zorder\": 1, \"alpha\": 0.7, \"xindex\": 0, \"linewidth\": 1, \"data\": \"data07\", \"id\": \"el11404476184720\"}, {\"color\": \"#F22222\", \"yindex\": 1, \"coordinates\": \"data\", \"dasharray\": \"10,0\", \"zorder\": 1, \"alpha\": 0.7, \"xindex\": 0, \"linewidth\": 1, \"data\": \"data08\", \"id\": \"el11404476186448\"}, {\"color\": \"#F22222\", \"yindex\": 1, \"coordinates\": \"data\", \"dasharray\": \"10,0\", \"zorder\": 1, \"alpha\": 0.7, \"xindex\": 0, \"linewidth\": 1, \"data\": \"data09\", \"id\": \"el11404476103888\"}, {\"color\": \"#F22222\", \"yindex\": 1, \"coordinates\": \"data\", \"dasharray\": \"10,0\", \"zorder\": 1, \"alpha\": 0.7, \"xindex\": 0, \"linewidth\": 1, \"data\": \"data10\", \"id\": \"el11404475969232\"}, {\"color\": \"#F22222\", \"yindex\": 1, \"coordinates\": \"data\", \"dasharray\": \"10,0\", \"zorder\": 1, \"alpha\": 0.7, \"xindex\": 0, \"linewidth\": 1, \"data\": \"data11\", \"id\": \"el11404475965776\"}, {\"color\": \"#F22222\", \"yindex\": 1, \"coordinates\": \"data\", \"dasharray\": \"10,0\", \"zorder\": 1, \"alpha\": 0.7, \"xindex\": 0, \"linewidth\": 1, \"data\": \"data12\", \"id\": \"el11404475967248\"}, {\"color\": \"#F22222\", \"yindex\": 1, \"coordinates\": \"data\", \"dasharray\": \"10,0\", \"zorder\": 1, \"alpha\": 0.7, \"xindex\": 0, \"linewidth\": 1, \"data\": \"data13\", \"id\": \"el11404505559632\"}, {\"color\": \"#F22222\", \"yindex\": 1, \"coordinates\": \"data\", \"dasharray\": \"10,0\", \"zorder\": 1, \"alpha\": 0.7, \"xindex\": 0, \"linewidth\": 1, \"data\": \"data14\", \"id\": \"el11404476087888\"}, {\"color\": \"#F22222\", \"yindex\": 1, \"coordinates\": \"data\", \"dasharray\": \"10,0\", \"zorder\": 1, \"alpha\": 0.7, \"xindex\": 0, \"linewidth\": 1, \"data\": \"data15\", \"id\": \"el11404476084816\"}, {\"color\": \"#F22222\", \"yindex\": 1, \"coordinates\": \"data\", \"dasharray\": \"10,0\", \"zorder\": 1, \"alpha\": 0.7, \"xindex\": 0, \"linewidth\": 1, \"data\": \"data16\", \"id\": \"el11404476004048\"}, {\"color\": \"#F22222\", \"yindex\": 1, \"coordinates\": \"data\", \"dasharray\": \"10,0\", \"zorder\": 1, \"alpha\": 0.7, \"xindex\": 0, \"linewidth\": 1, \"data\": \"data17\", \"id\": \"el11404476006288\"}, {\"color\": \"#F22222\", \"yindex\": 1, \"coordinates\": \"data\", \"dasharray\": \"10,0\", \"zorder\": 1, \"alpha\": 0.7, \"xindex\": 0, \"linewidth\": 1, \"data\": \"data18\", \"id\": \"el11404475947856\"}, {\"color\": \"#F22222\", \"yindex\": 1, \"coordinates\": \"data\", \"dasharray\": \"10,0\", \"zorder\": 1, \"alpha\": 0.7, \"xindex\": 0, \"linewidth\": 1, \"data\": \"data19\", \"id\": \"el11404475948880\"}, {\"color\": \"#F22222\", \"yindex\": 1, \"coordinates\": \"data\", \"dasharray\": \"10,0\", \"zorder\": 1, \"alpha\": 0.7, \"xindex\": 0, \"linewidth\": 1, \"data\": \"data20\", \"id\": \"el11404475949008\"}, {\"color\": \"#F22222\", \"yindex\": 1, \"coordinates\": \"data\", \"dasharray\": \"10,0\", \"zorder\": 1, \"alpha\": 0.7, \"xindex\": 0, \"linewidth\": 1, \"data\": \"data21\", \"id\": \"el11404505557072\"}, {\"color\": \"#F22222\", \"yindex\": 1, \"coordinates\": \"data\", \"dasharray\": \"10,0\", \"zorder\": 1, \"alpha\": 0.7, \"xindex\": 0, \"linewidth\": 1, \"data\": \"data22\", \"id\": \"el11404505558864\"}], \"markers\": [], \"id\": \"el11404478525520\", \"ydomain\": [190000.0, 215000.0], \"collections\": [], \"xscale\": \"linear\", \"bbox\": [0.125, 0.125, 0.35227272727272724, 0.77500000000000002]}, {\"xlim\": [1250000.0, 1280000.0], \"yscale\": \"linear\", \"axesbg\": \"none\", \"texts\": [], \"zoomable\": true, \"images\": [], \"xdomain\": [1250000.0, 1280000.0], \"ylim\": [190000.0, 215000.0], \"paths\": [], \"sharey\": [], \"sharex\": [], \"axesbgalpha\": null, \"axes\": [{\"scale\": \"linear\", \"tickformat\": null, \"grid\": {\"gridOn\": false}, \"fontsize\": 10.0, \"position\": \"bottom\", \"nticks\": 7, \"tickvalues\": null}, {\"scale\": \"linear\", \"tickformat\": null, \"grid\": {\"gridOn\": false}, \"fontsize\": 10.0, \"position\": \"left\", \"nticks\": 6, \"tickvalues\": null}], \"lines\": [{\"color\": \"#F22222\", \"yindex\": 1, \"coordinates\": \"data\", \"dasharray\": \"10,0\", \"zorder\": 1, \"alpha\": 0.7, \"xindex\": 0, \"linewidth\": 1, \"data\": \"data23\", \"id\": \"el11404475809424\"}, {\"color\": \"#F22222\", \"yindex\": 1, \"coordinates\": \"data\", \"dasharray\": \"10,0\", \"zorder\": 1, \"alpha\": 0.7, \"xindex\": 0, \"linewidth\": 1, \"data\": \"data24\", \"id\": \"el11404475843536\"}, {\"color\": \"#F22222\", \"yindex\": 1, \"coordinates\": \"data\", \"dasharray\": \"10,0\", \"zorder\": 1, \"alpha\": 0.7, \"xindex\": 0, \"linewidth\": 1, \"data\": \"data25\", \"id\": \"el11404476131856\"}, {\"color\": \"#F22222\", \"yindex\": 1, \"coordinates\": \"data\", \"dasharray\": \"10,0\", \"zorder\": 1, \"alpha\": 0.7, \"xindex\": 0, \"linewidth\": 1, \"data\": \"data26\", \"id\": \"el11404478701520\"}, {\"color\": \"#F22222\", \"yindex\": 1, \"coordinates\": \"data\", \"dasharray\": \"10,0\", \"zorder\": 1, \"alpha\": 0.7, \"xindex\": 0, \"linewidth\": 1, \"data\": \"data27\", \"id\": \"el11404478697552\"}, {\"color\": \"#F22222\", \"yindex\": 1, \"coordinates\": \"data\", \"dasharray\": \"10,0\", \"zorder\": 1, \"alpha\": 0.7, \"xindex\": 0, \"linewidth\": 1, \"data\": \"data28\", \"id\": \"el11404478700048\"}, {\"color\": \"#F22222\", \"yindex\": 1, \"coordinates\": \"data\", \"dasharray\": \"10,0\", \"zorder\": 1, \"alpha\": 0.7, \"xindex\": 0, \"linewidth\": 1, \"data\": \"data29\", \"id\": \"el11404476139984\"}, {\"color\": \"#F22222\", \"yindex\": 1, \"coordinates\": \"data\", \"dasharray\": \"10,0\", \"zorder\": 1, \"alpha\": 0.7, \"xindex\": 0, \"linewidth\": 1, \"data\": \"data30\", \"id\": \"el11404476141264\"}, {\"color\": \"#F22222\", \"yindex\": 1, \"coordinates\": \"data\", \"dasharray\": \"10,0\", \"zorder\": 1, \"alpha\": 0.7, \"xindex\": 0, \"linewidth\": 1, \"data\": \"data31\", \"id\": \"el11404478594320\"}, {\"color\": \"#F22222\", \"yindex\": 1, \"coordinates\": \"data\", \"dasharray\": \"10,0\", \"zorder\": 1, \"alpha\": 0.7, \"xindex\": 0, \"linewidth\": 1, \"data\": \"data32\", \"id\": \"el11404478661904\"}, {\"color\": \"#F22222\", \"yindex\": 1, \"coordinates\": \"data\", \"dasharray\": \"10,0\", \"zorder\": 1, \"alpha\": 0.7, \"xindex\": 0, \"linewidth\": 1, \"data\": \"data33\", \"id\": \"el11404476192912\"}, {\"color\": \"#F22222\", \"yindex\": 1, \"coordinates\": \"data\", \"dasharray\": \"10,0\", \"zorder\": 1, \"alpha\": 0.7, \"xindex\": 0, \"linewidth\": 1, \"data\": \"data34\", \"id\": \"el11404476191952\"}, {\"color\": \"#F22222\", \"yindex\": 1, \"coordinates\": \"data\", \"dasharray\": \"10,0\", \"zorder\": 1, \"alpha\": 0.7, \"xindex\": 0, \"linewidth\": 1, \"data\": \"data35\", \"id\": \"el11404476190800\"}, {\"color\": \"#F22222\", \"yindex\": 1, \"coordinates\": \"data\", \"dasharray\": \"10,0\", \"zorder\": 1, \"alpha\": 0.7, \"xindex\": 0, \"linewidth\": 1, \"data\": \"data36\", \"id\": \"el11404478499792\"}, {\"color\": \"#F22222\", \"yindex\": 1, \"coordinates\": \"data\", \"dasharray\": \"10,0\", \"zorder\": 1, \"alpha\": 0.7, \"xindex\": 0, \"linewidth\": 1, \"data\": \"data37\", \"id\": \"el11404476154512\"}, {\"color\": \"#F22222\", \"yindex\": 1, \"coordinates\": \"data\", \"dasharray\": \"10,0\", \"zorder\": 1, \"alpha\": 0.7, \"xindex\": 0, \"linewidth\": 1, \"data\": \"data38\", \"id\": \"el11404476153936\"}, {\"color\": \"#F22222\", \"yindex\": 1, \"coordinates\": \"data\", \"dasharray\": \"10,0\", \"zorder\": 1, \"alpha\": 0.7, \"xindex\": 0, \"linewidth\": 1, \"data\": \"data39\", \"id\": \"el11404478637904\"}, {\"color\": \"#F22222\", \"yindex\": 1, \"coordinates\": \"data\", \"dasharray\": \"10,0\", \"zorder\": 1, \"alpha\": 0.7, \"xindex\": 0, \"linewidth\": 1, \"data\": \"data40\", \"id\": \"el11404478649872\"}, {\"color\": \"#F22222\", \"yindex\": 1, \"coordinates\": \"data\", \"dasharray\": \"10,0\", \"zorder\": 1, \"alpha\": 0.7, \"xindex\": 0, \"linewidth\": 1, \"data\": \"data41\", \"id\": \"el11404478651792\"}, {\"color\": \"#F22222\", \"yindex\": 1, \"coordinates\": \"data\", \"dasharray\": \"10,0\", \"zorder\": 1, \"alpha\": 0.7, \"xindex\": 0, \"linewidth\": 1, \"data\": \"data42\", \"id\": \"el11404475847824\"}, {\"color\": \"#F22222\", \"yindex\": 1, \"coordinates\": \"data\", \"dasharray\": \"10,0\", \"zorder\": 1, \"alpha\": 0.7, \"xindex\": 0, \"linewidth\": 1, \"data\": \"data43\", \"id\": \"el11404475849424\"}, {\"color\": \"#F22222\", \"yindex\": 1, \"coordinates\": \"data\", \"dasharray\": \"10,0\", \"zorder\": 1, \"alpha\": 0.7, \"xindex\": 0, \"linewidth\": 1, \"data\": \"data44\", \"id\": \"el11404475916624\"}], \"markers\": [], \"id\": \"el11404476112720\", \"ydomain\": [190000.0, 215000.0], \"collections\": [], \"xscale\": \"linear\", \"bbox\": [0.54772727272727262, 0.125, 0.35227272727272729, 0.77500000000000002]}], \"height\": 450.0, \"width\": 900.0, \"plugins\": [{\"type\": \"reset\"}, {\"enabled\": false, \"button\": true, \"type\": \"zoom\"}, {\"enabled\": false, \"button\": true, \"type\": \"boxzoom\"}], \"data\": {\"data42\": [[1276949.0580712447, 207660.36957223905], [1276885.5036928996, 207528.75725682927]], \"data43\": [[1276949.0580712447, 207660.36957223905], [1277144.1968371146, 207562.38313467006]], \"data40\": [[1277249.642103095, 207007.60349871952], [1277279.801630209, 206815.13169500936]], \"data41\": [[1277144.1968371146, 207562.38313467006], [1277249.642103095, 207007.60349871952]], \"data44\": [[1276885.5036928996, 207528.75725682927], [1276877.64563581, 207488.997877136], [1276878.64169681, 207436.270620391], [1276886.37494905, 207403.395029962], [1276908.99695106, 207355.735676467], [1276929.84566264, 207328.61007455], [1276954.87153123, 207305.490698218], [1277024.9724409, 207265.344124973], [1277047.30376107, 207248.26016964], [1277074.46184322, 207216.803539634], [1277093.42046672, 207179.070347384], [1277124.8462569, 207020.443696126], [1277128.0470379, 206987.470336884], [1277122.07099998, 206938.122994632], [1277104.7493868512, 206895.36213740017]], \"data28\": [[1255341.1083013, 193500.82504311175], [1255155.69531339, 193415.864278048], [1255107.832653154, 193405.91927413517]], \"data06\": [[1255337.49547473, 193499.169557631], [1255155.69531339, 193415.864278048], [1255095.4336229, 193403.342977628]], \"data08\": [[1255315.92465173, 194125.550194636], [1255115.80464514, 193519.360462129], [1255107.08353397, 193395.259332389]], \"data09\": [[1250817.52321547, 214732.106094301], [1250791.9048284, 214089.428245798]], \"data20\": [[1276955.58675289, 207673.889567718], [1276893.22631331, 207544.749734133]], \"data21\": [[1276950.78361289, 207659.503113553], [1277122.79081482, 207573.131895214]], \"data22\": [[1276884.72436181, 207524.814078465], [1276877.64563581, 207488.997877136], [1276878.64169681, 207436.270620391], [1276886.37494905, 207403.395029962], [1276908.99695106, 207355.735676467], [1276929.84566264, 207328.61007455], [1276954.87153123, 207305.490698218], [1277024.9724409, 207265.344124973], [1277047.30376107, 207248.26016964], [1277074.46184322, 207216.803539634], [1277093.42046672, 207179.070347384], [1277124.8462569, 207020.443696126], [1277128.0470379, 206987.470336884], [1277122.07099998, 206938.122994632], [1277103.88730931, 206893.233976796]], \"data05\": [[1255492.94693547, 193963.425518885], [1255295.96832681, 194115.602379888]], \"data02\": [[1255076.1321523, 193404.484379545], [1255021.58764197, 193413.560476884], [1254877.71063314, 193461.121733472], [1254858.82976539, 193471.062658474], [1254844.39213023, 193486.04097496]], \"data04\": [[1255089.30240156, 194300.672219723], [1254838.81701015, 193538.456224471], [1254835.50369656, 193517.105545387], [1254837.9656339, 193499.805383131]], \"data26\": [[1255082.97601421, 194281.4213021221], [1254838.81701015, 193538.456224471], [1254835.50369656, 193517.105545387], [1254839.1505610845, 193491.47883792562]], \"data01\": [[1255276.99133064, 194138.403187305], [1255075.26469998, 193527.346994713], [1255066.18433756, 193398.133342385]], \"data23\": [[1255275.1826470105, 194132.9244494284], [1255075.26469998, 193527.346994713], [1255066.7404716567, 193406.04713640505]], \"data24\": [[1255066.7404716567, 193406.04713640505], [1255021.58764197, 193413.560476884], [1254877.71063314, 193461.121733472], [1254858.82976539, 193471.062658474], [1254839.1505610845, 193491.47883792562]], \"data03\": [[1255275.28234456, 194132.847424135], [1255069.95828015, 194291.478668556]], \"data27\": [[1255493.1235235669, 193963.28909482117], [1255309.2525656368, 194105.33957125503]], \"data07\": [[1255495.24909623, 193969.755558714], [1255342.69986065, 193505.666919962]], \"data37\": [[1251139.4280383808, 214711.19975637278], [1251114.992070111, 214100.98697257426]], \"data36\": [[1251395.3696448011, 214089.59706312456], [1251114.992070111, 214100.98697257426]], \"data35\": [[1251419.9459764508, 214699.92550874368], [1251139.4280383808, 214711.19975637278]], \"data34\": [[1251074.0655163112, 214103.64014675206], [1250792.9209996809, 214114.9205131618]], \"data25\": [[1255275.1826470105, 194132.9244494284], [1255082.97601421, 194281.4213021221]], \"data32\": [[1251098.4622883452, 214712.87412570865], [1251074.0655163112, 214103.64014675206]], \"data31\": [[1250817.2224624828, 214724.5612288828], [1250792.9209996809, 214114.9205131618]], \"data30\": [[1255309.2525656368, 194105.33957125503], [1255115.80464514, 193519.360462129], [1255107.832653154, 193405.91927413517]], \"data39\": [[1277104.7493868512, 206895.36213740017], [1277235.2672959, 206806.921485379], [1277279.801630209, 206815.13169500936]], \"data38\": [[1251419.9459764508, 214699.92550874368], [1251395.3696448011, 214089.59706312456]], \"data19\": [[1277140.07752565, 207584.056085974], [1277246.93656389, 207020.393827468]], \"data18\": [[1277252.3476423, 206994.813169971], [1277280.70388481, 206809.226598889]], \"data15\": [[1251139.72926398, 214718.721934721], [1251114.01113956, 214076.491263807]], \"data14\": [[1251402.93346198, 214089.289794639], [1251108.45898531, 214101.252369136]], \"data17\": [[1277099.72590031, 206898.76611796], [1277235.2672959, 206806.921485379], [1277285.65695889, 206816.211164966]], \"data16\": [[1251420.24871606, 214707.443742052], [1251394.38262606, 214065.085446715]], \"data11\": [[1251105.94553889, 214712.563154384], [1250810.67119506, 214724.833471045]], \"data10\": [[1251098.76215431, 214720.362351388], [1251073.04402989, 214078.131680474]], \"data13\": [[1251427.49181181, 214699.622235388], [1251132.87593123, 214711.463090971]], \"data12\": [[1251081.58797605, 214103.338322967], [1250786.40877639, 214115.181803212]], \"data29\": [[1255493.1235235669, 193963.28909482117], [1255341.1083013, 193500.82504311175]], \"data33\": [[1251098.4622883452, 214712.87412570865], [1250817.2224624828, 214724.5612288828]]}, \"id\": \"el11404478296720\"});\n",
       "      });\n",
       "    });\n",
       "}else{\n",
       "    // require.js not available: dynamically load d3 & mpld3\n",
       "    mpld3_load_lib(\"https://mpld3.github.io/js/d3.v3.min.js\", function(){\n",
       "         mpld3_load_lib(\"https://mpld3.github.io/js/mpld3.v0.2.js\", function(){\n",
       "                 \n",
       "                 mpld3.draw_figure(\"fig_el114044782967201856317321\", {\"axes\": [{\"xlim\": [1250000.0, 1280000.0], \"yscale\": \"linear\", \"axesbg\": \"none\", \"texts\": [], \"zoomable\": true, \"images\": [], \"xdomain\": [1250000.0, 1280000.0], \"ylim\": [190000.0, 215000.0], \"paths\": [], \"sharey\": [], \"sharex\": [], \"axesbgalpha\": null, \"axes\": [{\"scale\": \"linear\", \"tickformat\": null, \"grid\": {\"gridOn\": false}, \"fontsize\": 10.0, \"position\": \"bottom\", \"nticks\": 7, \"tickvalues\": null}, {\"scale\": \"linear\", \"tickformat\": null, \"grid\": {\"gridOn\": false}, \"fontsize\": 10.0, \"position\": \"left\", \"nticks\": 6, \"tickvalues\": null}], \"lines\": [{\"color\": \"#F22222\", \"yindex\": 1, \"coordinates\": \"data\", \"dasharray\": \"10,0\", \"zorder\": 1, \"alpha\": 0.7, \"xindex\": 0, \"linewidth\": 1, \"data\": \"data01\", \"id\": \"el11404476125648\"}, {\"color\": \"#F22222\", \"yindex\": 1, \"coordinates\": \"data\", \"dasharray\": \"10,0\", \"zorder\": 1, \"alpha\": 0.7, \"xindex\": 0, \"linewidth\": 1, \"data\": \"data02\", \"id\": \"el11404476128144\"}, {\"color\": \"#F22222\", \"yindex\": 1, \"coordinates\": \"data\", \"dasharray\": \"10,0\", \"zorder\": 1, \"alpha\": 0.7, \"xindex\": 0, \"linewidth\": 1, \"data\": \"data03\", \"id\": \"el11404476126608\"}, {\"color\": \"#F22222\", \"yindex\": 1, \"coordinates\": \"data\", \"dasharray\": \"10,0\", \"zorder\": 1, \"alpha\": 0.7, \"xindex\": 0, \"linewidth\": 1, \"data\": \"data04\", \"id\": \"el11404476178768\"}, {\"color\": \"#F22222\", \"yindex\": 1, \"coordinates\": \"data\", \"dasharray\": \"10,0\", \"zorder\": 1, \"alpha\": 0.7, \"xindex\": 0, \"linewidth\": 1, \"data\": \"data05\", \"id\": \"el11404476178832\"}, {\"color\": \"#F22222\", \"yindex\": 1, \"coordinates\": \"data\", \"dasharray\": \"10,0\", \"zorder\": 1, \"alpha\": 0.7, \"xindex\": 0, \"linewidth\": 1, \"data\": \"data06\", \"id\": \"el11404476182032\"}, {\"color\": \"#F22222\", \"yindex\": 1, \"coordinates\": \"data\", \"dasharray\": \"10,0\", \"zorder\": 1, \"alpha\": 0.7, \"xindex\": 0, \"linewidth\": 1, \"data\": \"data07\", \"id\": \"el11404476184720\"}, {\"color\": \"#F22222\", \"yindex\": 1, \"coordinates\": \"data\", \"dasharray\": \"10,0\", \"zorder\": 1, \"alpha\": 0.7, \"xindex\": 0, \"linewidth\": 1, \"data\": \"data08\", \"id\": \"el11404476186448\"}, {\"color\": \"#F22222\", \"yindex\": 1, \"coordinates\": \"data\", \"dasharray\": \"10,0\", \"zorder\": 1, \"alpha\": 0.7, \"xindex\": 0, \"linewidth\": 1, \"data\": \"data09\", \"id\": \"el11404476103888\"}, {\"color\": \"#F22222\", \"yindex\": 1, \"coordinates\": \"data\", \"dasharray\": \"10,0\", \"zorder\": 1, \"alpha\": 0.7, \"xindex\": 0, \"linewidth\": 1, \"data\": \"data10\", \"id\": \"el11404475969232\"}, {\"color\": \"#F22222\", \"yindex\": 1, \"coordinates\": \"data\", \"dasharray\": \"10,0\", \"zorder\": 1, \"alpha\": 0.7, \"xindex\": 0, \"linewidth\": 1, \"data\": \"data11\", \"id\": \"el11404475965776\"}, {\"color\": \"#F22222\", \"yindex\": 1, \"coordinates\": \"data\", \"dasharray\": \"10,0\", \"zorder\": 1, \"alpha\": 0.7, \"xindex\": 0, \"linewidth\": 1, \"data\": \"data12\", \"id\": \"el11404475967248\"}, {\"color\": \"#F22222\", \"yindex\": 1, \"coordinates\": \"data\", \"dasharray\": \"10,0\", \"zorder\": 1, \"alpha\": 0.7, \"xindex\": 0, \"linewidth\": 1, \"data\": \"data13\", \"id\": \"el11404505559632\"}, {\"color\": \"#F22222\", \"yindex\": 1, \"coordinates\": \"data\", \"dasharray\": \"10,0\", \"zorder\": 1, \"alpha\": 0.7, \"xindex\": 0, \"linewidth\": 1, \"data\": \"data14\", \"id\": \"el11404476087888\"}, {\"color\": \"#F22222\", \"yindex\": 1, \"coordinates\": \"data\", \"dasharray\": \"10,0\", \"zorder\": 1, \"alpha\": 0.7, \"xindex\": 0, \"linewidth\": 1, \"data\": \"data15\", \"id\": \"el11404476084816\"}, {\"color\": \"#F22222\", \"yindex\": 1, \"coordinates\": \"data\", \"dasharray\": \"10,0\", \"zorder\": 1, \"alpha\": 0.7, \"xindex\": 0, \"linewidth\": 1, \"data\": \"data16\", \"id\": \"el11404476004048\"}, {\"color\": \"#F22222\", \"yindex\": 1, \"coordinates\": \"data\", \"dasharray\": \"10,0\", \"zorder\": 1, \"alpha\": 0.7, \"xindex\": 0, \"linewidth\": 1, \"data\": \"data17\", \"id\": \"el11404476006288\"}, {\"color\": \"#F22222\", \"yindex\": 1, \"coordinates\": \"data\", \"dasharray\": \"10,0\", \"zorder\": 1, \"alpha\": 0.7, \"xindex\": 0, \"linewidth\": 1, \"data\": \"data18\", \"id\": \"el11404475947856\"}, {\"color\": \"#F22222\", \"yindex\": 1, \"coordinates\": \"data\", \"dasharray\": \"10,0\", \"zorder\": 1, \"alpha\": 0.7, \"xindex\": 0, \"linewidth\": 1, \"data\": \"data19\", \"id\": \"el11404475948880\"}, {\"color\": \"#F22222\", \"yindex\": 1, \"coordinates\": \"data\", \"dasharray\": \"10,0\", \"zorder\": 1, \"alpha\": 0.7, \"xindex\": 0, \"linewidth\": 1, \"data\": \"data20\", \"id\": \"el11404475949008\"}, {\"color\": \"#F22222\", \"yindex\": 1, \"coordinates\": \"data\", \"dasharray\": \"10,0\", \"zorder\": 1, \"alpha\": 0.7, \"xindex\": 0, \"linewidth\": 1, \"data\": \"data21\", \"id\": \"el11404505557072\"}, {\"color\": \"#F22222\", \"yindex\": 1, \"coordinates\": \"data\", \"dasharray\": \"10,0\", \"zorder\": 1, \"alpha\": 0.7, \"xindex\": 0, \"linewidth\": 1, \"data\": \"data22\", \"id\": \"el11404505558864\"}], \"markers\": [], \"id\": \"el11404478525520\", \"ydomain\": [190000.0, 215000.0], \"collections\": [], \"xscale\": \"linear\", \"bbox\": [0.125, 0.125, 0.35227272727272724, 0.77500000000000002]}, {\"xlim\": [1250000.0, 1280000.0], \"yscale\": \"linear\", \"axesbg\": \"none\", \"texts\": [], \"zoomable\": true, \"images\": [], \"xdomain\": [1250000.0, 1280000.0], \"ylim\": [190000.0, 215000.0], \"paths\": [], \"sharey\": [], \"sharex\": [], \"axesbgalpha\": null, \"axes\": [{\"scale\": \"linear\", \"tickformat\": null, \"grid\": {\"gridOn\": false}, \"fontsize\": 10.0, \"position\": \"bottom\", \"nticks\": 7, \"tickvalues\": null}, {\"scale\": \"linear\", \"tickformat\": null, \"grid\": {\"gridOn\": false}, \"fontsize\": 10.0, \"position\": \"left\", \"nticks\": 6, \"tickvalues\": null}], \"lines\": [{\"color\": \"#F22222\", \"yindex\": 1, \"coordinates\": \"data\", \"dasharray\": \"10,0\", \"zorder\": 1, \"alpha\": 0.7, \"xindex\": 0, \"linewidth\": 1, \"data\": \"data23\", \"id\": \"el11404475809424\"}, {\"color\": \"#F22222\", \"yindex\": 1, \"coordinates\": \"data\", \"dasharray\": \"10,0\", \"zorder\": 1, \"alpha\": 0.7, \"xindex\": 0, \"linewidth\": 1, \"data\": \"data24\", \"id\": \"el11404475843536\"}, {\"color\": \"#F22222\", \"yindex\": 1, \"coordinates\": \"data\", \"dasharray\": \"10,0\", \"zorder\": 1, \"alpha\": 0.7, \"xindex\": 0, \"linewidth\": 1, \"data\": \"data25\", \"id\": \"el11404476131856\"}, {\"color\": \"#F22222\", \"yindex\": 1, \"coordinates\": \"data\", \"dasharray\": \"10,0\", \"zorder\": 1, \"alpha\": 0.7, \"xindex\": 0, \"linewidth\": 1, \"data\": \"data26\", \"id\": \"el11404478701520\"}, {\"color\": \"#F22222\", \"yindex\": 1, \"coordinates\": \"data\", \"dasharray\": \"10,0\", \"zorder\": 1, \"alpha\": 0.7, \"xindex\": 0, \"linewidth\": 1, \"data\": \"data27\", \"id\": \"el11404478697552\"}, {\"color\": \"#F22222\", \"yindex\": 1, \"coordinates\": \"data\", \"dasharray\": \"10,0\", \"zorder\": 1, \"alpha\": 0.7, \"xindex\": 0, \"linewidth\": 1, \"data\": \"data28\", \"id\": \"el11404478700048\"}, {\"color\": \"#F22222\", \"yindex\": 1, \"coordinates\": \"data\", \"dasharray\": \"10,0\", \"zorder\": 1, \"alpha\": 0.7, \"xindex\": 0, \"linewidth\": 1, \"data\": \"data29\", \"id\": \"el11404476139984\"}, {\"color\": \"#F22222\", \"yindex\": 1, \"coordinates\": \"data\", \"dasharray\": \"10,0\", \"zorder\": 1, \"alpha\": 0.7, \"xindex\": 0, \"linewidth\": 1, \"data\": \"data30\", \"id\": \"el11404476141264\"}, {\"color\": \"#F22222\", \"yindex\": 1, \"coordinates\": \"data\", \"dasharray\": \"10,0\", \"zorder\": 1, \"alpha\": 0.7, \"xindex\": 0, \"linewidth\": 1, \"data\": \"data31\", \"id\": \"el11404478594320\"}, {\"color\": \"#F22222\", \"yindex\": 1, \"coordinates\": \"data\", \"dasharray\": \"10,0\", \"zorder\": 1, \"alpha\": 0.7, \"xindex\": 0, \"linewidth\": 1, \"data\": \"data32\", \"id\": \"el11404478661904\"}, {\"color\": \"#F22222\", \"yindex\": 1, \"coordinates\": \"data\", \"dasharray\": \"10,0\", \"zorder\": 1, \"alpha\": 0.7, \"xindex\": 0, \"linewidth\": 1, \"data\": \"data33\", \"id\": \"el11404476192912\"}, {\"color\": \"#F22222\", \"yindex\": 1, \"coordinates\": \"data\", \"dasharray\": \"10,0\", \"zorder\": 1, \"alpha\": 0.7, \"xindex\": 0, \"linewidth\": 1, \"data\": \"data34\", \"id\": \"el11404476191952\"}, {\"color\": \"#F22222\", \"yindex\": 1, \"coordinates\": \"data\", \"dasharray\": \"10,0\", \"zorder\": 1, \"alpha\": 0.7, \"xindex\": 0, \"linewidth\": 1, \"data\": \"data35\", \"id\": \"el11404476190800\"}, {\"color\": \"#F22222\", \"yindex\": 1, \"coordinates\": \"data\", \"dasharray\": \"10,0\", \"zorder\": 1, \"alpha\": 0.7, \"xindex\": 0, \"linewidth\": 1, \"data\": \"data36\", \"id\": \"el11404478499792\"}, {\"color\": \"#F22222\", \"yindex\": 1, \"coordinates\": \"data\", \"dasharray\": \"10,0\", \"zorder\": 1, \"alpha\": 0.7, \"xindex\": 0, \"linewidth\": 1, \"data\": \"data37\", \"id\": \"el11404476154512\"}, {\"color\": \"#F22222\", \"yindex\": 1, \"coordinates\": \"data\", \"dasharray\": \"10,0\", \"zorder\": 1, \"alpha\": 0.7, \"xindex\": 0, \"linewidth\": 1, \"data\": \"data38\", \"id\": \"el11404476153936\"}, {\"color\": \"#F22222\", \"yindex\": 1, \"coordinates\": \"data\", \"dasharray\": \"10,0\", \"zorder\": 1, \"alpha\": 0.7, \"xindex\": 0, \"linewidth\": 1, \"data\": \"data39\", \"id\": \"el11404478637904\"}, {\"color\": \"#F22222\", \"yindex\": 1, \"coordinates\": \"data\", \"dasharray\": \"10,0\", \"zorder\": 1, \"alpha\": 0.7, \"xindex\": 0, \"linewidth\": 1, \"data\": \"data40\", \"id\": \"el11404478649872\"}, {\"color\": \"#F22222\", \"yindex\": 1, \"coordinates\": \"data\", \"dasharray\": \"10,0\", \"zorder\": 1, \"alpha\": 0.7, \"xindex\": 0, \"linewidth\": 1, \"data\": \"data41\", \"id\": \"el11404478651792\"}, {\"color\": \"#F22222\", \"yindex\": 1, \"coordinates\": \"data\", \"dasharray\": \"10,0\", \"zorder\": 1, \"alpha\": 0.7, \"xindex\": 0, \"linewidth\": 1, \"data\": \"data42\", \"id\": \"el11404475847824\"}, {\"color\": \"#F22222\", \"yindex\": 1, \"coordinates\": \"data\", \"dasharray\": \"10,0\", \"zorder\": 1, \"alpha\": 0.7, \"xindex\": 0, \"linewidth\": 1, \"data\": \"data43\", \"id\": \"el11404475849424\"}, {\"color\": \"#F22222\", \"yindex\": 1, \"coordinates\": \"data\", \"dasharray\": \"10,0\", \"zorder\": 1, \"alpha\": 0.7, \"xindex\": 0, \"linewidth\": 1, \"data\": \"data44\", \"id\": \"el11404475916624\"}], \"markers\": [], \"id\": \"el11404476112720\", \"ydomain\": [190000.0, 215000.0], \"collections\": [], \"xscale\": \"linear\", \"bbox\": [0.54772727272727262, 0.125, 0.35227272727272729, 0.77500000000000002]}], \"height\": 450.0, \"width\": 900.0, \"plugins\": [{\"type\": \"reset\"}, {\"enabled\": false, \"button\": true, \"type\": \"zoom\"}, {\"enabled\": false, \"button\": true, \"type\": \"boxzoom\"}], \"data\": {\"data42\": [[1276949.0580712447, 207660.36957223905], [1276885.5036928996, 207528.75725682927]], \"data43\": [[1276949.0580712447, 207660.36957223905], [1277144.1968371146, 207562.38313467006]], \"data40\": [[1277249.642103095, 207007.60349871952], [1277279.801630209, 206815.13169500936]], \"data41\": [[1277144.1968371146, 207562.38313467006], [1277249.642103095, 207007.60349871952]], \"data44\": [[1276885.5036928996, 207528.75725682927], [1276877.64563581, 207488.997877136], [1276878.64169681, 207436.270620391], [1276886.37494905, 207403.395029962], [1276908.99695106, 207355.735676467], [1276929.84566264, 207328.61007455], [1276954.87153123, 207305.490698218], [1277024.9724409, 207265.344124973], [1277047.30376107, 207248.26016964], [1277074.46184322, 207216.803539634], [1277093.42046672, 207179.070347384], [1277124.8462569, 207020.443696126], [1277128.0470379, 206987.470336884], [1277122.07099998, 206938.122994632], [1277104.7493868512, 206895.36213740017]], \"data28\": [[1255341.1083013, 193500.82504311175], [1255155.69531339, 193415.864278048], [1255107.832653154, 193405.91927413517]], \"data06\": [[1255337.49547473, 193499.169557631], [1255155.69531339, 193415.864278048], [1255095.4336229, 193403.342977628]], \"data08\": [[1255315.92465173, 194125.550194636], [1255115.80464514, 193519.360462129], [1255107.08353397, 193395.259332389]], \"data09\": [[1250817.52321547, 214732.106094301], [1250791.9048284, 214089.428245798]], \"data20\": [[1276955.58675289, 207673.889567718], [1276893.22631331, 207544.749734133]], \"data21\": [[1276950.78361289, 207659.503113553], [1277122.79081482, 207573.131895214]], \"data22\": [[1276884.72436181, 207524.814078465], [1276877.64563581, 207488.997877136], [1276878.64169681, 207436.270620391], [1276886.37494905, 207403.395029962], [1276908.99695106, 207355.735676467], [1276929.84566264, 207328.61007455], [1276954.87153123, 207305.490698218], [1277024.9724409, 207265.344124973], [1277047.30376107, 207248.26016964], [1277074.46184322, 207216.803539634], [1277093.42046672, 207179.070347384], [1277124.8462569, 207020.443696126], [1277128.0470379, 206987.470336884], [1277122.07099998, 206938.122994632], [1277103.88730931, 206893.233976796]], \"data05\": [[1255492.94693547, 193963.425518885], [1255295.96832681, 194115.602379888]], \"data02\": [[1255076.1321523, 193404.484379545], [1255021.58764197, 193413.560476884], [1254877.71063314, 193461.121733472], [1254858.82976539, 193471.062658474], [1254844.39213023, 193486.04097496]], \"data04\": [[1255089.30240156, 194300.672219723], [1254838.81701015, 193538.456224471], [1254835.50369656, 193517.105545387], [1254837.9656339, 193499.805383131]], \"data26\": [[1255082.97601421, 194281.4213021221], [1254838.81701015, 193538.456224471], [1254835.50369656, 193517.105545387], [1254839.1505610845, 193491.47883792562]], \"data01\": [[1255276.99133064, 194138.403187305], [1255075.26469998, 193527.346994713], [1255066.18433756, 193398.133342385]], \"data23\": [[1255275.1826470105, 194132.9244494284], [1255075.26469998, 193527.346994713], [1255066.7404716567, 193406.04713640505]], \"data24\": [[1255066.7404716567, 193406.04713640505], [1255021.58764197, 193413.560476884], [1254877.71063314, 193461.121733472], [1254858.82976539, 193471.062658474], [1254839.1505610845, 193491.47883792562]], \"data03\": [[1255275.28234456, 194132.847424135], [1255069.95828015, 194291.478668556]], \"data27\": [[1255493.1235235669, 193963.28909482117], [1255309.2525656368, 194105.33957125503]], \"data07\": [[1255495.24909623, 193969.755558714], [1255342.69986065, 193505.666919962]], \"data37\": [[1251139.4280383808, 214711.19975637278], [1251114.992070111, 214100.98697257426]], \"data36\": [[1251395.3696448011, 214089.59706312456], [1251114.992070111, 214100.98697257426]], \"data35\": [[1251419.9459764508, 214699.92550874368], [1251139.4280383808, 214711.19975637278]], \"data34\": [[1251074.0655163112, 214103.64014675206], [1250792.9209996809, 214114.9205131618]], \"data25\": [[1255275.1826470105, 194132.9244494284], [1255082.97601421, 194281.4213021221]], \"data32\": [[1251098.4622883452, 214712.87412570865], [1251074.0655163112, 214103.64014675206]], \"data31\": [[1250817.2224624828, 214724.5612288828], [1250792.9209996809, 214114.9205131618]], \"data30\": [[1255309.2525656368, 194105.33957125503], [1255115.80464514, 193519.360462129], [1255107.832653154, 193405.91927413517]], \"data39\": [[1277104.7493868512, 206895.36213740017], [1277235.2672959, 206806.921485379], [1277279.801630209, 206815.13169500936]], \"data38\": [[1251419.9459764508, 214699.92550874368], [1251395.3696448011, 214089.59706312456]], \"data19\": [[1277140.07752565, 207584.056085974], [1277246.93656389, 207020.393827468]], \"data18\": [[1277252.3476423, 206994.813169971], [1277280.70388481, 206809.226598889]], \"data15\": [[1251139.72926398, 214718.721934721], [1251114.01113956, 214076.491263807]], \"data14\": [[1251402.93346198, 214089.289794639], [1251108.45898531, 214101.252369136]], \"data17\": [[1277099.72590031, 206898.76611796], [1277235.2672959, 206806.921485379], [1277285.65695889, 206816.211164966]], \"data16\": [[1251420.24871606, 214707.443742052], [1251394.38262606, 214065.085446715]], \"data11\": [[1251105.94553889, 214712.563154384], [1250810.67119506, 214724.833471045]], \"data10\": [[1251098.76215431, 214720.362351388], [1251073.04402989, 214078.131680474]], \"data13\": [[1251427.49181181, 214699.622235388], [1251132.87593123, 214711.463090971]], \"data12\": [[1251081.58797605, 214103.338322967], [1250786.40877639, 214115.181803212]], \"data29\": [[1255493.1235235669, 193963.28909482117], [1255341.1083013, 193500.82504311175]], \"data33\": [[1251098.4622883452, 214712.87412570865], [1250817.2224624828, 214724.5612288828]]}, \"id\": \"el11404478296720\"});\n",
       "            })\n",
       "         });\n",
       "}\n",
       "</script>"
      ],
      "text/plain": [
       "<matplotlib.figure.Figure at 0x10aed6290>"
      ]
     },
     "metadata": {},
     "output_type": "display_data"
    }
   ],
   "source": [
    "fig = pyplot.figure(1, figsize=(10,5), dpi=90)\n",
    "ax = fig.add_subplot(121)\n",
    "for row in SWProcessedList:\n",
    "    for line in row[1]['coordinates']:\n",
    "        plot_line(ax, line, '#F22222')\n",
    "# handle_axesLimTitle_for_lineList(ax, firstPol, \"Lines\")\n",
    "ax = fig.add_subplot(122)\n",
    "for element in cleanSWList:\n",
    "    for line in element[1]['coordinates']:\n",
    "        plot_line(ax, line, '#F22222')\n",
    "# handle_axesLimTitle_for_lineList(ax, group, \"Lines Clean\")"
   ]
  },
  {
   "cell_type": "markdown",
   "metadata": {},
   "source": [
    "## Create a table called \"CleanSW\" with two columns:\n",
    "1. PolygonID: includes Polygon ID\n",
    "2. SWwithinPolGeom: includes the geometry of all sidewalks within each polygon"
   ]
  },
  {
   "cell_type": "code",
   "execution_count": 11,
   "metadata": {
    "collapsed": false
   },
   "outputs": [
    {
     "name": "stdout",
     "output_type": "stream",
     "text": [
      "Opened database successfully\n",
      "Table created\n"
     ]
    }
   ],
   "source": [
    "conn = psycopg2.connect(database=\"****\", user=\"****\", password=\"****\", host=\"****\", port=\"****\")\n",
    "print \"Opened database successfully\"\n",
    "cur = conn.cursor()\n",
    "# Delete the table if already exist\n",
    "cur.execute('''DROP TABLE IF EXISTS CleanSW''')\n",
    "# Create table CleanSW\n",
    "cur.execute('''CREATE TABLE CleanSW (PolygonID INT, SWwithinPolGeom geometry(MULTILINESTRING, 2926));''')\n",
    "print \"Table created\"\n",
    "conn.commit()\n",
    "conn.close()"
   ]
  },
  {
   "cell_type": "markdown",
   "metadata": {},
   "source": [
    "## Put clean data into the created table:"
   ]
  },
  {
   "cell_type": "code",
   "execution_count": 12,
   "metadata": {
    "collapsed": false
   },
   "outputs": [
    {
     "name": "stdout",
     "output_type": "stream",
     "text": [
      "Opened database successfully\n",
      "Clean Data inserted successfully\n"
     ]
    }
   ],
   "source": [
    "conn = psycopg2.connect(database=\"****\", user=\"****\", password=\"****\", host=\"****\", port=\"****\")\n",
    "print \"Opened database successfully\"\n",
    "cur = conn.cursor()\n",
    "cur.execute('''TRUNCATE CleanSW''')\n",
    "\n",
    "for row in cleanSWList:\n",
    "    cur = conn.cursor()\n",
    "\n",
    "    cur.execute(\"INSERT INTO CleanSW (PolygonID, SWwithinPolGeom) \\\n",
    "                VALUES (%s, ST_SetSRID(ST_GeomFromGeoJSON(%s),2926))\", (row[0], str(row[1])) );\n",
    "\n",
    "    conn.commit()\n",
    "conn.close()\n",
    "print \"Clean Data inserted successfully\""
   ]
  },
  {
   "cell_type": "markdown",
   "metadata": {},
   "source": [
    "## Code:"
   ]
  },
  {
   "cell_type": "code",
   "execution_count": 13,
   "metadata": {
    "collapsed": true
   },
   "outputs": [],
   "source": [
    "# Packages:\n",
    "import ast\n",
    "import shapely\n",
    "from shapely.geometry import Point, Polygon, LineString\n",
    "from copy import deepcopy\n",
    "import fiona\n",
    "import matplotlib\n",
    "from matplotlib import pyplot\n",
    "import mpld3\n",
    "%matplotlib inline\n",
    "mpld3.enable_notebook()\n",
    "\n",
    "# Cleaning:\n",
    "def lenLine(line):\n",
    "    return Point(line[0]).distance(Point(line[1]))\n",
    "\n",
    "def cosAndsine(line):\n",
    "    # cos and sine made with horizon\n",
    "    if lenLine(line) != 0:\n",
    "        cos = float(line[1][0] - line[0][0])/float(lenLine(line))\n",
    "        sine = float(line[1][1] - line[0][1])/float(lenLine(line))\n",
    "        return [cos, sine]\n",
    "    else:\n",
    "        \n",
    "        print \"Warning: Following Line is changed to a Point!!! Check your tolerances\"\n",
    "        print line\n",
    "        return [0,0]\n",
    "    \n",
    "def connectToAvgIfCloseEnough(twoLineList, tolClose):\n",
    "    lineAfterList = deepcopy(twoLineList)\n",
    "    for i in range(len(twoLineList[0])):\n",
    "        for j in range(len(twoLineList[1])):\n",
    "            if Point(twoLineList[0][i]).distance(Point(twoLineList[1][j])) < tolClose:\n",
    "                avgX = (twoLineList[0][i][0] + twoLineList[1][j][0])/float(2)\n",
    "                avgY = (twoLineList[0][i][1] + twoLineList[1][j][1])/float(2)\n",
    "                lineAfterList[0][i] = [avgX, avgY]\n",
    "                lineAfterList[1][j] = [avgX, avgY]\n",
    "    return lineAfterList\n",
    "\n",
    "def cleanIfintesectedAlready(twoLineList, tolInt, tolClose):\n",
    "    lines = deepcopy(twoLineList)\n",
    "    intrsct = LineString(lines[0]).intersection(LineString(lines[1]))\n",
    "    if intrsct.length == 0:\n",
    "        for i in range(len(lines)):\n",
    "            for j in range(2):\n",
    "                if Point(lines[i][-j]).distance(intrsct) < tolInt:\n",
    "                    lines[i][-j] = [intrsct.x, intrsct.y]\n",
    "        return lines\n",
    "    else: \n",
    "        return connectToAvgIfCloseEnough(lines, tolClose)\n",
    "\n",
    "def givefirstandLasttwoLines(line):\n",
    "    return [ [line[0],line[1]], [line[-2], line[-1]] ]\n",
    "    \n",
    "    \n",
    "def extendMultiSectioLinefromBothsides(line, extL):\n",
    "    extLine = deepcopy(line)\n",
    "    if len(line) > 2:\n",
    "        firstLast = givefirstandLasttwoLines(line)\n",
    "        for j in range(len(firstLast)):\n",
    "            line = firstLast[j]\n",
    "            cosT = cosAndsine(line)[0]\n",
    "            sinT = cosAndsine(line)[1]\n",
    "            extCoordsPos = [line[-j][0] + extL * cosT, line[-j][1] + extL * sinT]\n",
    "            extCoordsNeg = [line[-j][0] - extL * cosT, line[-j][1] - extL * sinT]\n",
    "            if Point(extCoordsPos).distance(Point(extLine[1-3*j])) > Point(extCoordsNeg).distance(Point(extLine[1-3*j])):\n",
    "                extCoords = extCoordsPos\n",
    "            else:\n",
    "                extCoords = extCoordsNeg\n",
    "            extLine[-j] = extCoords\n",
    "        return extLine\n",
    "    else:\n",
    "        cosT = cosAndsine(line)[0]\n",
    "        sinT = cosAndsine(line)[1]\n",
    "        for j in range(len(line)):\n",
    "            extCoordsPos = [line[-j][0] + extL * cosT, line[-j][1] + extL * sinT]\n",
    "            extCoordsNeg = [line[-j][0] - extL * cosT, line[-j][1] - extL * sinT]\n",
    "            if Point(extCoordsPos).distance(Point(extLine[abs(j-1)])) > Point(extCoordsNeg).distance(Point(extLine[abs(j-1)])):\n",
    "                extCoords = extCoordsPos\n",
    "            else:\n",
    "                extCoords = extCoordsNeg\n",
    "            extLine[j] = extCoords\n",
    "        return extLine\n",
    "\n",
    "def connectIfintesectedAfterExtending(twoLineList, extL ,tolInt,tolClose):\n",
    "    lines = deepcopy(twoLineList)\n",
    "    extLine1 = extendMultiSectioLinefromBothsides(twoLineList[0], extL)\n",
    "    extLine2 = extendMultiSectioLinefromBothsides(twoLineList[1], extL)\n",
    "    intrsct = LineString(extLine1).intersection(LineString(extLine2))\n",
    "    if intrsct.length == 0:\n",
    "        numDistanceBelowtolInt = 0\n",
    "        for line in lines:\n",
    "            for point in line:\n",
    "                if Point(point).distance(intrsct) < tolInt:\n",
    "                    numDistanceBelowtolInt += 1\n",
    "        if numDistanceBelowtolInt > 1:\n",
    "            for i in range(len(lines)):\n",
    "                for j in range(2):\n",
    "                    if Point(lines[i][-j]).distance(intrsct) < tolInt:\n",
    "                        lines[i][-j] = [intrsct.x, intrsct.y]\n",
    "            return lines\n",
    "        else:\n",
    "            return connectToAvgIfCloseEnough(lines, tolInt)\n",
    "    else:\n",
    "        return connectToAvgIfCloseEnough(lines, tolInt) #Not by tolClose\n",
    "\n",
    "def cleanDanglesofAnyKind(twoLineList, extL, tolInt, tolClose):\n",
    "    extline1 = extendMultiSectioLinefromBothsides(twoLineList[0], extL)\n",
    "    extline2 = extendMultiSectioLinefromBothsides(twoLineList[1], extL)\n",
    "    \n",
    "    if LineString(twoLineList[0]).intersects(LineString(twoLineList[1])) == True:\n",
    "        return cleanIfintesectedAlready(twoLineList, tolInt, tolClose)\n",
    "    \n",
    "    elif LineString(extline1).intersects(LineString(extline2)) == True:\n",
    "        return connectIfintesectedAfterExtending(twoLineList, extL ,tolInt, tolClose)\n",
    "    \n",
    "    else:\n",
    "        return connectToAvgIfCloseEnough(twoLineList, tolClose)\n",
    "def cleanEachGroup(linesList, extL, tolInt, tolClose):\n",
    "    linesListClean = deepcopy(linesList)\n",
    "    for i in range(len(linesListClean)):\n",
    "        for j in range(i+1, len(linesListClean)):\n",
    "            twoline = [linesListClean[i], linesListClean[j]]\n",
    "            twolineclean = cleanDanglesofAnyKind(twoline, extL, tolInt, tolClose)\n",
    "            if twoline[0] != twolineclean[0]:\n",
    "                linesListClean[i] = twolineclean[0]\n",
    "            if twoline[1] != twolineclean[1]:\n",
    "                linesListClean[j] = twolineclean[1]\n",
    "    return linesListClean\n",
    "# Plotting:\n",
    "# function: plots one line (not a lineList) with first and last points with different colors\n",
    "def plot_line(ax, line, color):\n",
    "    #line = [(x, y),...]\n",
    "    x, y = LineString(line).xy\n",
    "    # plot lines between points\n",
    "    ax.plot(x, y, color= color, alpha=0.7, linewidth=1, solid_capstyle='round', zorder=1)\n",
    "    # Plot first and last points with different colors\n",
    "#     ax.plot(x[0], y[0], 'o', color='#80F222', zorder=2)\n",
    "#     ax.plot(x[-1], y[-1], 'o', color='#F22222', zorder=2)\n",
    "    \n",
    "# function: handle axes limits and title of a plot of a (lineList \n",
    "def handle_axesLimTitle_for_lineList(ax, lineList, title):\n",
    "    #lineList = [line1, ...]\n",
    "    allXList = []\n",
    "    allYList = []\n",
    "    for line in lineList:\n",
    "        for point in line:\n",
    "            allXList.append(point[0])\n",
    "            allYList.append(point[1])\n",
    "    XLim = [min(allXList), max(allXList)]\n",
    "    YLim = [min(allYList), max(allYList)]\n",
    "    XEmptySpace = int((XLim[1]-XLim[0])/5.0)\n",
    "    YEmptySpace = int((YLim[1]-YLim[0])/5.0)\n",
    "    if XEmptySpace == 0:\n",
    "        XEmptySpace = 1\n",
    "    if YEmptySpace == 0:\n",
    "        YEmptySpace = 1\n",
    "    Xrange = [int(XLim[0]) - XEmptySpace, int(XLim[1]) + XEmptySpace]\n",
    "    Yrange = [int(YLim[0]) - YEmptySpace, int(YLim[1]) + YEmptySpace]\n",
    "    ax.set_xlim(*Xrange)\n",
    "    ax.set_ylim(*Yrange)\n",
    "    # ax.set_yticks(list(range(*Yrange)) + [Yrange[-1]])\n",
    "    # ax.set_aspect(1)\n",
    "    ax.set_title(title) "
   ]
  },
  {
   "cell_type": "code",
   "execution_count": 14,
   "metadata": {
    "collapsed": false
   },
   "outputs": [
    {
     "name": "stdout",
     "output_type": "stream",
     "text": [
      "Opened database successfully\n",
      "Data Fetched successfully\n"
     ]
    }
   ],
   "source": [
    "conn = psycopg2.connect(database=\"****\", user=\"****\", password=\"****\", host=\"****\", port=\"****\")\n",
    "print \"Opened database successfully\"\n",
    "cur = conn.cursor()\n",
    "cur.execute(\"SELECT b_id,  st_asgeojson(ST_Collect(sidewalk_geom)) from polygon_sidewalks group by b_id\")\n",
    "rows = cur.fetchall()\n",
    "print \"Data Fetched successfully\""
   ]
  },
  {
   "cell_type": "code",
   "execution_count": 15,
   "metadata": {
    "collapsed": true
   },
   "outputs": [],
   "source": [
    "n = 5\n",
    "m = 7\n",
    "extL, tolInt, tolClose = 100, 35, 15\n",
    "SWProcessedList = []\n",
    "cleanSWList = []\n",
    "for i in range(n):\n",
    "    group = ast.literal_eval(rows[i][1])['coordinates']\n",
    "    if len(group) < m:\n",
    "        SWProcessedList.append((rows[i][0], {'type': 'MultiLineString', 'coordinates': group}))\n",
    "        cleanGroup = cleanEachGroup(group, extL, tolInt, tolClose)\n",
    "        cleanSWList.append((rows[i][0], {'type': 'MultiLineString', 'coordinates': cleanGroup}))\n",
    "    else:\n",
    "        print rows[i][0],i"
   ]
  },
  {
   "cell_type": "code",
   "execution_count": 16,
   "metadata": {
    "collapsed": false
   },
   "outputs": [
    {
     "name": "stdout",
     "output_type": "stream",
     "text": [
      "Opened database successfully\n",
      "Table created\n"
     ]
    }
   ],
   "source": [
    "conn = psycopg2.connect(database=\"****\", user=\"****\", password=\"****\", host=\"****\", port=\"****\")\n",
    "print \"Opened database successfully\"\n",
    "cur = conn.cursor()\n",
    "# Delete the table if already exist\n",
    "cur.execute('''DROP TABLE IF EXISTS CleanSW''')\n",
    "# Create table CleanSW\n",
    "cur.execute('''CREATE TABLE CleanSW (PolygonID INT, SWwithinPolGeom geometry(MULTILINESTRING, 2926));''')\n",
    "print \"Table created\"\n",
    "conn.commit()\n",
    "conn.close()"
   ]
  },
  {
   "cell_type": "code",
   "execution_count": 17,
   "metadata": {
    "collapsed": false
   },
   "outputs": [
    {
     "name": "stdout",
     "output_type": "stream",
     "text": [
      "Opened database successfully\n",
      "Clean Data inserted successfully\n"
     ]
    }
   ],
   "source": [
    "conn = psycopg2.connect(database=\"****\", user=\"****\", password=\"****\", host=\"****\", port=\"****\")\n",
    "print \"Opened database successfully\"\n",
    "cur = conn.cursor()\n",
    "cur.execute('''TRUNCATE CleanSW''')\n",
    "\n",
    "for row in cleanSWList:\n",
    "    cur = conn.cursor()\n",
    "\n",
    "    cur.execute(\"INSERT INTO CleanSW (PolygonID, SWwithinPolGeom) \\\n",
    "                VALUES (%s, ST_SetSRID(ST_GeomFromGeoJSON(%s),2926))\", (row[0], str(row[1])) );\n",
    "\n",
    "    conn.commit()\n",
    "conn.close()\n",
    "print \"Clean Data inserted successfully\""
   ]
  },
  {
   "cell_type": "code",
   "execution_count": null,
   "metadata": {
    "collapsed": true
   },
   "outputs": [],
   "source": []
  }
 ],
 "metadata": {
  "kernelspec": {
   "display_name": "Python 2",
   "language": "python",
   "name": "python2"
  },
  "language_info": {
   "codemirror_mode": {
    "name": "ipython",
    "version": 2
   },
   "file_extension": ".py",
   "mimetype": "text/x-python",
   "name": "python",
   "nbconvert_exporter": "python",
   "pygments_lexer": "ipython2",
   "version": "2.7.6"
  }
 },
 "nbformat": 4,
 "nbformat_minor": 0
}
