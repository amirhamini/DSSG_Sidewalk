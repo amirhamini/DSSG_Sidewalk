{
 "cells": [
  {
   "cell_type": "markdown",
   "metadata": {
    "collapsed": false
   },
   "source": [
    "## Goal:\n",
    "Get two lines and clean them if they have following issues:\n",
    "1. If they have intersection check if the length of segments before or after intersection are less than $\\texttt{tolInt}$ and if yes cut those segments.\n",
    "2. Elif they intersect eachother after they are both extended from both side by $\\texttt{extL}$, find the distances of all four points from the intersection and if two of these four distance are less than $\\texttt{tolInt}$, move the corresponding two points to intersection.\n",
    "3. Else find all four distances of end points from each other and if one of these distances was less than $\\texttt{tolClose}$ move the corresponding two points their average point."
   ]
  },
  {
   "cell_type": "markdown",
   "metadata": {},
   "source": [
    "## Packages used:"
   ]
  },
  {
   "cell_type": "code",
   "execution_count": 1,
   "metadata": {
    "collapsed": true
   },
   "outputs": [],
   "source": [
    "import shapely\n",
    "from shapely.geometry import Point\n",
    "from shapely.geometry import LineString\n",
    "from matplotlib import pyplot\n",
    "%matplotlib inline\n",
    "from copy import deepcopy"
   ]
  },
  {
   "cell_type": "markdown",
   "metadata": {},
   "source": [
    "## Move to Avg point if $\\texttt{tolClose}$ condition is satisfied:"
   ]
  },
  {
   "cell_type": "code",
   "execution_count": 2,
   "metadata": {
    "collapsed": true
   },
   "outputs": [],
   "source": [
    "def connectToAvgIfCloseEnough(twoLineList, tolClose):\n",
    "    lineAfterList = deepcopy(twoLineList)\n",
    "    for i in range(len(twoLineList[0])):\n",
    "        for j in range(len(twoLineList[1])):\n",
    "            if Point(twoLineList[0][i]).distance(Point(twoLineList[1][j])) < tolClose:\n",
    "                avgX = (twoLineList[0][i][0] + twoLineList[1][j][0])/float(2)\n",
    "                avgY = (twoLineList[0][i][1] + twoLineList[1][j][1])/float(2)\n",
    "                lineAfterList[0][i] = (avgX, avgY)\n",
    "                lineAfterList[1][j] = (avgX, avgY)\n",
    "    return lineAfterList"
   ]
  },
  {
   "cell_type": "markdown",
   "metadata": {},
   "source": [
    "## If the two lines have point-type intersection cut those subsegments which meet the $\\texttt{tolInt}$ condition\n",
    "* If the intersection happens to be a line apply the $\\texttt{connectToAvgIfCloseEnough}$"
   ]
  },
  {
   "cell_type": "code",
   "execution_count": 3,
   "metadata": {
    "collapsed": true
   },
   "outputs": [],
   "source": [
    "def cleanIfintesectedAlready(twoLineList, tolInt, tolClose):\n",
    "    lines = deepcopy(twoLineList)\n",
    "    intrsct = LineString(lines[0]).intersection(LineString(lines[1]))\n",
    "    if intrsct.length == 0:\n",
    "        for i in range(len(lines)):\n",
    "            for j in range(len(lines[i])):\n",
    "                if Point(lines[i][j]).distance(intrsct) < tolInt:\n",
    "                    lines[i][j] = (intrsct.x, intrsct.y)\n",
    "        return lines\n",
    "    else: \n",
    "        return connectToAvgIfCloseEnough(lines, tolClose)"
   ]
  },
  {
   "cell_type": "markdown",
   "metadata": {},
   "source": [
    "## If the extended two lines have point-type intersection move the two points which meet the $\\texttt{tolInt}$ condition to the intersection point\n",
    "* If only one point meets the $\\texttt{tolInt}$ condition apply the $\\texttt{connectToAvgIfCloseEnough}$\n",
    "* If the intersection happens to be a line apply the $\\texttt{connectToAvgIfCloseEnough}$"
   ]
  },
  {
   "cell_type": "code",
   "execution_count": 4,
   "metadata": {
    "collapsed": true
   },
   "outputs": [],
   "source": [
    "def extendLineFromBothSides(line, extL):\n",
    "    extLine = []\n",
    "    cosT = cosAndsine(line)[0]\n",
    "    sinT = cosAndsine(line)[1]\n",
    "    \n",
    "    for i in range(len(line)):\n",
    "        extCoords = (line[i][0] + extL * cosT, line[i][1] + extL * sinT)\n",
    "        if Point(extCoords).distance(Point(line[abs(i-1)])) < lenLine(line):\n",
    "            extCoords = (line[i][0] - extL * cosT, line[i][1] - extL * sinT)\n",
    "        extLine.append(extCoords)\n",
    "    return extLine\n",
    "\n",
    "def connectIfintesectedAfterExtending(twoLineList, extL ,tolInt,tolClose):\n",
    "    lines = deepcopy(twoLineList)\n",
    "    extLine1 = extendLineFromBothSides(twoLineList[0], extL)\n",
    "    extLine2 = extendLineFromBothSides(twoLineList[1], extL)\n",
    "    intrsct = LineString(extLine1).intersection(LineString(extLine2))\n",
    "    if intrsct.length == 0:\n",
    "        numDistanceBelowtolInt = 0\n",
    "        for line in lines:\n",
    "            for point in line:\n",
    "                if Point(point).distance(intrsct) < tolInt:\n",
    "                    numDistanceBelowtolInt += 1\n",
    "        if numDistanceBelowtolInt > 1:\n",
    "            for i in range(len(lines)):\n",
    "                for j in range(len(lines[i])):\n",
    "                    if Point(lines[i][j]).distance(intrsct) < tolInt:\n",
    "                        lines[i][j] = (intrsct.x, intrsct.y)\n",
    "            return lines\n",
    "        else:\n",
    "            return connectToAvgIfCloseEnough(lines, tolClose)\n",
    "    else:\n",
    "        return connectToAvgIfCloseEnough(lines, tolClose)"
   ]
  },
  {
   "cell_type": "markdown",
   "metadata": {},
   "source": [
    "## Overall Func:"
   ]
  },
  {
   "cell_type": "code",
   "execution_count": 5,
   "metadata": {
    "collapsed": true
   },
   "outputs": [],
   "source": [
    "def cleanDanglesofAnyKind(twoLineList, extL, tolInt, tolClose):\n",
    "    extline1 = extendLineFromBothSides(twoLineList[0], extL)\n",
    "    extline2 = extendLineFromBothSides(twoLineList[1], extL)\n",
    "    \n",
    "    if LineString(twoLineList[0]).intersects(LineString(twoLineList[1])) == True:\n",
    "        return cleanIfintesectedAlready(twoLineList, tolInt, tolClose)\n",
    "    \n",
    "    elif LineString(extline1).intersects(LineString(extline2)) == True:\n",
    "        return connectIfintesectedAfterExtending(twoLineList, extL ,tolInt, tolClose)\n",
    "    \n",
    "    else:\n",
    "        return connectToAvgIfCloseEnough(twoLineList, tolClose)"
   ]
  },
  {
   "cell_type": "markdown",
   "metadata": {},
   "source": [
    "## Plotting code:"
   ]
  },
  {
   "cell_type": "code",
   "execution_count": 6,
   "metadata": {
    "collapsed": true
   },
   "outputs": [],
   "source": [
    "import shapely\n",
    "from shapely.geometry import Point\n",
    "from shapely.geometry import LineString\n",
    "from matplotlib import pyplot\n",
    "%matplotlib inline\n",
    "from copy import deepcopy\n",
    "\n",
    "# function: plots one line (not a lineList) with first and last points with different colors\n",
    "def plot_line(ax, line):\n",
    "    #line = [(x, y),...]\n",
    "    x, y = LineString(line).xy\n",
    "    # plot lines between points\n",
    "    ax.plot(x, y, color=\"#C885CD\", alpha=0.7, linewidth=1, solid_capstyle='round', zorder=1)\n",
    "    # Plot first and last points with different colors\n",
    "    ax.plot(x[0], y[0], 'o', color='#80F222', zorder=2)\n",
    "    ax.plot(x[-1], y[-1], 'o', color='#F22222', zorder=2)\n",
    "    \n",
    "# function: handle axes limits and title of a plot of a (lineList \n",
    "def handle_axesLimTitle_for_lineList(ax, lineList, title):\n",
    "    #lineList = [line1, ...]\n",
    "    allXList = []\n",
    "    allYList = []\n",
    "    for line in lineList:\n",
    "        for point in line:\n",
    "            allXList.append(point[0])\n",
    "            allYList.append(point[1])\n",
    "    XLim = [min(allXList), max(allXList)]\n",
    "    YLim = [min(allYList), max(allYList)]\n",
    "    XEmptySpace = int((XLim[1]-XLim[0])/5.0)\n",
    "    YEmptySpace = int((YLim[1]-YLim[0])/5.0)\n",
    "    if XEmptySpace == 0:\n",
    "        XEmptySpace = 1\n",
    "    if YEmptySpace == 0:\n",
    "        YEmptySpace = 1\n",
    "    Xrange = [int(XLim[0]) - XEmptySpace, int(XLim[1]) + XEmptySpace]\n",
    "    Yrange = [int(YLim[0]) - YEmptySpace, int(YLim[1]) + YEmptySpace]\n",
    "    ax.set_xlim(*Xrange)\n",
    "    ax.set_ylim(*Yrange)\n",
    "    # ax.set_yticks(list(range(*Yrange)) + [Yrange[-1]])\n",
    "    # ax.set_aspect(1)\n",
    "    ax.set_title(title) "
   ]
  },
  {
   "cell_type": "markdown",
   "metadata": {},
   "source": [
    "## Code:"
   ]
  },
  {
   "cell_type": "code",
   "execution_count": 7,
   "metadata": {
    "collapsed": true
   },
   "outputs": [],
   "source": [
    "import shapely\n",
    "from shapely.geometry import Point\n",
    "from shapely.geometry import LineString\n",
    "from matplotlib import pyplot\n",
    "%matplotlib inline\n",
    "from copy import deepcopy\n",
    "\n",
    "def lenLine(line):\n",
    "    return Point(line[0]).distance(Point(line[1]))\n",
    "\n",
    "def cosAndsine(line):\n",
    "    # cos and sine made with horizon \n",
    "    cos = float(line[1][0] - line[0][0])/float(lenLine(line))\n",
    "    sine = float(line[1][1] - line[0][1])/float(lenLine(line))\n",
    "    return [cos, sine]\n",
    "\n",
    "def connectToAvgIfCloseEnough(twoLineList, tolClose):\n",
    "    lineAfterList = deepcopy(twoLineList)\n",
    "    for i in range(len(twoLineList[0])):\n",
    "        for j in range(len(twoLineList[1])):\n",
    "            if Point(twoLineList[0][i]).distance(Point(twoLineList[1][j])) < tolClose:\n",
    "                avgX = (twoLineList[0][i][0] + twoLineList[1][j][0])/float(2)\n",
    "                avgY = (twoLineList[0][i][1] + twoLineList[1][j][1])/float(2)\n",
    "                lineAfterList[0][i] = (avgX, avgY)\n",
    "                lineAfterList[1][j] = (avgX, avgY)\n",
    "    return lineAfterList\n",
    "\n",
    "def cleanIfintesectedAlready(twoLineList, tolInt, tolClose):\n",
    "    lines = deepcopy(twoLineList)\n",
    "    intrsct = LineString(lines[0]).intersection(LineString(lines[1]))\n",
    "    if intrsct.length == 0:\n",
    "        for i in range(len(lines)):\n",
    "            for j in range(len(lines[i])):\n",
    "                if Point(lines[i][j]).distance(intrsct) < tolInt:\n",
    "                    lines[i][j] = (intrsct.x, intrsct.y)\n",
    "        return lines\n",
    "    else: \n",
    "        return connectToAvgIfCloseEnough(lines, tolClose)\n",
    "\n",
    "def extendLineFromBothSides(line, extL):\n",
    "    extLine = []\n",
    "    cosT = cosAndsine(line)[0]\n",
    "    sinT = cosAndsine(line)[1]\n",
    "    \n",
    "    for i in range(len(line)):\n",
    "        extCoords = (line[i][0] + extL * cosT, line[i][1] + extL * sinT)\n",
    "        if Point(extCoords).distance(Point(line[abs(i-1)])) < lenLine(line):\n",
    "            extCoords = (line[i][0] - extL * cosT, line[i][1] - extL * sinT)\n",
    "        extLine.append(extCoords)\n",
    "    return extLine\n",
    "\n",
    "def connectIfintesectedAfterExtending(twoLineList, extL ,tolInt,tolClose):\n",
    "    lines = deepcopy(twoLineList)\n",
    "    extLine1 = extendLineFromBothSides(twoLineList[0], extL)\n",
    "    extLine2 = extendLineFromBothSides(twoLineList[1], extL)\n",
    "    intrsct = LineString(extLine1).intersection(LineString(extLine2))\n",
    "    if intrsct.length == 0:\n",
    "        numDistanceBelowtolInt = 0\n",
    "        for line in lines:\n",
    "            for point in line:\n",
    "                if Point(point).distance(intrsct) < tolInt:\n",
    "                    numDistanceBelowtolInt += 1\n",
    "        if numDistanceBelowtolInt > 1:\n",
    "            for i in range(len(lines)):\n",
    "                for j in range(len(lines[i])):\n",
    "                    if Point(lines[i][j]).distance(intrsct) < tolInt:\n",
    "                        lines[i][j] = (intrsct.x, intrsct.y)\n",
    "            return lines\n",
    "        else:\n",
    "            return connectToAvgIfCloseEnough(lines, tolClose)\n",
    "    else:\n",
    "        return connectToAvgIfCloseEnough(lines, tolClose)\n",
    "\n",
    "def cleanDanglesofAnyKind(twoLineList, extL, tolInt, tolClose):\n",
    "    extline1 = extendLineFromBothSides(twoLineList[0], extL)\n",
    "    extline2 = extendLineFromBothSides(twoLineList[1], extL)\n",
    "    \n",
    "    if LineString(twoLineList[0]).intersects(LineString(twoLineList[1])) == True:\n",
    "        return cleanIfintesectedAlready(twoLineList, tolInt, tolClose)\n",
    "    \n",
    "    elif LineString(extline1).intersects(LineString(extline2)) == True:\n",
    "        return connectIfintesectedAfterExtending(twoLineList, extL ,tolInt, tolClose)\n",
    "    \n",
    "    else:\n",
    "        return connectToAvgIfCloseEnough(twoLineList, tolClose)\n",
    "\n",
    "# function: plots one line (not a lineList) with first and last points with different colors\n",
    "def plot_line(ax, line):\n",
    "    #line = [(x, y),...]\n",
    "    x, y = LineString(line).xy\n",
    "    # plot lines between points\n",
    "    ax.plot(x, y, color=\"#C885CD\", alpha=0.7, linewidth=1, solid_capstyle='round', zorder=1)\n",
    "    # Plot first and last points with different colors\n",
    "    ax.plot(x[0], y[0], 'o', color='#80F222', zorder=2)\n",
    "    ax.plot(x[-1], y[-1], 'o', color='#F22222', zorder=2)\n",
    "    \n",
    "# function: handle axes limits and title of a plot of a (lineList \n",
    "def handle_axesLimTitle_for_lineList(ax, lineList, title):\n",
    "    #lineList = [line1, ...]\n",
    "    allXList = []\n",
    "    allYList = []\n",
    "    for line in lineList:\n",
    "        for point in line:\n",
    "            allXList.append(point[0])\n",
    "            allYList.append(point[1])\n",
    "    XLim = [min(allXList), max(allXList)]\n",
    "    YLim = [min(allYList), max(allYList)]\n",
    "    XEmptySpace = int((XLim[1]-XLim[0])/5.0)\n",
    "    YEmptySpace = int((YLim[1]-YLim[0])/5.0)\n",
    "    if XEmptySpace == 0:\n",
    "        XEmptySpace = 1\n",
    "    if YEmptySpace == 0:\n",
    "        YEmptySpace = 1\n",
    "    Xrange = [int(XLim[0]) - XEmptySpace, int(XLim[1]) + XEmptySpace]\n",
    "    Yrange = [int(YLim[0]) - YEmptySpace, int(YLim[1]) + YEmptySpace]\n",
    "    ax.set_xlim(*Xrange)\n",
    "    ax.set_ylim(*Yrange)\n",
    "    # ax.set_yticks(list(range(*Yrange)) + [Yrange[-1]])\n",
    "    # ax.set_aspect(1)\n",
    "    ax.set_title(title) "
   ]
  },
  {
   "cell_type": "markdown",
   "metadata": {},
   "source": [
    "## Test Cases:"
   ]
  },
  {
   "cell_type": "code",
   "execution_count": 10,
   "metadata": {
    "collapsed": false
   },
   "outputs": [
    {
     "name": "stdout",
     "output_type": "stream",
     "text": [
      "Case 1\n"
     ]
    },
    {
     "data": {
      "image/png": "[encoded data removed]",
      "text/plain": [
       "<matplotlib.figure.Figure at 0x10ace1950>"
      ]
     },
     "metadata": {},
     "output_type": "display_data"
    },
    {
     "name": "stdout",
     "output_type": "stream",
     "text": [
      "Case 2\n"
     ]
    },
    {
     "data": {
      "image/png": "[encoded data removed]",
      "text/plain": [
       "<matplotlib.figure.Figure at 0x108342e10>"
      ]
     },
     "metadata": {},
     "output_type": "display_data"
    },
    {
     "name": "stdout",
     "output_type": "stream",
     "text": [
      "Case 3\n"
     ]
    },
    {
     "data": {
      "image/png": "[encoded data removed]",
      "text/plain": [
       "<matplotlib.figure.Figure at 0x10ad5ac90>"
      ]
     },
     "metadata": {},
     "output_type": "display_data"
    },
    {
     "name": "stdout",
     "output_type": "stream",
     "text": [
      "Case 4\n"
     ]
    },
    {
     "data": {
      "image/png": "[encoded data removed]",
      "text/plain": [
       "<matplotlib.figure.Figure at 0x108346090>"
      ]
     },
     "metadata": {},
     "output_type": "display_data"
    },
    {
     "name": "stdout",
     "output_type": "stream",
     "text": [
      "Case 5\n"
     ]
    },
    {
     "data": {
      "image/png": "[encoded data removed]",
      "text/plain": [
       "<matplotlib.figure.Figure at 0x10ad117d0>"
      ]
     },
     "metadata": {},
     "output_type": "display_data"
    },
    {
     "name": "stdout",
     "output_type": "stream",
     "text": [
      "Case 6\n"
     ]
    },
    {
     "data": {
      "image/png": "[encoded data removed]",
      "text/plain": [
       "<matplotlib.figure.Figure at 0x108342e10>"
      ]
     },
     "metadata": {},
     "output_type": "display_data"
    },
    {
     "name": "stdout",
     "output_type": "stream",
     "text": [
      "Case 7\n"
     ]
    },
    {
     "data": {
      "image/png": "[encoded data removed]",
      "text/plain": [
       "<matplotlib.figure.Figure at 0x10acfd990>"
      ]
     },
     "metadata": {},
     "output_type": "display_data"
    },
    {
     "name": "stdout",
     "output_type": "stream",
     "text": [
      "Case 8\n"
     ]
    },
    {
     "data": {
      "image/png": "[encoded data removed]",
      "text/plain": [
       "<matplotlib.figure.Figure at 0x108346090>"
      ]
     },
     "metadata": {},
     "output_type": "display_data"
    }
   ],
   "source": [
    "extL, tolInt, tolClose = 5, 1, 0.5\n",
    "\n",
    "# Case 1: intesect is Point and tolInt condition is True\n",
    "#         ------> trim\n",
    "# Q: What if more than two segments were meeting the tolInt condition?\n",
    "A = [0,0.5]\n",
    "B = [1.5,2]\n",
    "C = (0,1)\n",
    "D = (1.7,2)\n",
    "line1 = [A, B]\n",
    "line2 = [C, D]\n",
    "case1 =[line1, line2]\n",
    "\n",
    "# Case 2: intesect is Point and tolInt condition is True only for one segment\n",
    "#         tolClose condition False:\n",
    "#         ------> No change\n",
    "A = (1,0)\n",
    "B = (1.5,2.2)\n",
    "C = (0.6,1.3)\n",
    "D = (5,4.6)\n",
    "line1 = [A, B]\n",
    "line2 = [C, D]\n",
    "case2 =[line1, line2]\n",
    "\n",
    "# Case 3: intesect is True and tolInt condition is False\n",
    "#         tolClose condition False:\n",
    "#         ------> No change\n",
    "A = (-3,0)\n",
    "B = (5,3)\n",
    "C = (0,-2)\n",
    "D = (0,4)\n",
    "line1 = [A, B]\n",
    "line2 = [C, D]\n",
    "case3 =[line1, line2]\n",
    "\n",
    "# Case 4: intesect is True and tolInt condition is False\n",
    "#         tolClose condition True:\n",
    "#         ------> Two close points move to avg\n",
    "A = (0,0)\n",
    "B = (0,7)\n",
    "C = (0,0.4)\n",
    "D = (0,-2.5)\n",
    "line1 = [A, B]\n",
    "line2 = [C, D]\n",
    "case4 =[line1, line2]\n",
    "\n",
    "# Case 5: intesect is False \n",
    "#         extended line intersect is True and tolInt is True\n",
    "#         ------> Move to intersection\n",
    "A = (0,0.9)\n",
    "B = (0,5)\n",
    "C = (0.5,0)\n",
    "D = (4,0)\n",
    "line1 = [A, B]\n",
    "line2 = [C, D]\n",
    "case5 =[line1, line2]\n",
    "\n",
    "# Case 6: intesect is False \n",
    "#         extended line intersect is True and tolInt is False \n",
    "#         tolClose condition is False\n",
    "#         ------> No change\n",
    "A = (0,1)\n",
    "B = (0,5)\n",
    "C = (0.5,0)\n",
    "D = (4,0)\n",
    "line1 = [A, B]\n",
    "line2 = [C, D]\n",
    "case6 =[line1, line2]\n",
    "\n",
    "# Case 7: intesect is False \n",
    "#         extended line intersect is False \n",
    "#         tolClose condition is False\n",
    "#         ------> No change\n",
    "A = (1,1)\n",
    "B = (2,2)\n",
    "C = (0.5,1)\n",
    "D = (1.5,2)\n",
    "line1 = [A, B]\n",
    "line2 = [C, D]\n",
    "case7 =[line1, line2]\n",
    "\n",
    "# Case 8: intesect is False \n",
    "#         extended line intersect is False \n",
    "#         tolClose condition is True\n",
    "#         ------> Two close points move to avg\n",
    "A = (1,1)\n",
    "B = (2,2)\n",
    "C = (0.6,1.3)\n",
    "D = (1.7,2)\n",
    "\n",
    "line1 = [A, B]\n",
    "line2 = [C, D]\n",
    "case8 =[line1, line2]\n",
    "\n",
    "\n",
    "listofTwoLineList = [case1, case2, case3, case4, case5, case6, case7, case8]\n",
    "\n",
    "caseCount = 1\n",
    "for twoLines in listofTwoLineList:\n",
    "    print \"Case %d\" % caseCount\n",
    "    fig = pyplot.figure(1, figsize=(10,5), dpi=90)\n",
    "    ax = fig.add_subplot(121)\n",
    "    for line in twoLines:\n",
    "        plot_line(ax, line)\n",
    "    handle_axesLimTitle_for_lineList(ax, twoLines, \"Before\")\n",
    "    \n",
    "    ax = fig.add_subplot(122)\n",
    "    res = cleanDanglesofAnyKind(twoLines, extL, tolInt, tolClose)\n",
    "    for line in res:\n",
    "        plot_line(ax, line)\n",
    "    handle_axesLimTitle_for_lineList(ax, res, \"After\")\n",
    "    pyplot.show()\n",
    "    caseCount += 1"
   ]
  },
  {
   "cell_type": "code",
   "execution_count": null,
   "metadata": {
    "collapsed": true
   },
   "outputs": [],
   "source": []
  }
 ],
 "metadata": {
  "kernelspec": {
   "display_name": "Python 2",
   "language": "python",
   "name": "python2"
  },
  "language_info": {
   "codemirror_mode": {
    "name": "ipython",
    "version": 2
   },
   "file_extension": ".py",
   "mimetype": "text/x-python",
   "name": "python",
   "nbconvert_exporter": "python",
   "pygments_lexer": "ipython2",
   "version": "2.7.6"
  }
 },
 "nbformat": 4,
 "nbformat_minor": 0
}
