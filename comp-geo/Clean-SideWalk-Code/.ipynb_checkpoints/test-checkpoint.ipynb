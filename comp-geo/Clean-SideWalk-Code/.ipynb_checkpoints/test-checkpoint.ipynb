{
 "cells": [
  {
   "cell_type": "code",
   "execution_count": 2,
   "metadata": {
    "collapsed": true
   },
   "outputs": [],
   "source": [
    "import shapely\n",
    "from shapely.geometry import Point\n",
    "from shapely.geometry import LineString\n",
    "from matplotlib import pyplot\n",
    "# %matplotlib inline\n",
    "from copy import deepcopy\n",
    "# function: plots one line (not a lineList) with first and last points with different colors\n",
    "def plot_line(ax, line):\n",
    "    #line = [(x, y),...]\n",
    "    x, y = LineString(line).xy\n",
    "    # plot lines between points\n",
    "    ax.plot(x, y, color=\"#C885CD\", alpha=0.7, linewidth=1, solid_capstyle='round', zorder=1)\n",
    "    # Plot first and last points with different colors\n",
    "    ax.plot(x[0], y[0], 'o', color='#80F222', zorder=2)\n",
    "    ax.plot(x[-1], y[-1], 'o', color='#F22222', zorder=2)\n",
    "    \n",
    "# function: handle axes limits and title of a plot of a (lineList \n",
    "def handle_axesLimTitle_for_lineList(ax, lineList, title):\n",
    "    #lineList = [line1, ...]\n",
    "    allXList = []\n",
    "    allYList = []\n",
    "    for line in lineList:\n",
    "        for point in line:\n",
    "            allXList.append(point[0])\n",
    "            allYList.append(point[1])\n",
    "    XLim = [min(allXList), max(allXList)]\n",
    "    YLim = [min(allYList), max(allYList)]\n",
    "    XEmptySpace = int((XLim[1]-XLim[0])/5.0)\n",
    "    YEmptySpace = int((YLim[1]-YLim[0])/5.0)\n",
    "    if XEmptySpace == 0:\n",
    "        XEmptySpace = 1\n",
    "    if YEmptySpace == 0:\n",
    "        YEmptySpace = 1\n",
    "    Xrange = [int(XLim[0]) - XEmptySpace, int(XLim[1]) + XEmptySpace]\n",
    "    Yrange = [int(YLim[0]) - YEmptySpace, int(YLim[1]) + YEmptySpace]\n",
    "    ax.set_xlim(*Xrange)\n",
    "    ax.set_ylim(*Yrange)\n",
    "    ax.set_yticks(list(range(*Yrange)) + [Yrange[-1]])\n",
    "#     ax.set_aspect(1)\n",
    "    ax.set_title(title) "
   ]
  },
  {
   "cell_type": "code",
   "execution_count": null,
   "metadata": {
    "collapsed": false
   },
   "outputs": [],
   "source": [
    "A = (0,-1)\n",
    "B = (0,4)\n",
    "C = (-1,0)\n",
    "D = (4,0)\n",
    "line1 = [A, B]\n",
    "line2 = [C, D]\n",
    "case1 =[line1, line2]\n",
    "\n",
    "A = (0,1)\n",
    "B = (0,4)\n",
    "C = (1,0)\n",
    "D = (4,0)\n",
    "line1 = [A, B]\n",
    "line2 = [C, D]\n",
    "case2 =[line1, line2]\n",
    "\n",
    "A = (-0.3,0)\n",
    "B = (2,2)\n",
    "C = (-1,0)\n",
    "D = (1.7,2)\n",
    "\n",
    "line1 = [A, B]\n",
    "line2 = [C, D]\n",
    "case3 =[line1, line2]\n",
    "\n",
    "listofTwoLineList = [case1]\n",
    "i=1\n",
    "for twoLines in listofTwoLineList:\n",
    "    fig = pyplot.figure(1, figsize=(10,5), dpi=90)\n",
    "    ax = fig.add_subplot(130+i)\n",
    "    for line in twoLines:\n",
    "        plot_line(ax, line)\n",
    "    handle_axesLimTitle_for_lineList(ax, twoLines, \"\")\n",
    "    i += 1\n",
    "pyplot.show()\n"
   ]
  },
  {
   "cell_type": "code",
   "execution_count": null,
   "metadata": {
    "collapsed": true
   },
   "outputs": [],
   "source": []
  },
  {
   "cell_type": "code",
   "execution_count": null,
   "metadata": {
    "collapsed": true
   },
   "outputs": [],
   "source": []
  }
 ],
 "metadata": {
  "kernelspec": {
   "display_name": "Python 2",
   "language": "python",
   "name": "python2"
  },
  "language_info": {
   "codemirror_mode": {
    "name": "ipython",
    "version": 2
   },
   "file_extension": ".py",
   "mimetype": "text/x-python",
   "name": "python",
   "nbconvert_exporter": "python",
   "pygments_lexer": "ipython2",
   "version": "2.7.6"
  }
 },
 "nbformat": 4,
 "nbformat_minor": 0
}
