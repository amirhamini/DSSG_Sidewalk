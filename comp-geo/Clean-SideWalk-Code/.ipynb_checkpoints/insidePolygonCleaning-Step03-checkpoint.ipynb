{
 "cells": [
  {
   "cell_type": "markdown",
   "metadata": {},
   "source": [
    "## Goal:\n",
    "* Take the classified sidewalk data as input from the database\n",
    "* Assume that T-gaps and intersections are already cleaned\n",
    "* Clean the sidewalks withing each polygon\n",
    "* Write the output data in form of a table on the data base"
   ]
  },
  {
   "cell_type": "markdown",
   "metadata": {},
   "source": [
    "## Connect to the Database:"
   ]
  },
  {
   "cell_type": "code",
   "execution_count": null,
   "metadata": {
    "collapsed": false
   },
   "outputs": [],
   "source": [
    "import psycopg2\n",
    "conn = psycopg2.connect(database=\"****\", user=\"****\", password=\"****\", host=\"****\", port=\"****\")\n",
    "print \"Opened database successfully\""
   ]
  },
  {
   "cell_type": "markdown",
   "metadata": {},
   "source": [
    "## Fetch the sidewalk id_s within each polygon:"
   ]
  },
  {
   "cell_type": "code",
   "execution_count": null,
   "metadata": {
    "collapsed": false
   },
   "outputs": [],
   "source": [
    "cur = conn.cursor()\n",
    "cur.execute(\"SELECT b_id, array_agg(s_id) from yun_grouped_sidewalks group by b_id;\")\n",
    "sidsWithinPol = cur.fetchall()\n",
    "print len(sidsWithinPol)\n",
    "print sidsWithinPol[0]"
   ]
  },
  {
   "cell_type": "markdown",
   "metadata": {},
   "source": [
    "## Within each polygon, fetch the data of startpoint flag:\n",
    "* True means already cleaned\n",
    "* False means has not been cleaned in previous steps of cleaning"
   ]
  },
  {
   "cell_type": "code",
   "execution_count": null,
   "metadata": {
    "collapsed": false
   },
   "outputs": [],
   "source": [
    "cur = conn.cursor()\n",
    "cur.execute(\"SELECT b_id, array_agg(s_changed ORDER BY s_id) from yun_grouped_sidewalks group by b_id;\")\n",
    "sChangedOrNo = cur.fetchall()\n",
    "print len(sChangedOrNo)\n",
    "print sChangedOrNo[0]"
   ]
  },
  {
   "cell_type": "markdown",
   "metadata": {},
   "source": [
    "## Within each polygon, fetch the data of endpoint flag:\n",
    "* True means already cleaned\n",
    "* False means has not been cleaned in previous steps of cleaning"
   ]
  },
  {
   "cell_type": "code",
   "execution_count": null,
   "metadata": {
    "collapsed": false
   },
   "outputs": [],
   "source": [
    "cur = conn.cursor()\n",
    "cur.execute(\"SELECT b_id, array_agg(e_changed ORDER BY s_id) from yun_grouped_sidewalks group by b_id;\")\n",
    "eChangedOrNo = cur.fetchall()\n",
    "print len(eChangedOrNo)\n",
    "print eChangedOrNo[0]\n"
   ]
  },
  {
   "cell_type": "markdown",
   "metadata": {},
   "source": [
    "## For each sidewalk put startpoint flag and end point flag next to each other:"
   ]
  },
  {
   "cell_type": "code",
   "execution_count": null,
   "metadata": {
    "collapsed": false
   },
   "outputs": [],
   "source": [
    "seFlags = []\n",
    "for sFlags, eFlags in zip(sChangedOrNo, eChangedOrNo):\n",
    "    tempList = [sFlags[0]]\n",
    "    for sFlag, eFlags in zip(sFlags[1],eFlags[1]):\n",
    "        tempList.append([sFlag, eFlags])\n",
    "    seFlags.append(tempList)\n",
    "print seFlags[0]"
   ]
  },
  {
   "cell_type": "markdown",
   "metadata": {},
   "source": [
    "## Fetch the geometry data of all sidewalks within each polygons:"
   ]
  },
  {
   "cell_type": "code",
   "execution_count": null,
   "metadata": {
    "collapsed": false
   },
   "outputs": [],
   "source": [
    "cur = conn.cursor()\n",
    "cur.execute(\"SELECT b_id, st_asgeojson(ST_Collect(geom)) from(SELECT b_id, array_agg(s_geom ORDER BY s_id) as geom from yun_grouped_sidewalks group by b_id) as q;\")\n",
    "rows = cur.fetchall()\n",
    "print len(rows)\n",
    "print rows[0]"
   ]
  },
  {
   "cell_type": "markdown",
   "metadata": {},
   "source": [
    "## Cleaning code:\n",
    "* For all sidewalks within each polygon compare their TrueFalse flags pairwise\n",
    "* If there is at least one False in flags clean the two sidewalks\n",
    "* Update the changed points ONLY for the points with False flag"
   ]
  },
  {
   "cell_type": "code",
   "execution_count": null,
   "metadata": {
    "collapsed": false
   },
   "outputs": [],
   "source": [
    "# Packages:\n",
    "import psycopg2\n",
    "import shapely\n",
    "from shapely.geometry import Point, Polygon, LineString, MultiPoint\n",
    "from copy import deepcopy\n",
    "import fiona\n",
    "import matplotlib\n",
    "from matplotlib import pyplot\n",
    "import mpld3\n",
    "%matplotlib inline\n",
    "mpld3.enable_notebook()\n",
    "\n",
    "# Cleaning:\n",
    "def lenLine(line):\n",
    "    return Point(line[0]).distance(Point(line[1]))\n",
    "\n",
    "def cosAndsine(line):\n",
    "    # cos and sine made with horizon\n",
    "    if lenLine(line) != 0:\n",
    "        cos = float(line[1][0] - line[0][0])/float(lenLine(line))\n",
    "        sine = float(line[1][1] - line[0][1])/float(lenLine(line))\n",
    "        return [cos, sine]\n",
    "    else:\n",
    "        \n",
    "        print \"Warning: Following Line is changed to a Point!!! Check your tolerances\"\n",
    "        print line\n",
    "        return [0,0]\n",
    "    \n",
    "def findTwoClosePointsIndex(twoLineList):\n",
    "    # Takes twolines and gives the index of two close points (one from each line) \n",
    "    # in addition to the distance between them\n",
    "    distances = []\n",
    " \n",
    "    for i in range(2):\n",
    "        for j in range(2):\n",
    "            distances.append(Point(twoLineList[0][-i]).distance(Point(twoLineList[1][-j])))\n",
    "            \n",
    "    if distances.index(min(distances)) == 0:\n",
    "            return [[0,0], min(distances)] \n",
    "    if distances.index(min(distances)) == 1:\n",
    "            return [[0,1], min(distances)] \n",
    "    if distances.index(min(distances)) == 2:\n",
    "            return [[1,0], min(distances)] \n",
    "    if distances.index(min(distances)) == 3:\n",
    "            return [[1,1], min(distances)] \n",
    "        \n",
    "def connectToAvgIfCloseEnough(twoLineList, tolClose):\n",
    "    lines = deepcopy(twoLineList)\n",
    "    disAndIndex = findTwoClosePointsIndex(lines)\n",
    "    if disAndIndex[1] < tolClose:\n",
    "        avgX = (lines[0][-disAndIndex[0][0]][0] + lines[1][-disAndIndex[0][1]][0])/float(2)\n",
    "        avgY = (lines[0][-disAndIndex[0][0]][1] + lines[1][-disAndIndex[0][1]][1])/float(2)\n",
    "        lines[0][-disAndIndex[0][0]] = [avgX, avgY]\n",
    "        lines[1][-disAndIndex[0][1]] = [avgX, avgY]\n",
    "    return lines\n",
    "\n",
    "        \n",
    "def findTwoClosePointFromgivenPointIndex(twoLineList, givenPoint):\n",
    "    # Takes twolines and a given point gives the index of two closes points (one from each line)\n",
    "    # a given point in addition to the distance between them\n",
    "    shortDisGivenIndex = []\n",
    "    for i in range(2):\n",
    "        distances = []\n",
    "        for j in range(2):\n",
    "            distances.append(Point(twoLineList[i][-j]).distance(givenPoint))\n",
    "        shortDisGivenIndex.append([distances.index(min(distances)), min(distances)])\n",
    "    return shortDisGivenIndex\n",
    "            \n",
    "\n",
    "def cleanIfintesectedAlready(twoLineList, tolInt):\n",
    "    lines = deepcopy(twoLineList)\n",
    "    intrsct = LineString(lines[0]).intersection(LineString(lines[1]))\n",
    "    if intrsct.geom_type == 'Point':\n",
    "        shortDisIndices = findTwoClosePointFromgivenPointIndex(lines, intrsct)\n",
    "        for i in range(2):\n",
    "            if shortDisIndices[i][1] < tolInt:\n",
    "                lines[i][-shortDisIndices[i][0]] = [intrsct.x, intrsct.y]\n",
    "        return lines\n",
    "    \n",
    "    elif intrsct.geom_type == 'LineString':\n",
    "        midPoint = intrsct.interpolate(intrsct.length/2)\n",
    "        shortDisIndices = findTwoClosePointFromgivenPointIndex(lines, midPoint)\n",
    "        for i in range(2):\n",
    "            if shortDisIndices[i][1] < tolInt:\n",
    "                lines[i][-shortDisIndices[i][0]] = [midPoint.x, midPoint.y]\n",
    "        return lines\n",
    "    \n",
    "    elif intrsct.geom_type == 'MultiPoint':\n",
    "        print \"Warning: intersection of Following lines is a MultiPoint:\"\n",
    "        print lines\n",
    "        for intPoint in intrsct:\n",
    "            shortDisIndices = findTwoClosePointFromgivenPointIndex(lines, intPoint)\n",
    "            for i in range(2):\n",
    "                if shortDisIndices[i][1] < tolInt:\n",
    "                    lines[i][-shortDisIndices[i][0]] = [intPoint.x, intPoint.y]\n",
    "        return lines    \n",
    "def givefirstandLasttwoLines(line):\n",
    "    return [ [line[0],line[1]], [line[-2], line[-1]] ]\n",
    "    \n",
    "    \n",
    "def extendMultiSectioLinefromBothsides(line, extL):\n",
    "    extLine = deepcopy(line)\n",
    "    if len(line) > 2:\n",
    "        firstLast = givefirstandLasttwoLines(line)\n",
    "        for j in range(len(firstLast)):\n",
    "            line = firstLast[j]\n",
    "            cosT = cosAndsine(line)[0]\n",
    "            sinT = cosAndsine(line)[1]\n",
    "            extCoordsPos = [line[-j][0] + extL * cosT, line[-j][1] + extL * sinT]\n",
    "            extCoordsNeg = [line[-j][0] - extL * cosT, line[-j][1] - extL * sinT]\n",
    "            if Point(extCoordsPos).distance(Point(extLine[1-3*j])) > Point(extCoordsNeg).distance(Point(extLine[1-3*j])):\n",
    "                extCoords = extCoordsPos\n",
    "            else:\n",
    "                extCoords = extCoordsNeg\n",
    "            extLine[-j] = extCoords\n",
    "        return extLine\n",
    "    else:\n",
    "        cosT = cosAndsine(line)[0]\n",
    "        sinT = cosAndsine(line)[1]\n",
    "        for j in range(len(line)):\n",
    "            extCoordsPos = [line[-j][0] + extL * cosT, line[-j][1] + extL * sinT]\n",
    "            extCoordsNeg = [line[-j][0] - extL * cosT, line[-j][1] - extL * sinT]\n",
    "            if Point(extCoordsPos).distance(Point(extLine[abs(j-1)])) > Point(extCoordsNeg).distance(Point(extLine[abs(j-1)])):\n",
    "                extCoords = extCoordsPos\n",
    "            else:\n",
    "                extCoords = extCoordsNeg\n",
    "            extLine[j] = extCoords\n",
    "        return extLine\n",
    "\n",
    "def connectIfintesectedAfterExtending(twoLineList, extL ,tolInt, tolClose):\n",
    "    lines = deepcopy(twoLineList)\n",
    "    extLine1 = extendMultiSectioLinefromBothsides(twoLineList[0], extL)\n",
    "    extLine2 = extendMultiSectioLinefromBothsides(twoLineList[1], extL)\n",
    "    intrsct = LineString(extLine1).intersection(LineString(extLine2))\n",
    "    \n",
    "    if intrsct.geom_type == 'Point':\n",
    "        shortDisIndices = findTwoClosePointFromgivenPointIndex(lines, intrsct)\n",
    "        if max(shortDisIndices[0][1], shortDisIndices[1][1]) < tolInt:\n",
    "            lines[0][-shortDisIndices[0][0]] = [intrsct.x, intrsct.y]\n",
    "            lines[1][-shortDisIndices[1][0]] = [intrsct.x, intrsct.y]\n",
    "            return lines\n",
    "        else:\n",
    "            return connectToAvgIfCloseEnough(lines, tolClose)\n",
    "    elif intrsct.geom_type == 'LineString':\n",
    "        return connectToAvgIfCloseEnough(lines, tolClose) \n",
    "    elif intrsct.geom_type == 'MultiPoint':\n",
    "        print \"Warning: intersection of Extended version of Following lines is a MultiPoint:\"\n",
    "        print lines\n",
    "        for intPoint in intrsct:\n",
    "            shortDisIndices = findTwoClosePointFromgivenPointIndex(lines, intPoint)\n",
    "            if max(shortDisIndices[0][1], shortDisIndices[1][1]) < tolInt:\n",
    "                lines[0][-shortDisIndices[0][0]] = [intPoint.x, intPoint.y]\n",
    "                lines[1][-shortDisIndices[1][0]] = [intPoint.x, intPoint.y]\n",
    "        return lines\n",
    "\n",
    "# Work on this else i.e. the case where the extended versions meet in form\n",
    "# of MultiPoints very far and connectToAvgIfCloseEnough needs to be applied     \n",
    "#             else:\n",
    "#                 return connectToAvgIfCloseEnough(lines, tolClose)\n",
    "        \n",
    "            \n",
    "\n",
    "def cleanDanglesofAnyKind(twoLineList, extL, tolInt, tolClose):\n",
    "    extline1 = extendMultiSectioLinefromBothsides(twoLineList[0], extL)\n",
    "    extline2 = extendMultiSectioLinefromBothsides(twoLineList[1], extL)\n",
    "    \n",
    "    if LineString(twoLineList[0]).intersects(LineString(twoLineList[1])) == True:\n",
    "        return cleanIfintesectedAlready(twoLineList, tolInt)\n",
    "    \n",
    "    elif LineString(extline1).intersects(LineString(extline2)) == True:\n",
    "        return connectIfintesectedAfterExtending(twoLineList, extL ,tolInt, tolClose)\n",
    "    \n",
    "    else:\n",
    "        return connectToAvgIfCloseEnough(twoLineList, tolClose)\n",
    "\n",
    "\n",
    "    \n",
    "def cleanEachGroup(linesList, seF, extL, tolInt, tolClose):\n",
    "    linesListClean = deepcopy(linesList)\n",
    "    seNewFlags = deepcopy(seF)\n",
    "    for i in range(len(linesListClean)):\n",
    "        for j in range(i+1, len(linesListClean)):\n",
    "            twoline = [linesListClean[i], linesListClean[j]]\n",
    "            if False in seF[i + 1] or False in seF[j + 1]:\n",
    "                twolineclean = cleanDanglesofAnyKind(twoline, extL, tolInt, tolClose)\n",
    "                if not seF[i + 1][0]:\n",
    "                    linesListClean[i][0] = twolineclean[0][0] \n",
    "                if not seF[i + 1][1]:\n",
    "                    linesListClean[i][-1] = twolineclean[0][-1] \n",
    "                if not seF[j + 1][0]:\n",
    "                    linesListClean[j][0] = twolineclean[1][0] \n",
    "                if not seF[j + 1][1]:\n",
    "                    linesListClean[j][-1] = twolineclean[1][-1] \n",
    "    return linesListClean\n",
    "\n",
    "def plot_line(ax, line, color):\n",
    "    #line = [(x, y),...]\n",
    "    x, y = LineString(line).xy\n",
    "    # plot lines between points\n",
    "    ax.plot(x, y, color= color, alpha=0.7, linewidth=1, solid_capstyle='round', zorder=1)\n",
    "    # Plot first and last points with different colors\n",
    "#     ax.plot(x[0], y[0], 'o', color='#80F222', zorder=2)\n",
    "#     ax.plot(x[-1], y[-1], 'o', color='#F22222', zorder=2)\n",
    "    \n",
    "# function: handle axes limits and title of a plot of a (lineList \n",
    "def handle_axesLimTitle_for_lineList(ax, lineList, title):\n",
    "    #lineList = [line1, ...]\n",
    "    allXList = []\n",
    "    allYList = []\n",
    "    for line in lineList:\n",
    "        for point in line:\n",
    "            allXList.append(point[0])\n",
    "            allYList.append(point[1])\n",
    "    XLim = [min(allXList), max(allXList)]\n",
    "    YLim = [min(allYList), max(allYList)]\n",
    "    XEmptySpace = int((XLim[1]-XLim[0])/5.0)\n",
    "    YEmptySpace = int((YLim[1]-YLim[0])/5.0)\n",
    "    if XEmptySpace == 0:\n",
    "        XEmptySpace = 1\n",
    "    if YEmptySpace == 0:\n",
    "        YEmptySpace = 1\n",
    "    Xrange = [int(XLim[0]) - XEmptySpace, int(XLim[1]) + XEmptySpace]\n",
    "    Yrange = [int(YLim[0]) - YEmptySpace, int(YLim[1]) + YEmptySpace]\n",
    "    ax.set_xlim(*Xrange)\n",
    "    ax.set_ylim(*Yrange)\n",
    "    # ax.set_yticks(list(range(*Yrange)) + [Yrange[-1]])\n",
    "    # ax.set_aspect(1)\n",
    "    ax.set_title(title) "
   ]
  },
  {
   "cell_type": "markdown",
   "metadata": {},
   "source": [
    "## Clean the entire data:"
   ]
  },
  {
   "cell_type": "code",
   "execution_count": null,
   "metadata": {
    "collapsed": false
   },
   "outputs": [],
   "source": [
    "import ast\n",
    "extL, tolInt, tolClose = 150, 50, 30\n",
    "cleanSWList = []\n",
    "beforeCleanSWList = []\n",
    "startEndInfo = seFlags\n",
    "numPolstobeCleaned = len(rows) - 1\n",
    "for row, se, i in zip(rows, startEndInfo, range(numPolstobeCleaned)):\n",
    "    group = ast.literal_eval(row[1])['coordinates']\n",
    "    beforeCleanSWList.append((row[0], {'type': 'MultiLineString', 'coordinates': group}))\n",
    "    if len(group) > 1:\n",
    "        cleanGroup = cleanEachGroup(group, se, extL, tolInt, tolClose)\n",
    "        cleanSWList.append((row[0], {'type': 'MultiLineString', 'coordinates': cleanGroup}))\n",
    "    else:\n",
    "        cleanSWList.append((row[0], {'type': 'MultiLineString', 'coordinates': group}))    "
   ]
  },
  {
   "cell_type": "markdown",
   "metadata": {},
   "source": [
    "# Creat a table on the database to upload the new geometry data:"
   ]
  },
  {
   "cell_type": "code",
   "execution_count": null,
   "metadata": {
    "collapsed": false
   },
   "outputs": [],
   "source": [
    "conn = psycopg2.connect(database=\"****\", user=\"****\", password=\"****\", host=\"****\", port=\"****\")\n",
    "print \"Opened database successfully\"\n",
    "cur = conn.cursor()\n",
    "# Delete the table if already exist\n",
    "cur.execute('''DROP TABLE IF EXISTS ****''')\n",
    "# Create table CleanSW\n",
    "cur.execute('''CREATE TABLE **** (PolygonID INT, SWwithinPolGeom geometry(MULTILINESTRING, 2926));''')\n",
    "print \"Table created\"\n",
    "conn.commit()\n",
    "conn.close()"
   ]
  },
  {
   "cell_type": "markdown",
   "metadata": {},
   "source": [
    "## Insert the new geometry into the table:"
   ]
  },
  {
   "cell_type": "code",
   "execution_count": null,
   "metadata": {
    "collapsed": false
   },
   "outputs": [],
   "source": [
    "conn = psycopg2.connect(database=\"****\", user=\"****\", password=\"****\", host=\"****\", port=\"****\")\n",
    "print \"Opened database successfully\"\n",
    "cur = conn.cursor()\n",
    "cur.execute('''TRUNCATE ****''')\n",
    "\n",
    "for row in cleanSWList:\n",
    "    cur = conn.cursor()\n",
    "    cur.execute(\"INSERT INTO **** (PolygonID, SWwithinPolGeom) \\\n",
    "                VALUES (%s, ST_SetSRID(ST_GeomFromGeoJSON(%s),2926))\", (row[0], str(row[1])) );\n",
    "\n",
    "    \n",
    "conn.commit()\n",
    "conn.close()\n",
    "print \"Clean Data inserted successfully\""
   ]
  },
  {
   "cell_type": "markdown",
   "metadata": {},
   "source": [
    "## Clean a specific row and plot it (useful for finding bugs):"
   ]
  },
  {
   "cell_type": "code",
   "execution_count": null,
   "metadata": {
    "collapsed": false
   },
   "outputs": [],
   "source": [
    "groupNotclean = ast.literal_eval(rows[619][1])['coordinates']\n",
    "seG = seFlags[619]\n",
    "extL, tolInt, tolClose = 150, 100, 30\n",
    "if len(groupNotclean) > 1:\n",
    "    CGroup = cleanEachGroup(groupNotclean, seG, extL, tolInt, tolClose)\n",
    "# Plot the results\n",
    "fig = pyplot.figure(1, figsize=(10,5), dpi=90)\n",
    "ax = fig.add_subplot(121)\n",
    "\n",
    "for line in groupNotclean:\n",
    "    plot_line(ax, line, '#F22222')\n",
    "handle_axesLimTitle_for_lineList(ax, groupNotclean, \"Lines\")\n",
    "ax = fig.add_subplot(122)\n",
    "for line in CGroup:\n",
    "    plot_line(ax, line, '#F22222')\n",
    "handle_axesLimTitle_for_lineList(ax, groupNotclean, \"Lines\")"
   ]
  }
 ],
 "metadata": {
  "kernelspec": {
   "display_name": "Python 2",
   "language": "python",
   "name": "python2"
  },
  "language_info": {
   "codemirror_mode": {
    "name": "ipython",
    "version": 2
   },
   "file_extension": ".py",
   "mimetype": "text/x-python",
   "name": "python",
   "nbconvert_exporter": "python",
   "pygments_lexer": "ipython2",
   "version": "2.7.6"
  }
 },
 "nbformat": 4,
 "nbformat_minor": 0
}
