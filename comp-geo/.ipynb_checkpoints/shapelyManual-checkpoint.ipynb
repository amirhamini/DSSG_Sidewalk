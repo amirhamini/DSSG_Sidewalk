{
 "cells": [
  {
   "cell_type": "code",
   "execution_count": 1,
   "metadata": {
    "collapsed": true
   },
   "outputs": [],
   "source": [
    "# http://toblerity.org/shapely/manual.html\n",
    "# http://toblerity.org/shapely/shapely.geometry.html\n",
    "import shapely \n",
    "from shapely.geometry import Point \n",
    "from shapely.geometry import LineString\n",
    "\n",
    "from shapely.geometry import Polygon\n",
    "from shapely.geometry.polygon import LinearRing\n"
   ]
  },
  {
   "cell_type": "code",
   "execution_count": 2,
   "metadata": {
    "collapsed": false
   },
   "outputs": [
    {
     "name": "stdout",
     "output_type": "stream",
     "text": [
      "Point Point\n",
      "0.0 1.0\n",
      "array('d', [0.0]) array('d', [1.0])\n",
      "0.0 0.0\n",
      "1.0\n"
     ]
    }
   ],
   "source": [
    "# Deal with Points\n",
    "A = Point(0,0)\n",
    "B = Point(0,1)\n",
    "C = Point(2,3)\n",
    "# To find the type of A, B\n",
    "print A.type, A.geom_type\n",
    "# To find x and y component of a point\n",
    "print B.x, B.y\n",
    "# or\n",
    "x, y = B.xy\n",
    "print x,y\n",
    "# a point has zero Length and zero area\n",
    "print B.length, B.area\n",
    "# To find a distance between two points\n",
    "print A.distance(B)"
   ]
  },
  {
   "cell_type": "code",
   "execution_count": 3,
   "metadata": {
    "collapsed": false
   },
   "outputs": [
    {
     "name": "stdout",
     "output_type": "stream",
     "text": [
      "LINESTRING (0 0, 0 1, 2 3)\n",
      "3.82842712475 0.0\n",
      "(0.0, 0.0, 2.0, 3.0)\n",
      "0.0 2.0\n",
      "[(0.0, 0.0), (0.0, 1.0), (2.0, 3.0)] 3\n"
     ]
    }
   ],
   "source": [
    "# Deal with LineStrings: LineString is a list of points\n",
    "ABC_LineString = LineString([A,B,C])\n",
    "print ABC_LineString\n",
    "# LineString has non-zero length and zero area\n",
    "print ABC_LineString.length, ABC_LineString.area\n",
    "# To find range of X and range of Y components in a LineString\n",
    "print ABC_LineString.bounds #----> (min(x), min(y), max(x), max(y))\n",
    "minx, maxx = ABC_LineString.bounds[0], ABC_LineString.bounds[2]\n",
    "print minx, maxx\n",
    "# To find what points are in a LineString and how many are they\n",
    "listPoints = list(ABC_LineString.coords)\n",
    "numPoints = len(listPoints)\n",
    "print listPoints, numPoints"
   ]
  },
  {
   "cell_type": "code",
   "execution_count": 4,
   "metadata": {
    "collapsed": false
   },
   "outputs": [],
   "source": [
    "# Deal with LinearRings: Why is this needed???"
   ]
  },
  {
   "cell_type": "code",
   "execution_count": 4,
   "metadata": {
    "collapsed": false
   },
   "outputs": [
    {
     "name": "stdout",
     "output_type": "stream",
     "text": [
      "LINEARRING (1 1, 1 3, 3 3, 1 1)\n",
      "POLYGON ((0 0, 0 4, 4 4, 0 0), (1 1, 1 3, 3 3, 1 1))\n",
      "20.4852813742 6.0\n",
      "(0.0, 0.0, 4.0, 4.0)\n",
      "[(0.0, 0.0), (0.0, 4.0), (4.0, 4.0), (0.0, 0.0)]\n",
      "LINEARRING (1 1, 1 3, 3 3, 1 1)\n"
     ]
    }
   ],
   "source": [
    "# Deal with Polygons: the Polygon constructor takes two positional parameters.\n",
    "# The first is an ordered sequence of point tuples.\n",
    "# The second is an optional unordered sequence of ring-like sequences specifying\n",
    "# the interior boundaries or “holes” of the feature. Polygon(ext,[int])\n",
    "# Rings of a valid Polygon may not cross each other, but may touch at a single point only.\n",
    "# Shapely will not prevent the creation of invalid features,\n",
    "# but exceptions will be raised when they are operated on.\n",
    "A = Point(0,0)\n",
    "B = Point(0,4)\n",
    "C = Point(4,4)\n",
    "\n",
    "inner_hole = [(1,1),(1,3),(3,3)]\n",
    "inner_holeLinearring = LinearRing(inner_hole)\n",
    "print inner_holeLinearring\n",
    "\n",
    "# ABCA_Polygon = Polygon([A,B,C]) Note: Polygon does not work with Point type as input!!!!!!!!!\n",
    "\n",
    "ABCA_Polygon = Polygon([(A.x,A.y),(B.x,B.y),(C.x,C.y)],[inner_holeLinearring])\n",
    "\n",
    "print ABCA_Polygon \n",
    "# A Polygon has non-zero length and non-zero area\n",
    "print ABCA_Polygon.length, ABCA_Polygon.area\n",
    "# To find range of X and range of Y components in a LineString\n",
    "print ABCA_Polygon.bounds #----> (min(x), min(y), max(x), max(y))\n",
    "# To find the points of Polygon we need to specify it we are looking for exterior boundary or interior one\n",
    "listExtPoints = list(ABCA_Polygon.exterior.coords)\n",
    "print listExtPoints\n",
    "listIntPoints = list(ABCA_Polygon.interiors)\n",
    "print listIntPoints[0]"
   ]
  },
  {
   "cell_type": "code",
   "execution_count": 5,
   "metadata": {
    "collapsed": false
   },
   "outputs": [
    {
     "ename": "TypeError",
     "evalue": "range() integer end argument expected, got float.",
     "output_type": "error",
     "traceback": [
      "\u001b[0;31m---------------------------------------------------------------------------\u001b[0m",
      "\u001b[0;31mTypeError\u001b[0m                                 Traceback (most recent call last)",
      "\u001b[0;32m<ipython-input-5-0ad49860cc5f>\u001b[0m in \u001b[0;36m<module>\u001b[0;34m()\u001b[0m\n\u001b[1;32m     41\u001b[0m \u001b[0max\u001b[0m\u001b[0;34m.\u001b[0m\u001b[0mset_xlim\u001b[0m\u001b[0;34m(\u001b[0m\u001b[0;34m*\u001b[0m\u001b[0mxrange\u001b[0m\u001b[0;34m)\u001b[0m\u001b[0;34m\u001b[0m\u001b[0m\n\u001b[1;32m     42\u001b[0m \u001b[0max\u001b[0m\u001b[0;34m.\u001b[0m\u001b[0mset_ylim\u001b[0m\u001b[0;34m(\u001b[0m\u001b[0;34m*\u001b[0m\u001b[0myrange\u001b[0m\u001b[0;34m)\u001b[0m\u001b[0;34m\u001b[0m\u001b[0m\n\u001b[0;32m---> 43\u001b[0;31m \u001b[0max\u001b[0m\u001b[0;34m.\u001b[0m\u001b[0mset_yticks\u001b[0m\u001b[0;34m(\u001b[0m\u001b[0mlist\u001b[0m\u001b[0;34m(\u001b[0m\u001b[0mrange\u001b[0m\u001b[0;34m(\u001b[0m\u001b[0;34m*\u001b[0m\u001b[0myrange\u001b[0m\u001b[0;34m)\u001b[0m\u001b[0;34m)\u001b[0m \u001b[0;34m+\u001b[0m \u001b[0;34m[\u001b[0m\u001b[0myrange\u001b[0m\u001b[0;34m[\u001b[0m\u001b[0;34m-\u001b[0m\u001b[0;36m1\u001b[0m\u001b[0;34m]\u001b[0m\u001b[0;34m]\u001b[0m\u001b[0;34m)\u001b[0m\u001b[0;34m\u001b[0m\u001b[0m\n\u001b[0m\u001b[1;32m     44\u001b[0m \u001b[0max\u001b[0m\u001b[0;34m.\u001b[0m\u001b[0mset_aspect\u001b[0m\u001b[0;34m(\u001b[0m\u001b[0;36m1\u001b[0m\u001b[0;34m)\u001b[0m\u001b[0;34m\u001b[0m\u001b[0m\n\u001b[1;32m     45\u001b[0m \u001b[0;34m\u001b[0m\u001b[0m\n",
      "\u001b[0;31mTypeError\u001b[0m: range() integer end argument expected, got float."
     ]
    }
   ],
   "source": [
    "import shapely \n",
    "from shapely.geometry import Point \n",
    "from shapely.geometry import LineString\n",
    "# Before going furthur Let's deal with visualization using matplotlib\n",
    "# 1. plot points\n",
    "from matplotlib import pyplot\n",
    "\n",
    "# To plot points with black circles with blue inside\n",
    "def plot_points(ax, ob): \n",
    "    x, y = ob.xy\n",
    "    ax.plot(x, y, 'o', color='#83CBC1', zorder=1)\n",
    "\n",
    "\n",
    "\n",
    "# def plot_line(ax, ob):\n",
    "#     x, y = ob.xy\n",
    "#     ax.plot(x, y, color=v_color(ob), alpha=0.7, linewidth=3, solid_capstyle='round', zorder=2)\n",
    "\n",
    "fig = pyplot.figure(1, figsize=(10,5), dpi=90)\n",
    "\n",
    "# 1: simple line\n",
    "ax = fig.add_subplot(111)\n",
    "\n",
    "A = Point(0,0)\n",
    "B = Point(2,2)\n",
    "C = Point(3,3)\n",
    "\n",
    "listPoints = [A,B,C]\n",
    "for point in listPoints:\n",
    "    plot_points(ax, point)\n",
    "\n",
    "\n",
    "\n",
    "ax.set_title('Plotting Points')\n",
    "\n",
    "# To find the xLimit and ylimits we can create a LineString so that we can use bounds\n",
    "line = LineString([A,B,C])\n",
    "Limits = line.bounds\n",
    "xrange = [int(Limits[0]) - 1, int(Limits[2]) + 1]\n",
    "yrange = [int(Limits[1]) - 1, int(Limits[3]) + 1]\n",
    "ax.set_xlim(*xrange)\n",
    "ax.set_ylim(*yrange)\n",
    "ax.set_yticks(list(range(*yrange)) + [yrange[-1]])\n",
    "ax.set_aspect(1)\n",
    "\n",
    "\n",
    "pyplot.show()\n",
    "\n"
   ]
  },
  {
   "cell_type": "code",
   "execution_count": null,
   "metadata": {
    "collapsed": false
   },
   "outputs": [],
   "source": [
    "# 2. plot a Linestring\n",
    "# Everything is similar to plotting points we just need to draw lines between points and\n",
    "# specify first and last point\n",
    "import shapely \n",
    "from shapely.geometry import Point \n",
    "from shapely.geometry import LineString\n",
    "from matplotlib import pyplot\n",
    "\n",
    "# To plot points with black circles with blue inside \n",
    "# ob is a point\n",
    "def plot_points(ax, ob): \n",
    "    x, y = ob.xy\n",
    "    ax.plot(x, y, 'o', color='#83CBC1', zorder=1)\n",
    "\n",
    "        \n",
    "# To plot first with black circles with green inside \n",
    "# and last with black circles with red inside \n",
    "# ob is a line\n",
    "def plot_firstLastPoints(ax, ob): \n",
    "    x, y = ob.xy\n",
    "    ax.plot(x[0], y[0], 'o', color='#80F222', zorder=1)\n",
    "    ax.plot(x[-1], y[-1], 'o', color='#F22222', zorder=1)\n",
    "# To plot lines between points\n",
    "# ob is a line\n",
    "def plot_line(ax, ob):\n",
    "    x, y = ob.xy\n",
    "    ax.plot(x, y, color=\"#C885CD\", alpha=0.7, linewidth=3, solid_capstyle='round', zorder=2)\n",
    "\n",
    "fig = pyplot.figure(1, figsize=(10,5), dpi=90)\n",
    "\n",
    "# 1: simple line\n",
    "ax = fig.add_subplot(111)\n",
    "\n",
    "A = Point(0,0)\n",
    "B = Point(2,2)\n",
    "C = Point(3,3)\n",
    "D = Point(5,7)\n",
    "\n",
    "line = LineString([A,B,C,D])\n",
    "\n",
    "for point in line.coords[1:-1]:\n",
    "    plot_points(ax, Point(point[0],point[1]))\n",
    "\n",
    "plot_firstLastPoints(ax, line)\n",
    "\n",
    "plot_line(ax, line)\n",
    "\n",
    "ax.set_title('Plotting LineString')\n",
    "\n",
    "# To find the xLimit and ylimits we can create a LineString so that we can use bounds\n",
    "\n",
    "Limits = line.bounds\n",
    "xrange = [int(Limits[0]) - 1, int(Limits[2]) + 1]\n",
    "yrange = [int(Limits[1]) - 1, int(Limits[3]) + 1]\n",
    "ax.set_xlim(*xrange)\n",
    "ax.set_ylim(*yrange)\n",
    "ax.set_yticks(list(range(*yrange)) + [yrange[-1]])\n",
    "ax.set_aspect(1)\n",
    "\n",
    "\n",
    "pyplot.show()"
   ]
  },
  {
   "cell_type": "code",
   "execution_count": 1,
   "metadata": {
    "collapsed": false
   },
   "outputs": [
    {
     "name": "stdout",
     "output_type": "stream",
     "text": [
      "[3, 4]\n"
     ]
    }
   ],
   "source": []
  },
  {
   "cell_type": "code",
   "execution_count": null,
   "metadata": {
    "collapsed": true
   },
   "outputs": [],
   "source": []
  }
 ],
 "metadata": {
  "kernelspec": {
   "display_name": "Python 2",
   "language": "python",
   "name": "python2"
  },
  "language_info": {
   "codemirror_mode": {
    "name": "ipython",
    "version": 2
   },
   "file_extension": ".py",
   "mimetype": "text/x-python",
   "name": "python",
   "nbconvert_exporter": "python",
   "pygments_lexer": "ipython2",
   "version": "2.7.6"
  }
 },
 "nbformat": 4,
 "nbformat_minor": 0
}
