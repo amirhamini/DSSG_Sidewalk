{
 "cells": [
  {
   "cell_type": "code",
   "execution_count": 1,
   "metadata": {
    "collapsed": false
   },
   "outputs": [
    {
     "name": "stdout",
     "output_type": "stream",
     "text": [
      "[(1272335.6996672302, 245282.78121329844), (1272340.9804965556, 245463.79167805612)]\n"
     ]
    }
   ],
   "source": [
    "import fiona\n",
    "with fiona.open('./2015-07-23_SideWalk_Subset/2015-07-23_SideWalk_Subset.shp', 'r') as inputfile:\n",
    "    sidewalkLineList = []\n",
    "    # sidewalkLineList = [ [line0], [line1], ... ]     \n",
    "    for row in inputfile:\n",
    "        sidewalkLineList.append(row['geometry']['coordinates'])\n",
    "print sidewalkLineList[0]"
   ]
  },
  {
   "cell_type": "code",
   "execution_count": 2,
   "metadata": {
    "collapsed": false
   },
   "outputs": [
    {
     "name": "stdout",
     "output_type": "stream",
     "text": [
      "[[(1270054.0493293256, 243203.10622107983), (1270066.345009327, 243628.93610951304), (1270360.594481632, 243620.9056455046), (1270348.2708976269, 243195.1315650791), (1270054.0493293256, 243203.10622107983)], '10']\n"
     ]
    }
   ],
   "source": [
    "import fiona\n",
    "with fiona.open('./20150723-postgispolygons-from-streets/20150723-postgispolygons-from-streets.shp', 'r') as inputfile:\n",
    "    streetPolygonList = []\n",
    "    # streetPolygonList = [ [[polygon0], id], [[polygon1], id], ...]\n",
    "    for row in inputfile:\n",
    "        streetPolygonList.append([ row['geometry']['coordinates'][0], row['id'] ])\n",
    "print streetPolygonList[10]"
   ]
  },
  {
   "cell_type": "code",
   "execution_count": 3,
   "metadata": {
    "collapsed": true
   },
   "outputs": [],
   "source": [
    "import shapely \n",
    "# function: plots one line (not a lineList) with first and last points with different colors\n",
    "def plot_line(ax, line, color):\n",
    "    #line = [(x, y),...]\n",
    "    x, y = LineString(line).xy\n",
    "    # plot lines between points\n",
    "    ax.plot(x, y, color= color, alpha=0.7, linewidth=1, solid_capstyle='round', zorder=1)\n",
    "    # Plot first and last points with different colors\n",
    "#     ax.plot(x[0], y[0], 'o', color='#80F222', zorder=2)\n",
    "#     ax.plot(x[-1], y[-1], 'o', color='#F22222', zorder=2)\n",
    "    \n",
    "# function: handle axes limits and title of a plot of a (lineList \n",
    "def handle_axesLimTitle_for_lineList(ax, lineList, title):\n",
    "    #lineList = [line1, ...]\n",
    "    allXList = []\n",
    "    allYList = []\n",
    "    for line in lineList:\n",
    "        for point in line:\n",
    "            allXList.append(point[0])\n",
    "            allYList.append(point[1])\n",
    "    XLim = [min(allXList), max(allXList)]\n",
    "    YLim = [min(allYList), max(allYList)]\n",
    "    XEmptySpace = int((XLim[1]-XLim[0])/5.0)\n",
    "    YEmptySpace = int((YLim[1]-YLim[0])/5.0)\n",
    "    if XEmptySpace == 0:\n",
    "        XEmptySpace = 1\n",
    "    if YEmptySpace == 0:\n",
    "        YEmptySpace = 1\n",
    "    Xrange = [int(XLim[0]) - XEmptySpace, int(XLim[1]) + XEmptySpace]\n",
    "    Yrange = [int(YLim[0]) - YEmptySpace, int(YLim[1]) + YEmptySpace]\n",
    "    ax.set_xlim(*Xrange)\n",
    "    ax.set_ylim(*Yrange)\n",
    "    # ax.set_yticks(list(range(*Yrange)) + [Yrange[-1]])\n",
    "    # ax.set_aspect(1)\n",
    "    ax.set_title(title) "
   ]
  },
  {
   "cell_type": "code",
   "execution_count": null,
   "metadata": {
    "collapsed": false
   },
   "outputs": [],
   "source": [
    "from shapely.geometry import LineString\n",
    "from matplotlib import pyplot\n",
    "import mpld3\n",
    "%matplotlib inline\n",
    "mpld3.enable_notebook()\n",
    "fig = pyplot.figure(1, figsize=(10,5), dpi=90)\n",
    "ax = fig.add_subplot(111)\n",
    "for line in sidewalkLineList:\n",
    "    plot_line(ax, line, \"#F90A0A\")\n",
    "for polygoninfo in streetPolygonList:\n",
    "    plot_line(ax, polygoninfo[0], \"#0A3EF9\")\n",
    "handle_axesLimTitle_for_lineList(ax, sidewalkLineList, \"Side Walk\")\n",
    "mpld3.show()"
   ]
  },
  {
   "cell_type": "code",
   "execution_count": null,
   "metadata": {
    "collapsed": true
   },
   "outputs": [],
   "source": [
    "# Find which plygon each sidewalk "
   ]
  }
 ],
 "metadata": {
  "kernelspec": {
   "display_name": "Python 2",
   "language": "python",
   "name": "python2"
  },
  "language_info": {
   "codemirror_mode": {
    "name": "ipython",
    "version": 2
   },
   "file_extension": ".py",
   "mimetype": "text/x-python",
   "name": "python",
   "nbconvert_exporter": "python",
   "pygments_lexer": "ipython2",
   "version": "2.7.6"
  }
 },
 "nbformat": 4,
 "nbformat_minor": 0
}
