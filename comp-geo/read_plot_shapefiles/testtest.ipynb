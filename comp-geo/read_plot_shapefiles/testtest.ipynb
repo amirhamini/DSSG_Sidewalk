{
 "cells": [
  {
   "cell_type": "code",
   "execution_count": 1,
   "metadata": {
    "collapsed": false
   },
   "outputs": [
    {
     "name": "stdout",
     "output_type": "stream",
     "text": [
      "[(1272335.6996672302, 245282.78121329844), (1272340.9804965556, 245463.79167805612)]\n"
     ]
    }
   ],
   "source": [
    "import fiona\n",
    "with fiona.open('./2015-07-23_SideWalk_Subset/2015-07-23_SideWalk_Subset.shp', 'r') as inputfile:\n",
    "    sidewalkLineList = []\n",
    "    # sidewalkLineList = [ [line0], [line1], ... ]     \n",
    "    for row in inputfile:\n",
    "        sidewalkLineList.append(row['geometry']['coordinates'])\n",
    "print sidewalkLineList[0]"
   ]
  },
  {
   "cell_type": "code",
   "execution_count": 2,
   "metadata": {
    "collapsed": false
   },
   "outputs": [
    {
     "name": "stdout",
     "output_type": "stream",
     "text": [
      "[[(1270054.0493293256, 243203.10622107983), (1270066.345009327, 243628.93610951304), (1270360.594481632, 243620.9056455046), (1270348.2708976269, 243195.1315650791), (1270054.0493293256, 243203.10622107983)], 10]\n"
     ]
    }
   ],
   "source": [
    "import fiona\n",
    "with fiona.open('./20150723-postgispolygons-from-streets/20150723-postgispolygons-from-streets.shp', 'r') as inputfile:\n",
    "    streetPolygonList = []\n",
    "    # streetPolygonList = [ [[polygon0], id], [[polygon1], id], ...]\n",
    "    for row in inputfile:\n",
    "        streetPolygonList.append([ row['geometry']['coordinates'][0], int(row['id']) ])\n",
    "print streetPolygonList[10]"
   ]
  },
  {
   "cell_type": "code",
   "execution_count": 3,
   "metadata": {
    "collapsed": true
   },
   "outputs": [],
   "source": [
    "import shapely \n",
    "# function: plots one line (not a lineList) with first and last points with different colors\n",
    "def plot_line(ax, line, color):\n",
    "    #line = [(x, y),...]\n",
    "    x, y = LineString(line).xy\n",
    "    # plot lines between points\n",
    "    ax.plot(x, y, color= color, alpha=0.7, linewidth=1, solid_capstyle='round', zorder=1)\n",
    "    # Plot first and last points with different colors\n",
    "#     ax.plot(x[0], y[0], 'o', color='#80F222', zorder=2)\n",
    "#     ax.plot(x[-1], y[-1], 'o', color='#F22222', zorder=2)\n",
    "    \n",
    "# function: handle axes limits and title of a plot of a (lineList \n",
    "def handle_axesLimTitle_for_lineList(ax, lineList, title):\n",
    "    #lineList = [line1, ...]\n",
    "    allXList = []\n",
    "    allYList = []\n",
    "    for line in lineList:\n",
    "        for point in line:\n",
    "            allXList.append(point[0])\n",
    "            allYList.append(point[1])\n",
    "    XLim = [min(allXList), max(allXList)]\n",
    "    YLim = [min(allYList), max(allYList)]\n",
    "    XEmptySpace = int((XLim[1]-XLim[0])/5.0)\n",
    "    YEmptySpace = int((YLim[1]-YLim[0])/5.0)\n",
    "    if XEmptySpace == 0:\n",
    "        XEmptySpace = 1\n",
    "    if YEmptySpace == 0:\n",
    "        YEmptySpace = 1\n",
    "    Xrange = [int(XLim[0]) - XEmptySpace, int(XLim[1]) + XEmptySpace]\n",
    "    Yrange = [int(YLim[0]) - YEmptySpace, int(YLim[1]) + YEmptySpace]\n",
    "    ax.set_xlim(*Xrange)\n",
    "    ax.set_ylim(*Yrange)\n",
    "    # ax.set_yticks(list(range(*Yrange)) + [Yrange[-1]])\n",
    "    # ax.set_aspect(1)\n",
    "    ax.set_title(title) "
   ]
  },
  {
   "cell_type": "code",
   "execution_count": 4,
   "metadata": {
    "collapsed": false
   },
   "outputs": [
    {
     "ename": "ImportError",
     "evalue": "cannot import name _thread",
     "output_type": "error",
     "traceback": [
      "\u001b[0;31m---------------------------------------------------------------------------\u001b[0m",
      "\u001b[0;31mImportError\u001b[0m                               Traceback (most recent call last)",
      "\u001b[0;32m<ipython-input-4-760b667c447b>\u001b[0m in \u001b[0;36m<module>\u001b[0;34m()\u001b[0m\n\u001b[1;32m      1\u001b[0m \u001b[0;32mfrom\u001b[0m \u001b[0mshapely\u001b[0m\u001b[0;34m.\u001b[0m\u001b[0mgeometry\u001b[0m \u001b[0;32mimport\u001b[0m \u001b[0mLineString\u001b[0m\u001b[0;34m,\u001b[0m \u001b[0mPolygon\u001b[0m\u001b[0;34m,\u001b[0m \u001b[0mPoint\u001b[0m\u001b[0;34m\u001b[0m\u001b[0m\n\u001b[0;32m----> 2\u001b[0;31m \u001b[0;32mfrom\u001b[0m \u001b[0mmatplotlib\u001b[0m \u001b[0;32mimport\u001b[0m \u001b[0mpyplot\u001b[0m\u001b[0;34m\u001b[0m\u001b[0m\n\u001b[0m\u001b[1;32m      3\u001b[0m \u001b[0;31m# import mpld3\u001b[0m\u001b[0;34m\u001b[0m\u001b[0;34m\u001b[0m\u001b[0m\n\u001b[1;32m      4\u001b[0m \u001b[0mget_ipython\u001b[0m\u001b[0;34m(\u001b[0m\u001b[0;34m)\u001b[0m\u001b[0;34m.\u001b[0m\u001b[0mmagic\u001b[0m\u001b[0;34m(\u001b[0m\u001b[0;34mu'matplotlib inline'\u001b[0m\u001b[0;34m)\u001b[0m\u001b[0;34m\u001b[0m\u001b[0m\n\u001b[1;32m      5\u001b[0m \u001b[0;31m# mpld3.enable_notebook()\u001b[0m\u001b[0;34m\u001b[0m\u001b[0;34m\u001b[0m\u001b[0m\n",
      "\u001b[0;32m/Library/Python/2.7/site-packages/matplotlib-override/matplotlib/pyplot.py\u001b[0m in \u001b[0;36m<module>\u001b[0;34m()\u001b[0m\n\u001b[1;32m     27\u001b[0m \u001b[0;32mfrom\u001b[0m \u001b[0mmatplotlib\u001b[0m \u001b[0;32mimport\u001b[0m \u001b[0mdocstring\u001b[0m\u001b[0;34m\u001b[0m\u001b[0m\n\u001b[1;32m     28\u001b[0m \u001b[0;32mfrom\u001b[0m \u001b[0mmatplotlib\u001b[0m\u001b[0;34m.\u001b[0m\u001b[0mbackend_bases\u001b[0m \u001b[0;32mimport\u001b[0m \u001b[0mFigureCanvasBase\u001b[0m\u001b[0;34m\u001b[0m\u001b[0m\n\u001b[0;32m---> 29\u001b[0;31m \u001b[0;32mfrom\u001b[0m \u001b[0mmatplotlib\u001b[0m\u001b[0;34m.\u001b[0m\u001b[0mfigure\u001b[0m \u001b[0;32mimport\u001b[0m \u001b[0mFigure\u001b[0m\u001b[0;34m,\u001b[0m \u001b[0mfigaspect\u001b[0m\u001b[0;34m\u001b[0m\u001b[0m\n\u001b[0m\u001b[1;32m     30\u001b[0m \u001b[0;32mfrom\u001b[0m \u001b[0mmatplotlib\u001b[0m\u001b[0;34m.\u001b[0m\u001b[0mgridspec\u001b[0m \u001b[0;32mimport\u001b[0m \u001b[0mGridSpec\u001b[0m\u001b[0;34m\u001b[0m\u001b[0m\n\u001b[1;32m     31\u001b[0m \u001b[0;32mfrom\u001b[0m \u001b[0mmatplotlib\u001b[0m\u001b[0;34m.\u001b[0m\u001b[0mimage\u001b[0m \u001b[0;32mimport\u001b[0m \u001b[0mimread\u001b[0m \u001b[0;32mas\u001b[0m \u001b[0m_imread\u001b[0m\u001b[0;34m\u001b[0m\u001b[0m\n",
      "\u001b[0;32m/Library/Python/2.7/site-packages/matplotlib-override/matplotlib/figure.py\u001b[0m in \u001b[0;36m<module>\u001b[0;34m()\u001b[0m\n\u001b[1;32m     34\u001b[0m \u001b[0;32mimport\u001b[0m \u001b[0mmatplotlib\u001b[0m\u001b[0;34m.\u001b[0m\u001b[0mcolorbar\u001b[0m \u001b[0;32mas\u001b[0m \u001b[0mcbar\u001b[0m\u001b[0;34m\u001b[0m\u001b[0m\n\u001b[1;32m     35\u001b[0m \u001b[0;34m\u001b[0m\u001b[0m\n\u001b[0;32m---> 36\u001b[0;31m \u001b[0;32mfrom\u001b[0m \u001b[0mmatplotlib\u001b[0m\u001b[0;34m.\u001b[0m\u001b[0maxes\u001b[0m \u001b[0;32mimport\u001b[0m \u001b[0mAxes\u001b[0m\u001b[0;34m,\u001b[0m \u001b[0mSubplotBase\u001b[0m\u001b[0;34m,\u001b[0m \u001b[0msubplot_class_factory\u001b[0m\u001b[0;34m\u001b[0m\u001b[0m\n\u001b[0m\u001b[1;32m     37\u001b[0m \u001b[0;32mfrom\u001b[0m \u001b[0mmatplotlib\u001b[0m\u001b[0;34m.\u001b[0m\u001b[0mblocking_input\u001b[0m \u001b[0;32mimport\u001b[0m \u001b[0mBlockingMouseInput\u001b[0m\u001b[0;34m,\u001b[0m \u001b[0mBlockingKeyMouseInput\u001b[0m\u001b[0;34m\u001b[0m\u001b[0m\n\u001b[1;32m     38\u001b[0m \u001b[0;32mfrom\u001b[0m \u001b[0mmatplotlib\u001b[0m\u001b[0;34m.\u001b[0m\u001b[0mlegend\u001b[0m \u001b[0;32mimport\u001b[0m \u001b[0mLegend\u001b[0m\u001b[0;34m\u001b[0m\u001b[0m\n",
      "\u001b[0;32m/Library/Python/2.7/site-packages/matplotlib-override/matplotlib/axes.py\u001b[0m in \u001b[0;36m<module>\u001b[0;34m()\u001b[0m\n\u001b[1;32m     18\u001b[0m \u001b[0;32mimport\u001b[0m \u001b[0mmatplotlib\u001b[0m\u001b[0;34m.\u001b[0m\u001b[0mcolors\u001b[0m \u001b[0;32mas\u001b[0m \u001b[0mmcolors\u001b[0m\u001b[0;34m\u001b[0m\u001b[0m\n\u001b[1;32m     19\u001b[0m \u001b[0;32mimport\u001b[0m \u001b[0mmatplotlib\u001b[0m\u001b[0;34m.\u001b[0m\u001b[0mcontour\u001b[0m \u001b[0;32mas\u001b[0m \u001b[0mmcontour\u001b[0m\u001b[0;34m\u001b[0m\u001b[0m\n\u001b[0;32m---> 20\u001b[0;31m \u001b[0;32mimport\u001b[0m \u001b[0mmatplotlib\u001b[0m\u001b[0;34m.\u001b[0m\u001b[0mdates\u001b[0m \u001b[0;32mas\u001b[0m \u001b[0m_\u001b[0m  \u001b[0;31m# <-registers a date unit converter\u001b[0m\u001b[0;34m\u001b[0m\u001b[0m\n\u001b[0m\u001b[1;32m     21\u001b[0m \u001b[0;32mfrom\u001b[0m \u001b[0mmatplotlib\u001b[0m \u001b[0;32mimport\u001b[0m \u001b[0mdocstring\u001b[0m\u001b[0;34m\u001b[0m\u001b[0m\n\u001b[1;32m     22\u001b[0m \u001b[0;32mimport\u001b[0m \u001b[0mmatplotlib\u001b[0m\u001b[0;34m.\u001b[0m\u001b[0mfont_manager\u001b[0m \u001b[0;32mas\u001b[0m \u001b[0mfont_manager\u001b[0m\u001b[0;34m\u001b[0m\u001b[0m\n",
      "\u001b[0;32m/Library/Python/2.7/site-packages/matplotlib-override/matplotlib/dates.py\u001b[0m in \u001b[0;36m<module>\u001b[0;34m()\u001b[0m\n\u001b[1;32m    117\u001b[0m \u001b[0;34m\u001b[0m\u001b[0m\n\u001b[1;32m    118\u001b[0m \u001b[0;34m\u001b[0m\u001b[0m\n\u001b[0;32m--> 119\u001b[0;31m from dateutil.rrule import (rrule, MO, TU, WE, TH, FR, SA, SU, YEARLY,\n\u001b[0m\u001b[1;32m    120\u001b[0m                             \u001b[0mMONTHLY\u001b[0m\u001b[0;34m,\u001b[0m \u001b[0mWEEKLY\u001b[0m\u001b[0;34m,\u001b[0m \u001b[0mDAILY\u001b[0m\u001b[0;34m,\u001b[0m \u001b[0mHOURLY\u001b[0m\u001b[0;34m,\u001b[0m \u001b[0mMINUTELY\u001b[0m\u001b[0;34m,\u001b[0m\u001b[0;34m\u001b[0m\u001b[0m\n\u001b[1;32m    121\u001b[0m                             SECONDLY)\n",
      "\u001b[0;32m/Library/Python/2.7/site-packages/dateutil/rrule.py\u001b[0m in \u001b[0;36m<module>\u001b[0;34m()\u001b[0m\n\u001b[1;32m     14\u001b[0m \u001b[0;34m\u001b[0m\u001b[0m\n\u001b[1;32m     15\u001b[0m \u001b[0;32mfrom\u001b[0m \u001b[0msix\u001b[0m \u001b[0;32mimport\u001b[0m \u001b[0madvance_iterator\u001b[0m\u001b[0;34m,\u001b[0m \u001b[0minteger_types\u001b[0m\u001b[0;34m\u001b[0m\u001b[0m\n\u001b[0;32m---> 16\u001b[0;31m \u001b[0;32mfrom\u001b[0m \u001b[0msix\u001b[0m\u001b[0;34m.\u001b[0m\u001b[0mmoves\u001b[0m \u001b[0;32mimport\u001b[0m \u001b[0m_thread\u001b[0m\u001b[0;34m\u001b[0m\u001b[0m\n\u001b[0m\u001b[1;32m     17\u001b[0m \u001b[0;34m\u001b[0m\u001b[0m\n\u001b[1;32m     18\u001b[0m __all__ = [\"rrule\", \"rruleset\", \"rrulestr\",\n",
      "\u001b[0;31mImportError\u001b[0m: cannot import name _thread"
     ]
    }
   ],
   "source": [
    "from shapely.geometry import LineString, Polygon, Point\n",
    "from matplotlib import pyplot\n",
    "# import mpld3\n",
    "%matplotlib inline\n",
    "# mpld3.enable_notebook()\n",
    "fig = pyplot.figure(1, figsize=(10,5), dpi=90)\n",
    "ax = fig.add_subplot(111)\n",
    "for line in sidewalkLineList:\n",
    "    plot_line(ax, line, \"#F90A0A\")\n",
    "for polygoninfo in streetPolygonList:\n",
    "    plot_line(ax, polygoninfo[0], \"#0A3EF9\")\n",
    "handle_axesLimTitle_for_lineList(ax, sidewalkLineList, \"Side Walk\")\n",
    "pyplot.show()"
   ]
  },
  {
   "cell_type": "code",
   "execution_count": 5,
   "metadata": {
    "collapsed": false
   },
   "outputs": [
    {
     "name": "stdout",
     "output_type": "stream",
     "text": [
      "[0, [(1270356.8095961362, 242781.61167496443), (1270368.3581294715, 243180.57478779554)], [(1270621.5006678104, 242766.31380529702), (1270632.4885067195, 243158.00724762678)], [(1270360.6754020602, 243174.28641454875), (1270616.9232491404, 243167.31661221385), (1270631.496710807, 243159.69326788187)], [(1270350.097011149, 242791.00896587968), (1270628.8986188918, 242776.00013762712)]]\n"
     ]
    }
   ],
   "source": [
    "# Find which plygon each sidewalk belongs to?\n",
    "sideWalksWhichPolygon = [ [polygoninfo[1]] for polygoninfo in streetPolygonList]\n",
    "for line in sidewalkLineList:\n",
    "    for polygoninfo in streetPolygonList:\n",
    "        if Polygon(polygoninfo[0]).contains(Point(line[0])) and Polygon(polygoninfo[0]).contains(Point(line[1])):\n",
    "            sideWalksWhichPolygon[polygoninfo[1]].append(line)\n",
    "            continue\n",
    "print sideWalksWhichPolygon[0]"
   ]
  },
  {
   "cell_type": "code",
   "execution_count": 6,
   "metadata": {
    "collapsed": false
   },
   "outputs": [
    {
     "data": {
      "image/png": "[encoded data removed]",
      "text/html": [
       "\n",
       "\n",
       "<style>\n",
       "\n",
       "</style>\n",
       "\n",
       "<div id=\"fig_el638943978401449500009473\"></div>\n",
       "<script>\n",
       "function mpld3_load_lib(url, callback){\n",
       "  var s = document.createElement('script');\n",
       "  s.src = url;\n",
       "  s.async = true;\n",
       "  s.onreadystatechange = s.onload = callback;\n",
       "  s.onerror = function(){console.warn(\"failed to load library \" + url);};\n",
       "  document.getElementsByTagName(\"head\")[0].appendChild(s);\n",
       "}\n",
       "\n",
       "if(typeof(mpld3) !== \"undefined\" && mpld3._mpld3IsLoaded){\n",
       "   // already loaded: just create the figure\n",
       "   !function(mpld3){\n",
       "       \n",
       "       mpld3.draw_figure(\"fig_el638943978401449500009473\", {\"axes\": [{\"xlim\": [1267766.0, 1277522.0], \"yscale\": \"linear\", \"axesbg\": \"none\", \"texts\": [{\"v_baseline\": \"auto\", \"h_anchor\": \"middle\", \"color\": \"#000000\", \"text\": \"Side Walk\", \"coordinates\": \"axes\", \"zorder\": 3, \"alpha\": 1, \"fontsize\": 12.0, \"position\": [0.5, 1.0179211469534051], \"rotation\": -0.0, \"id\": \"el63894407262544\"}], \"zoomable\": true, \"images\": [], \"xdomain\": [1267766.0, 1277522.0], \"ylim\": [240373.0, 249902.0], \"paths\": [], \"sharey\": [], \"sharex\": [], \"axesbgalpha\": null, \"axes\": [{\"scale\": \"linear\", \"tickformat\": null, \"grid\": {\"gridOn\": false}, \"fontsize\": 10.0, \"position\": \"bottom\", \"nticks\": 7, \"tickvalues\": null}, {\"scale\": \"linear\", \"tickformat\": null, \"grid\": {\"gridOn\": false}, \"fontsize\": 10.0, \"position\": \"left\", \"nticks\": 6, \"tickvalues\": null}], \"lines\": [{\"color\": \"#F90A0A\", \"yindex\": 1, \"coordinates\": \"data\", \"dasharray\": \"10,0\", \"zorder\": 1, \"alpha\": 0.7, \"xindex\": 0, \"linewidth\": 1, \"data\": \"data01\", \"id\": \"el63894407366864\"}, {\"color\": \"#F90A0A\", \"yindex\": 1, \"coordinates\": \"data\", \"dasharray\": \"10,0\", \"zorder\": 1, \"alpha\": 0.7, \"xindex\": 0, \"linewidth\": 1, \"data\": \"data02\", \"id\": \"el63894407367568\"}, {\"color\": \"#F90A0A\", \"yindex\": 1, \"coordinates\": \"data\", \"dasharray\": \"10,0\", \"zorder\": 1, \"alpha\": 0.7, \"xindex\": 0, \"linewidth\": 1, \"data\": \"data03\", \"id\": \"el63894407369296\"}, {\"color\": \"#F90A0A\", \"yindex\": 1, \"coordinates\": \"data\", \"dasharray\": \"10,0\", \"zorder\": 1, \"alpha\": 0.7, \"xindex\": 0, \"linewidth\": 1, \"data\": \"data04\", \"id\": \"el63894407379152\"}], \"markers\": [], \"id\": \"el63894382806928\", \"ydomain\": [240373.0, 249902.0], \"collections\": [], \"xscale\": \"linear\", \"bbox\": [0.125, 0.125, 0.77500000000000002, 0.77500000000000002]}], \"height\": 450.0, \"width\": 900.0, \"plugins\": [{\"type\": \"reset\"}, {\"enabled\": false, \"button\": true, \"type\": \"zoom\"}, {\"enabled\": false, \"button\": true, \"type\": \"boxzoom\"}], \"data\": {\"data04\": [[1270350.097011149, 242791.00896587968], [1270628.8986188918, 242776.00013762712]], \"data02\": [[1270621.5006678104, 242766.31380529702], [1270632.4885067195, 243158.00724762678]], \"data03\": [[1270360.6754020602, 243174.28641454875], [1270616.9232491404, 243167.31661221385], [1270631.496710807, 243159.69326788187]], \"data01\": [[1270356.8095961362, 242781.61167496443], [1270368.3581294715, 243180.57478779554]]}, \"id\": \"el63894397840144\"});\n",
       "   }(mpld3);\n",
       "}else if(typeof define === \"function\" && define.amd){\n",
       "   // require.js is available: use it to load d3/mpld3\n",
       "   require.config({paths: {d3: \"https://mpld3.github.io/js/d3.v3.min\"}});\n",
       "   require([\"d3\"], function(d3){\n",
       "      window.d3 = d3;\n",
       "      mpld3_load_lib(\"https://mpld3.github.io/js/mpld3.v0.2.js\", function(){\n",
       "         \n",
       "         mpld3.draw_figure(\"fig_el638943978401449500009473\", {\"axes\": [{\"xlim\": [1267766.0, 1277522.0], \"yscale\": \"linear\", \"axesbg\": \"none\", \"texts\": [{\"v_baseline\": \"auto\", \"h_anchor\": \"middle\", \"color\": \"#000000\", \"text\": \"Side Walk\", \"coordinates\": \"axes\", \"zorder\": 3, \"alpha\": 1, \"fontsize\": 12.0, \"position\": [0.5, 1.0179211469534051], \"rotation\": -0.0, \"id\": \"el63894407262544\"}], \"zoomable\": true, \"images\": [], \"xdomain\": [1267766.0, 1277522.0], \"ylim\": [240373.0, 249902.0], \"paths\": [], \"sharey\": [], \"sharex\": [], \"axesbgalpha\": null, \"axes\": [{\"scale\": \"linear\", \"tickformat\": null, \"grid\": {\"gridOn\": false}, \"fontsize\": 10.0, \"position\": \"bottom\", \"nticks\": 7, \"tickvalues\": null}, {\"scale\": \"linear\", \"tickformat\": null, \"grid\": {\"gridOn\": false}, \"fontsize\": 10.0, \"position\": \"left\", \"nticks\": 6, \"tickvalues\": null}], \"lines\": [{\"color\": \"#F90A0A\", \"yindex\": 1, \"coordinates\": \"data\", \"dasharray\": \"10,0\", \"zorder\": 1, \"alpha\": 0.7, \"xindex\": 0, \"linewidth\": 1, \"data\": \"data01\", \"id\": \"el63894407366864\"}, {\"color\": \"#F90A0A\", \"yindex\": 1, \"coordinates\": \"data\", \"dasharray\": \"10,0\", \"zorder\": 1, \"alpha\": 0.7, \"xindex\": 0, \"linewidth\": 1, \"data\": \"data02\", \"id\": \"el63894407367568\"}, {\"color\": \"#F90A0A\", \"yindex\": 1, \"coordinates\": \"data\", \"dasharray\": \"10,0\", \"zorder\": 1, \"alpha\": 0.7, \"xindex\": 0, \"linewidth\": 1, \"data\": \"data03\", \"id\": \"el63894407369296\"}, {\"color\": \"#F90A0A\", \"yindex\": 1, \"coordinates\": \"data\", \"dasharray\": \"10,0\", \"zorder\": 1, \"alpha\": 0.7, \"xindex\": 0, \"linewidth\": 1, \"data\": \"data04\", \"id\": \"el63894407379152\"}], \"markers\": [], \"id\": \"el63894382806928\", \"ydomain\": [240373.0, 249902.0], \"collections\": [], \"xscale\": \"linear\", \"bbox\": [0.125, 0.125, 0.77500000000000002, 0.77500000000000002]}], \"height\": 450.0, \"width\": 900.0, \"plugins\": [{\"type\": \"reset\"}, {\"enabled\": false, \"button\": true, \"type\": \"zoom\"}, {\"enabled\": false, \"button\": true, \"type\": \"boxzoom\"}], \"data\": {\"data04\": [[1270350.097011149, 242791.00896587968], [1270628.8986188918, 242776.00013762712]], \"data02\": [[1270621.5006678104, 242766.31380529702], [1270632.4885067195, 243158.00724762678]], \"data03\": [[1270360.6754020602, 243174.28641454875], [1270616.9232491404, 243167.31661221385], [1270631.496710807, 243159.69326788187]], \"data01\": [[1270356.8095961362, 242781.61167496443], [1270368.3581294715, 243180.57478779554]]}, \"id\": \"el63894397840144\"});\n",
       "      });\n",
       "    });\n",
       "}else{\n",
       "    // require.js not available: dynamically load d3 & mpld3\n",
       "    mpld3_load_lib(\"https://mpld3.github.io/js/d3.v3.min.js\", function(){\n",
       "         mpld3_load_lib(\"https://mpld3.github.io/js/mpld3.v0.2.js\", function(){\n",
       "                 \n",
       "                 mpld3.draw_figure(\"fig_el638943978401449500009473\", {\"axes\": [{\"xlim\": [1267766.0, 1277522.0], \"yscale\": \"linear\", \"axesbg\": \"none\", \"texts\": [{\"v_baseline\": \"auto\", \"h_anchor\": \"middle\", \"color\": \"#000000\", \"text\": \"Side Walk\", \"coordinates\": \"axes\", \"zorder\": 3, \"alpha\": 1, \"fontsize\": 12.0, \"position\": [0.5, 1.0179211469534051], \"rotation\": -0.0, \"id\": \"el63894407262544\"}], \"zoomable\": true, \"images\": [], \"xdomain\": [1267766.0, 1277522.0], \"ylim\": [240373.0, 249902.0], \"paths\": [], \"sharey\": [], \"sharex\": [], \"axesbgalpha\": null, \"axes\": [{\"scale\": \"linear\", \"tickformat\": null, \"grid\": {\"gridOn\": false}, \"fontsize\": 10.0, \"position\": \"bottom\", \"nticks\": 7, \"tickvalues\": null}, {\"scale\": \"linear\", \"tickformat\": null, \"grid\": {\"gridOn\": false}, \"fontsize\": 10.0, \"position\": \"left\", \"nticks\": 6, \"tickvalues\": null}], \"lines\": [{\"color\": \"#F90A0A\", \"yindex\": 1, \"coordinates\": \"data\", \"dasharray\": \"10,0\", \"zorder\": 1, \"alpha\": 0.7, \"xindex\": 0, \"linewidth\": 1, \"data\": \"data01\", \"id\": \"el63894407366864\"}, {\"color\": \"#F90A0A\", \"yindex\": 1, \"coordinates\": \"data\", \"dasharray\": \"10,0\", \"zorder\": 1, \"alpha\": 0.7, \"xindex\": 0, \"linewidth\": 1, \"data\": \"data02\", \"id\": \"el63894407367568\"}, {\"color\": \"#F90A0A\", \"yindex\": 1, \"coordinates\": \"data\", \"dasharray\": \"10,0\", \"zorder\": 1, \"alpha\": 0.7, \"xindex\": 0, \"linewidth\": 1, \"data\": \"data03\", \"id\": \"el63894407369296\"}, {\"color\": \"#F90A0A\", \"yindex\": 1, \"coordinates\": \"data\", \"dasharray\": \"10,0\", \"zorder\": 1, \"alpha\": 0.7, \"xindex\": 0, \"linewidth\": 1, \"data\": \"data04\", \"id\": \"el63894407379152\"}], \"markers\": [], \"id\": \"el63894382806928\", \"ydomain\": [240373.0, 249902.0], \"collections\": [], \"xscale\": \"linear\", \"bbox\": [0.125, 0.125, 0.77500000000000002, 0.77500000000000002]}], \"height\": 450.0, \"width\": 900.0, \"plugins\": [{\"type\": \"reset\"}, {\"enabled\": false, \"button\": true, \"type\": \"zoom\"}, {\"enabled\": false, \"button\": true, \"type\": \"boxzoom\"}], \"data\": {\"data04\": [[1270350.097011149, 242791.00896587968], [1270628.8986188918, 242776.00013762712]], \"data02\": [[1270621.5006678104, 242766.31380529702], [1270632.4885067195, 243158.00724762678]], \"data03\": [[1270360.6754020602, 243174.28641454875], [1270616.9232491404, 243167.31661221385], [1270631.496710807, 243159.69326788187]], \"data01\": [[1270356.8095961362, 242781.61167496443], [1270368.3581294715, 243180.57478779554]]}, \"id\": \"el63894397840144\"});\n",
       "            })\n",
       "         });\n",
       "}\n",
       "</script>"
      ],
      "text/plain": [
       "<matplotlib.figure.Figure at 0x10621b710>"
      ]
     },
     "metadata": {},
     "output_type": "display_data"
    }
   ],
   "source": [
    "\n",
    "from shapely.geometry import LineString, Polygon, Point\n",
    "from matplotlib import pyplot\n",
    "import mpld3\n",
    "%matplotlib inline\n",
    "mpld3.enable_notebook()\n",
    "fig = pyplot.figure(1, figsize=(10,5), dpi=90)\n",
    "ax = fig.add_subplot(111)\n",
    "for polygon in sideWalksWhichPolygon:\n",
    "    for i in range(1,len(polygon)):\n",
    "        plot_line(ax, polygon[i], \"#F90A0A\")\n",
    "    break\n",
    "# for polygoninfo in streetPolygonList:\n",
    "#     plot_line(ax, polygoninfo[0], \"#0A3EF9\")\n",
    "handle_axesLimTitle_for_lineList(ax, sidewalkLineList, \"Side Walk\")\n",
    "# pyplot.show()"
   ]
  },
  {
   "cell_type": "code",
   "execution_count": 7,
   "metadata": {
    "collapsed": false
   },
   "outputs": [
    {
     "name": "stdout",
     "output_type": "stream",
     "text": [
      "[(1270356.8095961362, 242781.61167496443), (1270368.3581294715, 243180.57478779554)] [(1270621.5006678104, 242766.31380529702), (1270632.4885067195, 243158.00724762678)]\n",
      "[(1270356.8095961362, 242781.61167496443), (1270368.3581294715, 243180.57478779554)] [(1270360.6754020602, 243174.28641454875), (1270616.9232491404, 243167.31661221385), (1270631.496710807, 243159.69326788187)]\n",
      "[(1270356.8095961362, 242781.61167496443), (1270368.3581294715, 243180.57478779554)] [(1270350.097011149, 242791.00896587968), (1270628.8986188918, 242776.00013762712)]\n",
      "[(1270621.5006678104, 242766.31380529702), (1270632.4885067195, 243158.00724762678)] [(1270360.6754020602, 243174.28641454875), (1270616.9232491404, 243167.31661221385), (1270631.496710807, 243159.69326788187)]\n",
      "[(1270621.5006678104, 242766.31380529702), (1270632.4885067195, 243158.00724762678)] [(1270350.097011149, 242791.00896587968), (1270628.8986188918, 242776.00013762712)]\n",
      "[(1270360.6754020602, 243174.28641454875), (1270616.9232491404, 243167.31661221385), (1270631.496710807, 243159.69326788187)] [(1270350.097011149, 242791.00896587968), (1270628.8986188918, 242776.00013762712)]\n",
      "[(1270315.8267384768, 242782.79802429676), (1270327.375271812, 243181.76113712788)] [(1270071.1057712287, 242806.32783287764), (1270081.6447921395, 243171.36516055465)]\n",
      "[(1270315.8267384768, 242782.79802429676), (1270327.375271812, 243181.76113712788)] [(1270066.459455058, 243182.26244845986), (1270333.7522275597, 243175.0173842162)]\n",
      "[(1270315.8267384768, 242782.79802429676), (1270327.375271812, 243181.76113712788)] [(1270055.3288998902, 242799.36885729432), (1270322.5924729705, 242792.10935738683)]\n",
      "[(1270071.1057712287, 242806.32783287764), (1270081.6447921395, 243171.36516055465)] [(1270066.459455058, 243182.26244845986), (1270333.7522275597, 243175.0173842162)]\n",
      "[(1270071.1057712287, 242806.32783287764), (1270081.6447921395, 243171.36516055465)] [(1270055.3288998902, 242799.36885729432), (1270322.5924729705, 242792.10935738683)]\n",
      "[(1270066.459455058, 243182.26244845986), (1270333.7522275597, 243175.0173842162)] [(1270055.3288998902, 242799.36885729432), (1270322.5924729705, 242792.10935738683)]\n",
      "[(1270955.98392272, 242748.34697771072), (1270967.08560656, 243131.44365246594)] [(1271208.8269209713, 242740.73839713633), (1271219.873158723, 243123.98697446287)]\n",
      "[(1270955.98392272, 242748.34697771072), (1270967.08560656, 243131.44365246594)] [(1270959.342183724, 243125.13264146447), (1271226.223211646, 243117.28751279414)]\n",
      "[(1270955.98392272, 242748.34697771072), (1270967.08560656, 243131.44365246594)] [(1270948.7385303974, 242758.0736643076), (1271215.6733639836, 242750.0808981359)]\n",
      "[(1271208.8269209713, 242740.73839713633), (1271219.873158723, 243123.98697446287)] [(1270959.342183724, 243125.13264146447), (1271226.223211646, 243117.28751279414)]\n",
      "[(1271208.8269209713, 242740.73839713633), (1271219.873158723, 243123.98697446287)] [(1270948.7385303974, 242758.0736643076), (1271215.6733639836, 242750.0808981359)]\n",
      "[(1270959.342183724, 243125.13264146447), (1271226.223211646, 243117.28751279414)] [(1270948.7385303974, 242758.0736643076), (1271215.6733639836, 242750.0808981359)]\n",
      "[(1270915.0013931394, 242749.53463938832), (1270926.1027489007, 243132.63098604977)] [(1270662.4845097214, 242765.16420130432), (1270673.4723486453, 243156.85764363408)]\n",
      "[(1270915.0013931394, 242749.53463938832), (1270926.1027489007, 243132.63098604977)] [(1270654.815561816, 243147.17065513134), (1270679.9168895632, 243133.3084781319), (1270932.4377099723, 243125.92135380208)]\n",
      "[(1270915.0013931394, 242749.53463938832), (1270926.1027489007, 243132.63098604977)] [(1270655.6206783056, 242770.51130346954), (1270922.246457398, 242755.2390242964)]\n",
      "[(1270662.4845097214, 242765.16420130432), (1270673.4723486453, 243156.85764363408)] [(1270654.815561816, 243147.17065513134), (1270679.9168895632, 243133.3084781319), (1270932.4377099723, 243125.92135380208)]\n",
      "[(1270662.4845097214, 242765.16420130432), (1270673.4723486453, 243156.85764363408)] [(1270655.6206783056, 242770.51130346954), (1270922.246457398, 242755.2390242964)]\n",
      "[(1270654.815561816, 243147.17065513134), (1270679.9168895632, 243133.3084781319), (1270932.4377099723, 243125.92135380208)] [(1270655.6206783056, 242770.51130346954), (1270922.246457398, 242755.2390242964)]\n",
      "[(1271261.6355423927, 243149.7441408038), (1271274.0994282216, 243578.76723288)] [(1271514.4417953044, 243142.30025805533), (1271527.1517436504, 243572.35451604426)]\n",
      "[(1271261.6355423927, 243149.7441408038), (1271274.0994282216, 243578.76723288)] [(1271254.316659391, 243157.47903347015), (1271521.2104825526, 243149.62471847236)]\n",
      "[(1271261.6355423927, 243149.7441408038), (1271274.0994282216, 243578.76723288)] [(1271266.441307053, 243572.50215354562), (1271533.5706940591, 243565.58648496866)]\n",
      "[(1271514.4417953044, 243142.30025805533), (1271527.1517436504, 243572.35451604426)] [(1271254.316659391, 243157.47903347015), (1271521.2104825526, 243149.62471847236)]\n",
      "[(1271514.4417953044, 243142.30025805533), (1271527.1517436504, 243572.35451604426)] [(1271266.441307053, 243572.50215354562), (1271533.5706940591, 243565.58648496866)]\n",
      "[(1271254.316659391, 243157.47903347015), (1271521.2104825526, 243149.62471847236)] [(1271266.441307053, 243572.50215354562), (1271533.5706940591, 243565.58648496866)]\n",
      "[(1270369.137327388, 243207.50124312937), (1270380.6819237322, 243606.35280764103)] [(1270633.2611429691, 243184.96290238202), (1270645.2883498967, 243595.20355172455)]\n",
      "[(1270369.137327388, 243207.50124312937), (1270380.6819237322, 243606.35280764103)] [(1270361.7902292311, 243215.27156880498), (1270627.520996973, 243208.043236807), (1270650.4999536425, 243196.0232477188)]\n",
      "[(1270369.137327388, 243207.50124312937), (1270380.6819237322, 243606.35280764103)] [(1270373.0011648089, 243600.05951313674), (1270654.264381811, 243592.38269121945)]\n",
      "[(1270633.2611429691, 243184.96290238202), (1270645.2883498967, 243595.20355172455)] [(1270361.7902292311, 243215.27156880498), (1270627.520996973, 243208.043236807), (1270650.4999536425, 243196.0232477188)]\n",
      "[(1270633.2611429691, 243184.96290238202), (1270645.2883498967, 243595.20355172455)] [(1270373.0011648089, 243600.05951313674), (1270654.264381811, 243592.38269121945)]\n",
      "[(1270361.7902292311, 243215.27156880498), (1270627.520996973, 243208.043236807), (1270650.4999536425, 243196.0232477188)] [(1270373.0011648089, 243600.05951313674), (1270654.264381811, 243592.38269121945)]\n",
      "[(1271236.4036374837, 242274.95848880708), (1271249.03320539, 242712.62460821867)] [(1271489.347357303, 242267.52936980128), (1271502.0284343064, 242705.04293046892)]\n",
      "[(1271236.4036374837, 242274.95848880708), (1271249.03320539, 242712.62460821867)] [(1271241.2284309715, 242704.29686896503), (1271508.3013876379, 242696.3277247995)]\n",
      "[(1271489.347357303, 242267.52936980128), (1271502.0284343064, 242705.04293046892)] [(1271241.2284309715, 242704.29686896503), (1271508.3013876379, 242696.3277247995)]\n",
      "[(1270342.7430232316, 242295.63856555521), (1270356.030070141, 242754.67472097278)] [(1270607.8635559827, 242293.33213971555), (1270620.7345932275, 242739.4027698785)]\n",
      "[(1270342.7430232316, 242295.63856555521), (1270356.030070141, 242754.67472097278)] [(1270347.785335973, 242748.0713877231), (1270626.5872718096, 242733.06223137677)]\n",
      "[(1270607.8635559827, 242293.33213971555), (1270620.7345932275, 242739.4027698785)] [(1270347.785335973, 242748.0713877231), (1270626.5872718096, 242733.06223137677)]\n",
      "[(1271249.8097786456, 242739.55729714036), (1271260.8560163975, 243122.8058744669)] [(1271502.8000863045, 242731.96052755415), (1271513.6616131365, 243115.32721488178)]\n",
      "[(1271249.8097786456, 242739.55729714036), (1271260.8560163975, 243122.8058744669)] [(1271242.570619896, 242749.27676588297), (1271509.6435765624, 242741.30762171745)]\n",
      "[(1271249.8097786456, 242739.55729714036), (1271260.8560163975, 243122.8058744669)] [(1271253.1106250584, 243116.49683196843), (1271520.0044482201, 243108.64251697063)]\n",
      "[(1271502.8000863045, 242731.96052755415), (1271513.6616131365, 243115.32721488178)] [(1271242.570619896, 242749.27676588297), (1271509.6435765624, 242741.30762171745)]\n",
      "[(1271502.8000863045, 242731.96052755415), (1271513.6616131365, 243115.32721488178)] [(1271253.1106250584, 243116.49683196843), (1271520.0044482201, 243108.64251697063)]\n",
      "[(1271242.570619896, 242749.27676588297), (1271509.6435765624, 242741.30762171745)] [(1271253.1106250584, 243116.49683196843), (1271520.0044482201, 243108.64251697063)]\n",
      "[(1270328.1547978073, 243208.68726438284), (1270339.6990660578, 243607.5388288796)] [(1270083.4013503045, 243232.20132496953), (1270093.9403712302, 243597.19829837978)]\n",
      "[(1270328.1547978073, 243208.68726438284), (1270339.6990660578, 243607.5388288796)] [(1270067.570345223, 243223.24727463722), (1270334.8631177247, 243216.0025384724)]\n",
      "[(1270328.1547978073, 243208.68726438284), (1270339.6990660578, 243607.5388288796)] [(1270078.7527375668, 243608.09000888467), (1270346.070772484, 243600.79441979527)]\n",
      "[(1270083.4013503045, 243232.20132496953), (1270093.9403712302, 243597.19829837978)] [(1270067.570345223, 243223.24727463722), (1270334.8631177247, 243216.0025384724)]\n",
      "[(1270083.4013503045, 243232.20132496953), (1270093.9403712302, 243597.19829837978)] [(1270078.7527375668, 243608.09000888467), (1270346.070772484, 243600.79441979527)]\n",
      "[(1270067.570345223, 243223.24727463722), (1270334.8631177247, 243216.0025384724)] [(1270078.7527375668, 243608.09000888467), (1270346.070772484, 243600.79441979527)]\n",
      "[(1270901.63823089, 242284.74587079883), (1270914.223835647, 242722.59702922404)] [(1270648.8464136422, 242292.14939929545), (1270661.717450887, 242738.2200294733)]\n",
      "[(1270901.63823089, 242284.74587079883), (1270914.223835647, 242722.59702922404)] [(1270652.9901061505, 242724.5865265578), (1270919.615885228, 242709.31424738467)]\n",
      "[(1270648.8464136422, 242292.14939929545), (1270661.717450887, 242738.2200294733)] [(1270652.9901061505, 242724.5865265578), (1270919.615885228, 242709.31424738467)]\n",
      "[(1270301.7601655573, 242296.82491488755), (1270315.0472124815, 242755.8610703051)] [(1270057.0749593973, 242320.4065606296), (1270069.348556891, 242745.4746081382)]\n",
      "[(1270301.7601655573, 242296.82491488755), (1270315.0472124815, 242755.8610703051)] [(1270054.1071175635, 242754.38535146415), (1270321.370362565, 242747.12585155666)]\n",
      "[(1270057.0749593973, 242320.4065606296), (1270069.348556891, 242745.4746081382)] [(1270054.1071175635, 242754.38535146415), (1270321.370362565, 242747.12585155666)]\n",
      "[(1270926.8878523111, 243159.57548597455), (1270939.4321185648, 243587.60186088085)] [(1270674.2436725646, 243183.76113313437), (1270686.2705513984, 243594.00211055577)]\n",
      "[(1270926.8878523111, 243159.57548597455), (1270939.4321185648, 243587.60186088085)] [(1270674.6357321441, 243183.06133137643), (1270691.043507725, 243174.00065396726), (1270933.6365264803, 243166.90388338268)]\n",
      "[(1270926.8878523111, 243159.57548597455), (1270939.4321185648, 243587.60186088085)] [(1270678.6212884784, 243587.7485141307), (1270945.8431949764, 243580.83743871748)]\n",
      "[(1270674.2436725646, 243183.76113313437), (1270686.2705513984, 243594.00211055577)] [(1270674.6357321441, 243183.06133137643), (1270691.043507725, 243174.00065396726), (1270933.6365264803, 243166.90388338268)]\n",
      "[(1270674.2436725646, 243183.76113313437), (1270686.2705513984, 243594.00211055577)] [(1270678.6212884784, 243587.7485141307), (1270945.8431949764, 243580.83743871748)]\n",
      "[(1270674.6357321441, 243183.06133137643), (1270691.043507725, 243174.00065396726), (1270933.6365264803, 243166.90388338268)] [(1270678.6212884784, 243587.7485141307), (1270945.8431949764, 243580.83743871748)]\n",
      "[(1270942.6210885644, 242283.56772355735), (1270955.2070214003, 242721.41921004653)] [(1271195.4207798094, 242276.14122921228), (1271208.0503477305, 242713.807020545)]\n",
      "[(1270942.6210885644, 242283.56772355735), (1270955.2070214003, 242721.41921004653)] [(1270947.3917483091, 242713.09376738966), (1271214.3265818954, 242705.10100121796)]\n",
      "[(1271195.4207798094, 242276.14122921228), (1271208.0503477305, 242713.807020545)] [(1270947.3917483091, 242713.09376738966), (1271214.3265818954, 242705.10100121796)]\n",
      "[(1270967.8700538129, 243158.37437288463), (1270980.4143200666, 243586.40074780583)] [(1271220.6526847333, 243150.934755221), (1271233.116898641, 243579.9578472972)]\n",
      "[(1270967.8700538129, 243158.37437288463), (1270980.4143200666, 243586.40074780583)] [(1270960.5469057262, 243166.1148429662), (1271227.4279336482, 243158.27004238963)]\n",
      "[(1270967.8700538129, 243158.37437288463), (1270980.4143200666, 243586.40074780583)] [(1270972.7414351404, 243580.13960546255), (1271239.5433949828, 243573.19998680055)]\n",
      "[(1271220.6526847333, 243150.934755221), (1271233.116898641, 243579.9578472972)] [(1270960.5469057262, 243166.1148429662), (1271227.4279336482, 243158.27004238963)]\n",
      "[(1271220.6526847333, 243150.934755221), (1271233.116898641, 243579.9578472972)] [(1270972.7414351404, 243580.13960546255), (1271239.5433949828, 243573.19998680055)]\n",
      "[(1270960.5469057262, 243166.1148429662), (1271227.4279336482, 243158.27004238963)] [(1270972.7414351404, 243580.13960546255), (1271239.5433949828, 243573.19998680055)]\n"
     ]
    }
   ],
   "source": [
    "for polygon in sideWalksWhichPolygon:\n",
    "    for i in range(1, len(polygon)):\n",
    "        for j in range(i+1,len(polygon)):\n",
    "            print polygon[i], polygon[j]\n",
    "        "
   ]
  },
  {
   "cell_type": "code",
   "execution_count": 8,
   "metadata": {
    "collapsed": true
   },
   "outputs": [],
   "source": [
    "import shapely\n",
    "from shapely.geometry import Point\n",
    "from shapely.geometry import LineString\n",
    "from matplotlib import pyplot\n",
    "%matplotlib inline\n",
    "from copy import deepcopy\n",
    "\n",
    "def lenLine(line):\n",
    "    return Point(line[0]).distance(Point(line[1]))\n",
    "\n",
    "def cosAndsine(line):\n",
    "    # cos and sine made with horizon \n",
    "    cos = float(line[1][0] - line[0][0])/float(lenLine(line))\n",
    "    sine = float(line[1][1] - line[0][1])/float(lenLine(line))\n",
    "    return [cos, sine]\n",
    "\n",
    "def connectToAvgIfCloseEnough(twoLineList, tolClose):\n",
    "    lineAfterList = deepcopy(twoLineList)\n",
    "    for i in range(len(twoLineList[0])):\n",
    "        for j in range(len(twoLineList[1])):\n",
    "            if Point(twoLineList[0][i]).distance(Point(twoLineList[1][j])) < tolClose:\n",
    "                avgX = (twoLineList[0][i][0] + twoLineList[1][j][0])/float(2)\n",
    "                avgY = (twoLineList[0][i][1] + twoLineList[1][j][1])/float(2)\n",
    "                lineAfterList[0][i] = (avgX, avgY)\n",
    "                lineAfterList[1][j] = (avgX, avgY)\n",
    "    return lineAfterList\n",
    "\n",
    "def cleanIfintesectedAlready(twoLineList, tolInt, tolClose):\n",
    "    lines = deepcopy(twoLineList)\n",
    "    intrsct = LineString(lines[0]).intersection(LineString(lines[1]))\n",
    "    if intrsct.length == 0:\n",
    "        for i in range(len(lines)):\n",
    "            for j in range(len(lines[i])):\n",
    "                if Point(lines[i][j]).distance(intrsct) < tolInt:\n",
    "                    lines[i][j] = (intrsct.x, intrsct.y)\n",
    "        return lines\n",
    "    else: \n",
    "        return connectToAvgIfCloseEnough(lines, tolClose)\n",
    "\n",
    "def extendLineFromBothSides(line, extL):\n",
    "    extLine = []\n",
    "    cosT = cosAndsine(line)[0]\n",
    "    sinT = cosAndsine(line)[1]\n",
    "    \n",
    "    for i in range(len(line)):\n",
    "        extCoords = (line[i][0] + extL * cosT, line[i][1] + extL * sinT)\n",
    "        if Point(extCoords).distance(Point(line[abs(i-1)])) < lenLine(line):\n",
    "            extCoords = (line[i][0] - extL * cosT, line[i][1] - extL * sinT)\n",
    "        extLine.append(extCoords)\n",
    "    return extLine\n",
    "\n",
    "def connectIfintesectedAfterExtending(twoLineList, extL ,tolInt,tolClose):\n",
    "    lines = deepcopy(twoLineList)\n",
    "    extLine1 = extendLineFromBothSides(twoLineList[0], extL)\n",
    "    extLine2 = extendLineFromBothSides(twoLineList[1], extL)\n",
    "    intrsct = LineString(extLine1).intersection(LineString(extLine2))\n",
    "    if intrsct.length == 0:\n",
    "        numDistanceBelowtolInt = 0\n",
    "        for line in lines:\n",
    "            for point in line:\n",
    "                if Point(point).distance(intrsct) < tolInt:\n",
    "                    numDistanceBelowtolInt += 1\n",
    "        if numDistanceBelowtolInt > 1:\n",
    "            for i in range(len(lines)):\n",
    "                for j in range(len(lines[i])):\n",
    "                    if Point(lines[i][j]).distance(intrsct) < tolInt:\n",
    "                        lines[i][j] = (intrsct.x, intrsct.y)\n",
    "            return lines\n",
    "        else:\n",
    "            return connectToAvgIfCloseEnough(lines, tolClose)\n",
    "    else:\n",
    "        return connectToAvgIfCloseEnough(lines, tolClose)\n",
    "\n",
    "def cleanDanglesofAnyKind(twoLineList, extL, tolInt, tolClose):\n",
    "    extline1 = extendLineFromBothSides(twoLineList[0], extL)\n",
    "    extline2 = extendLineFromBothSides(twoLineList[1], extL)\n",
    "    \n",
    "    if LineString(twoLineList[0]).intersects(LineString(twoLineList[1])) == True:\n",
    "        return cleanIfintesectedAlready(twoLineList, tolInt, tolClose)\n",
    "    \n",
    "    elif LineString(extline1).intersects(LineString(extline2)) == True:\n",
    "        return connectIfintesectedAfterExtending(twoLineList, extL ,tolInt, tolClose)\n",
    "    \n",
    "    else:\n",
    "        return connectToAvgIfCloseEnough(twoLineList, tolClose)\n"
   ]
  },
  {
   "cell_type": "code",
   "execution_count": 27,
   "metadata": {
    "collapsed": false
   },
   "outputs": [
    {
     "name": "stdout",
     "output_type": "stream",
     "text": [
      "20\n"
     ]
    },
    {
     "ename": "AttributeError",
     "evalue": "'MultiPoint' object has no attribute 'x'",
     "output_type": "error",
     "traceback": [
      "\u001b[0;31m---------------------------------------------------------------------------\u001b[0m",
      "\u001b[0;31mAttributeError\u001b[0m                            Traceback (most recent call last)",
      "\u001b[0;32m<ipython-input-27-4eccae77a5bf>\u001b[0m in \u001b[0;36m<module>\u001b[0;34m()\u001b[0m\n\u001b[1;32m      7\u001b[0m         \u001b[0;32mfor\u001b[0m \u001b[0mj\u001b[0m \u001b[0;32min\u001b[0m \u001b[0mrange\u001b[0m\u001b[0;34m(\u001b[0m\u001b[0mk\u001b[0m\u001b[0;34m+\u001b[0m\u001b[0;36m1\u001b[0m\u001b[0;34m,\u001b[0m\u001b[0mlen\u001b[0m\u001b[0;34m(\u001b[0m\u001b[0mpolygon\u001b[0m\u001b[0;34m)\u001b[0m\u001b[0;34m)\u001b[0m\u001b[0;34m:\u001b[0m\u001b[0;34m\u001b[0m\u001b[0m\n\u001b[1;32m      8\u001b[0m             \u001b[0mextL\u001b[0m\u001b[0;34m,\u001b[0m \u001b[0mtolInt\u001b[0m\u001b[0;34m,\u001b[0m \u001b[0mtolClose\u001b[0m \u001b[0;34m=\u001b[0m \u001b[0;36m20\u001b[0m\u001b[0;34m,\u001b[0m \u001b[0;36m15\u001b[0m\u001b[0;34m,\u001b[0m \u001b[0;36m10\u001b[0m\u001b[0;34m\u001b[0m\u001b[0m\n\u001b[0;32m----> 9\u001b[0;31m             \u001b[0;32mif\u001b[0m \u001b[0mcleanDanglesofAnyKind\u001b[0m\u001b[0;34m(\u001b[0m\u001b[0;34m[\u001b[0m\u001b[0mpolygon\u001b[0m\u001b[0;34m[\u001b[0m\u001b[0mk\u001b[0m\u001b[0;34m]\u001b[0m\u001b[0;34m,\u001b[0m \u001b[0mpolygon\u001b[0m\u001b[0;34m[\u001b[0m\u001b[0mj\u001b[0m\u001b[0;34m]\u001b[0m\u001b[0;34m]\u001b[0m\u001b[0;34m,\u001b[0m \u001b[0mextL\u001b[0m\u001b[0;34m,\u001b[0m \u001b[0mtolInt\u001b[0m\u001b[0;34m,\u001b[0m \u001b[0mtolClose\u001b[0m\u001b[0;34m)\u001b[0m \u001b[0;34m!=\u001b[0m \u001b[0;34m[\u001b[0m\u001b[0mpolygon\u001b[0m\u001b[0;34m[\u001b[0m\u001b[0mk\u001b[0m\u001b[0;34m]\u001b[0m\u001b[0;34m,\u001b[0m \u001b[0mpolygon\u001b[0m\u001b[0;34m[\u001b[0m\u001b[0mj\u001b[0m\u001b[0;34m]\u001b[0m\u001b[0;34m]\u001b[0m\u001b[0;34m:\u001b[0m\u001b[0;34m\u001b[0m\u001b[0m\n\u001b[0m\u001b[1;32m     10\u001b[0m                 \u001b[0;32mif\u001b[0m \u001b[0mcleanDanglesofAnyKind\u001b[0m\u001b[0;34m(\u001b[0m\u001b[0;34m[\u001b[0m\u001b[0mpolygon\u001b[0m\u001b[0;34m[\u001b[0m\u001b[0mk\u001b[0m\u001b[0;34m]\u001b[0m\u001b[0;34m,\u001b[0m \u001b[0mpolygon\u001b[0m\u001b[0;34m[\u001b[0m\u001b[0mj\u001b[0m\u001b[0;34m]\u001b[0m\u001b[0;34m]\u001b[0m\u001b[0;34m,\u001b[0m \u001b[0mextL\u001b[0m\u001b[0;34m,\u001b[0m \u001b[0mtolInt\u001b[0m\u001b[0;34m,\u001b[0m \u001b[0mtolClose\u001b[0m\u001b[0;34m)\u001b[0m\u001b[0;34m[\u001b[0m\u001b[0;36m0\u001b[0m\u001b[0;34m]\u001b[0m \u001b[0;34m!=\u001b[0m \u001b[0mpolygon\u001b[0m\u001b[0;34m[\u001b[0m\u001b[0mk\u001b[0m\u001b[0;34m]\u001b[0m\u001b[0;34m:\u001b[0m\u001b[0;34m\u001b[0m\u001b[0m\n\u001b[1;32m     11\u001b[0m                     \u001b[0msideWalksWhichPolygoncopy\u001b[0m\u001b[0;34m[\u001b[0m\u001b[0mi\u001b[0m\u001b[0;34m]\u001b[0m\u001b[0;34m[\u001b[0m\u001b[0mk\u001b[0m\u001b[0;34m]\u001b[0m \u001b[0;34m=\u001b[0m \u001b[0mcleanDanglesofAnyKind\u001b[0m\u001b[0;34m(\u001b[0m\u001b[0;34m[\u001b[0m\u001b[0mpolygon\u001b[0m\u001b[0;34m[\u001b[0m\u001b[0mk\u001b[0m\u001b[0;34m]\u001b[0m\u001b[0;34m,\u001b[0m \u001b[0mpolygon\u001b[0m\u001b[0;34m[\u001b[0m\u001b[0mj\u001b[0m\u001b[0;34m]\u001b[0m\u001b[0;34m]\u001b[0m\u001b[0;34m,\u001b[0m \u001b[0mextL\u001b[0m\u001b[0;34m,\u001b[0m \u001b[0mtolInt\u001b[0m\u001b[0;34m,\u001b[0m \u001b[0mtolClose\u001b[0m\u001b[0;34m)\u001b[0m\u001b[0;34m[\u001b[0m\u001b[0;36m0\u001b[0m\u001b[0;34m]\u001b[0m\u001b[0;34m\u001b[0m\u001b[0m\n",
      "\u001b[0;32m<ipython-input-8-0d027c4722f3>\u001b[0m in \u001b[0;36mcleanDanglesofAnyKind\u001b[0;34m(twoLineList, extL, tolInt, tolClose)\u001b[0m\n\u001b[1;32m     80\u001b[0m \u001b[0;34m\u001b[0m\u001b[0m\n\u001b[1;32m     81\u001b[0m     \u001b[0;32melif\u001b[0m \u001b[0mLineString\u001b[0m\u001b[0;34m(\u001b[0m\u001b[0mextline1\u001b[0m\u001b[0;34m)\u001b[0m\u001b[0;34m.\u001b[0m\u001b[0mintersects\u001b[0m\u001b[0;34m(\u001b[0m\u001b[0mLineString\u001b[0m\u001b[0;34m(\u001b[0m\u001b[0mextline2\u001b[0m\u001b[0;34m)\u001b[0m\u001b[0;34m)\u001b[0m \u001b[0;34m==\u001b[0m \u001b[0mTrue\u001b[0m\u001b[0;34m:\u001b[0m\u001b[0;34m\u001b[0m\u001b[0m\n\u001b[0;32m---> 82\u001b[0;31m         \u001b[0;32mreturn\u001b[0m \u001b[0mconnectIfintesectedAfterExtending\u001b[0m\u001b[0;34m(\u001b[0m\u001b[0mtwoLineList\u001b[0m\u001b[0;34m,\u001b[0m \u001b[0mextL\u001b[0m \u001b[0;34m,\u001b[0m\u001b[0mtolInt\u001b[0m\u001b[0;34m,\u001b[0m \u001b[0mtolClose\u001b[0m\u001b[0;34m)\u001b[0m\u001b[0;34m\u001b[0m\u001b[0m\n\u001b[0m\u001b[1;32m     83\u001b[0m \u001b[0;34m\u001b[0m\u001b[0m\n\u001b[1;32m     84\u001b[0m     \u001b[0;32melse\u001b[0m\u001b[0;34m:\u001b[0m\u001b[0;34m\u001b[0m\u001b[0m\n",
      "\u001b[0;32m<ipython-input-8-0d027c4722f3>\u001b[0m in \u001b[0;36mconnectIfintesectedAfterExtending\u001b[0;34m(twoLineList, extL, tolInt, tolClose)\u001b[0m\n\u001b[1;32m     65\u001b[0m                 \u001b[0;32mfor\u001b[0m \u001b[0mj\u001b[0m \u001b[0;32min\u001b[0m \u001b[0mrange\u001b[0m\u001b[0;34m(\u001b[0m\u001b[0mlen\u001b[0m\u001b[0;34m(\u001b[0m\u001b[0mlines\u001b[0m\u001b[0;34m[\u001b[0m\u001b[0mi\u001b[0m\u001b[0;34m]\u001b[0m\u001b[0;34m)\u001b[0m\u001b[0;34m)\u001b[0m\u001b[0;34m:\u001b[0m\u001b[0;34m\u001b[0m\u001b[0m\n\u001b[1;32m     66\u001b[0m                     \u001b[0;32mif\u001b[0m \u001b[0mPoint\u001b[0m\u001b[0;34m(\u001b[0m\u001b[0mlines\u001b[0m\u001b[0;34m[\u001b[0m\u001b[0mi\u001b[0m\u001b[0;34m]\u001b[0m\u001b[0;34m[\u001b[0m\u001b[0mj\u001b[0m\u001b[0;34m]\u001b[0m\u001b[0;34m)\u001b[0m\u001b[0;34m.\u001b[0m\u001b[0mdistance\u001b[0m\u001b[0;34m(\u001b[0m\u001b[0mintrsct\u001b[0m\u001b[0;34m)\u001b[0m \u001b[0;34m<\u001b[0m \u001b[0mtolInt\u001b[0m\u001b[0;34m:\u001b[0m\u001b[0;34m\u001b[0m\u001b[0m\n\u001b[0;32m---> 67\u001b[0;31m                         \u001b[0mlines\u001b[0m\u001b[0;34m[\u001b[0m\u001b[0mi\u001b[0m\u001b[0;34m]\u001b[0m\u001b[0;34m[\u001b[0m\u001b[0mj\u001b[0m\u001b[0;34m]\u001b[0m \u001b[0;34m=\u001b[0m \u001b[0;34m(\u001b[0m\u001b[0mintrsct\u001b[0m\u001b[0;34m.\u001b[0m\u001b[0mx\u001b[0m\u001b[0;34m,\u001b[0m \u001b[0mintrsct\u001b[0m\u001b[0;34m.\u001b[0m\u001b[0my\u001b[0m\u001b[0;34m)\u001b[0m\u001b[0;34m\u001b[0m\u001b[0m\n\u001b[0m\u001b[1;32m     68\u001b[0m             \u001b[0;32mreturn\u001b[0m \u001b[0mlines\u001b[0m\u001b[0;34m\u001b[0m\u001b[0m\n\u001b[1;32m     69\u001b[0m         \u001b[0;32melse\u001b[0m\u001b[0;34m:\u001b[0m\u001b[0;34m\u001b[0m\u001b[0m\n",
      "\u001b[0;31mAttributeError\u001b[0m: 'MultiPoint' object has no attribute 'x'"
     ]
    }
   ],
   "source": [
    "from copy import deepcopy\n",
    "sideWalksWhichPolygoncopy = deepcopy(sideWalksWhichPolygon)\n",
    "print len(sideWalksWhichPolygoncopy)\n",
    "for i in range(len(sideWalksWhichPolygoncopy)):\n",
    "    polygon = sideWalksWhichPolygoncopy[i]\n",
    "    for k in range(1,len(polygon)):\n",
    "        for j in range(k+1,len(polygon)):\n",
    "            extL, tolInt, tolClose = 20, 15, 10\n",
    "            if cleanDanglesofAnyKind([polygon[k], polygon[j]], extL, tolInt, tolClose) != [polygon[k], polygon[j]]:\n",
    "                if cleanDanglesofAnyKind([polygon[k], polygon[j]], extL, tolInt, tolClose)[0] != polygon[k]:\n",
    "                    sideWalksWhichPolygoncopy[i][k] = cleanDanglesofAnyKind([polygon[k], polygon[j]], extL, tolInt, tolClose)[0]\n",
    "                if cleanDanglesofAnyKind([polygon[1], polygon[j]], extL, tolInt, tolClose)[1] != polygon[j]:\n",
    "                    sideWalksWhichPolygoncopy[i][j] =  cleanDanglesofAnyKind([polygon[k], polygon[j]], extL, tolInt, tolClose)[1]\n",
    "print k\n",
    "print sideWalksWhichPolygon[0]\n",
    "print sideWalksWhichPolygoncopy[0]     \n",
    "#     for j in range(1,len(polygon)):\n",
    "#         if cleanDanglesofAnyKind([polygon[1], polygon[j]], 10, 10, 3) != [polygon[1], polygon[j]]:\n",
    "#             if cleanDanglesofAnyKind([polygon[1], polygon[j]], 10, 10, 3)[0] != polygon[1]:\n",
    "#                 sideWalksWhichPolygoncopy[]\n",
    "\n",
    "#             if cleanDanglesofAnyKind([polygon[1], polygon[j]], 10, 10, 3)[1] != polygon[j]:\n",
    "#                 print j\n",
    "#     break\n",
    "# for i in range(0, len(sideWalksWhichPolygoncopy)):\n",
    "#     polygon = sideWalksWhichPolygoncopy[i]\n",
    "#     for j in range(1,len(polygon)):\n",
    "#         if cleanDanglesofAnyKind([polygon[1], polygon[j]], 10, 10, 3) != [polygon[1], polygon[j]]:\n",
    "#             if cleanDanglesofAnyKind([polygon[1], polygon[j]], 10, 10, 3)[0] != polygon[1]:\n",
    "#                 sideWalksWhichPolygoncopy[]\n",
    "\n",
    "#             if cleanDanglesofAnyKind([polygon[1], polygon[j]], 10, 10, 3)[1] != polygon[j]:\n",
    "#                 print j\n",
    "#     break"
   ]
  },
  {
   "cell_type": "code",
   "execution_count": 26,
   "metadata": {
    "collapsed": false
   },
   "outputs": [
    {
     "name": "stdout",
     "output_type": "stream",
     "text": [
      "[0, [(1270356.8095961362, 242781.61167496443), (1270368.3581294715, 243180.57478779554)], [(1270621.5006678104, 242766.31380529702), (1270632.4885067195, 243158.00724762678)], [(1270360.6754020602, 243174.28641454875), (1270616.9232491404, 243167.31661221385), (1270631.496710807, 243159.69326788187)], [(1270350.097011149, 242791.00896587968), (1270628.8986188918, 242776.00013762712)]]\n",
      "[0, [(1270357.0707465482, 242790.63354624802), (1270368.1702030534, 243174.08256003034)], [(1270621.7698272353, 242776.38390445863), (1270631.9926087633, 243158.85025775433)], [(1270368.1702030534, 243174.08256003034), (1270616.9232491404, 243167.31661221385), (1270631.496710807, 243159.69326788187)], [(1270357.0707465482, 242790.63354624802), (1270628.8986188918, 242776.00013762712)]]\n"
     ]
    },
    {
     "data": {
      "image/png": "[encoded data removed]",
      "text/html": [
       "\n",
       "\n",
       "<style>\n",
       "\n",
       "</style>\n",
       "\n",
       "<div id=\"fig_el638943995407528792486825\"></div>\n",
       "<script>\n",
       "function mpld3_load_lib(url, callback){\n",
       "  var s = document.createElement('script');\n",
       "  s.src = url;\n",
       "  s.async = true;\n",
       "  s.onreadystatechange = s.onload = callback;\n",
       "  s.onerror = function(){console.warn(\"failed to load library \" + url);};\n",
       "  document.getElementsByTagName(\"head\")[0].appendChild(s);\n",
       "}\n",
       "\n",
       "if(typeof(mpld3) !== \"undefined\" && mpld3._mpld3IsLoaded){\n",
       "   // already loaded: just create the figure\n",
       "   !function(mpld3){\n",
       "       \n",
       "       mpld3.draw_figure(\"fig_el638943995407528792486825\", {\"axes\": [{\"xlim\": [1270350.0, 1270650.0], \"yscale\": \"linear\", \"axesbg\": \"none\", \"texts\": [], \"zoomable\": true, \"images\": [], \"xdomain\": [1270350.0, 1270650.0], \"ylim\": [242750.0, 243200.0], \"paths\": [], \"sharey\": [], \"sharex\": [], \"axesbgalpha\": null, \"axes\": [{\"scale\": \"linear\", \"tickformat\": null, \"grid\": {\"gridOn\": false}, \"fontsize\": 10.0, \"position\": \"bottom\", \"nticks\": 7, \"tickvalues\": null}, {\"scale\": \"linear\", \"tickformat\": null, \"grid\": {\"gridOn\": false}, \"fontsize\": 10.0, \"position\": \"left\", \"nticks\": 10, \"tickvalues\": null}], \"lines\": [{\"color\": \"#F90A0A\", \"yindex\": 1, \"coordinates\": \"data\", \"dasharray\": \"10,0\", \"zorder\": 1, \"alpha\": 0.7, \"xindex\": 0, \"linewidth\": 1, \"data\": \"data01\", \"id\": \"el63894399478672\"}, {\"color\": \"#F90A0A\", \"yindex\": 1, \"coordinates\": \"data\", \"dasharray\": \"10,0\", \"zorder\": 1, \"alpha\": 0.7, \"xindex\": 0, \"linewidth\": 1, \"data\": \"data02\", \"id\": \"el63894399480528\"}, {\"color\": \"#F90A0A\", \"yindex\": 1, \"coordinates\": \"data\", \"dasharray\": \"10,0\", \"zorder\": 1, \"alpha\": 0.7, \"xindex\": 0, \"linewidth\": 1, \"data\": \"data03\", \"id\": \"el63894407535824\"}, {\"color\": \"#F90A0A\", \"yindex\": 1, \"coordinates\": \"data\", \"dasharray\": \"10,0\", \"zorder\": 1, \"alpha\": 0.7, \"xindex\": 0, \"linewidth\": 1, \"data\": \"data04\", \"id\": \"el63894407534800\"}], \"markers\": [], \"id\": \"el63894399539472\", \"ydomain\": [242750.0, 243200.0], \"collections\": [], \"xscale\": \"linear\", \"bbox\": [0.125, 0.125, 0.35227272727272724, 0.77500000000000002]}, {\"xlim\": [1270350.0, 1270650.0], \"yscale\": \"linear\", \"axesbg\": \"none\", \"texts\": [], \"zoomable\": true, \"images\": [], \"xdomain\": [1270350.0, 1270650.0], \"ylim\": [242750.0, 243200.0], \"paths\": [], \"sharey\": [], \"sharex\": [], \"axesbgalpha\": null, \"axes\": [{\"scale\": \"linear\", \"tickformat\": null, \"grid\": {\"gridOn\": false}, \"fontsize\": 10.0, \"position\": \"bottom\", \"nticks\": 7, \"tickvalues\": null}, {\"scale\": \"linear\", \"tickformat\": null, \"grid\": {\"gridOn\": false}, \"fontsize\": 10.0, \"position\": \"left\", \"nticks\": 10, \"tickvalues\": null}], \"lines\": [{\"color\": \"#F90A0A\", \"yindex\": 1, \"coordinates\": \"data\", \"dasharray\": \"10,0\", \"zorder\": 1, \"alpha\": 0.7, \"xindex\": 0, \"linewidth\": 1, \"data\": \"data05\", \"id\": \"el63894407477328\"}, {\"color\": \"#F90A0A\", \"yindex\": 1, \"coordinates\": \"data\", \"dasharray\": \"10,0\", \"zorder\": 1, \"alpha\": 0.7, \"xindex\": 0, \"linewidth\": 1, \"data\": \"data06\", \"id\": \"el63894407478480\"}, {\"color\": \"#F90A0A\", \"yindex\": 1, \"coordinates\": \"data\", \"dasharray\": \"10,0\", \"zorder\": 1, \"alpha\": 0.7, \"xindex\": 0, \"linewidth\": 1, \"data\": \"data07\", \"id\": \"el63894407252560\"}, {\"color\": \"#F90A0A\", \"yindex\": 1, \"coordinates\": \"data\", \"dasharray\": \"10,0\", \"zorder\": 1, \"alpha\": 0.7, \"xindex\": 0, \"linewidth\": 1, \"data\": \"data08\", \"id\": \"el63894405708176\"}], \"markers\": [], \"id\": \"el63894399477328\", \"ydomain\": [242750.0, 243200.0], \"collections\": [], \"xscale\": \"linear\", \"bbox\": [0.54772727272727262, 0.125, 0.35227272727272729, 0.77500000000000002]}], \"height\": 450.0, \"width\": 900.0, \"plugins\": [{\"type\": \"reset\"}, {\"enabled\": false, \"button\": true, \"type\": \"zoom\"}, {\"enabled\": false, \"button\": true, \"type\": \"boxzoom\"}], \"data\": {\"data08\": [[1270357.0707465482, 242790.63354624802], [1270628.8986188918, 242776.00013762712]], \"data06\": [[1270621.7698272353, 242776.38390445863], [1270631.9926087633, 243158.85025775433]], \"data07\": [[1270368.1702030534, 243174.08256003034], [1270616.9232491404, 243167.31661221385], [1270631.496710807, 243159.69326788187]], \"data04\": [[1270350.097011149, 242791.00896587968], [1270628.8986188918, 242776.00013762712]], \"data05\": [[1270357.0707465482, 242790.63354624802], [1270368.1702030534, 243174.08256003034]], \"data02\": [[1270621.5006678104, 242766.31380529702], [1270632.4885067195, 243158.00724762678]], \"data03\": [[1270360.6754020602, 243174.28641454875], [1270616.9232491404, 243167.31661221385], [1270631.496710807, 243159.69326788187]], \"data01\": [[1270356.8095961362, 242781.61167496443], [1270368.3581294715, 243180.57478779554]]}, \"id\": \"el63894399540752\"});\n",
       "   }(mpld3);\n",
       "}else if(typeof define === \"function\" && define.amd){\n",
       "   // require.js is available: use it to load d3/mpld3\n",
       "   require.config({paths: {d3: \"https://mpld3.github.io/js/d3.v3.min\"}});\n",
       "   require([\"d3\"], function(d3){\n",
       "      window.d3 = d3;\n",
       "      mpld3_load_lib(\"https://mpld3.github.io/js/mpld3.v0.2.js\", function(){\n",
       "         \n",
       "         mpld3.draw_figure(\"fig_el638943995407528792486825\", {\"axes\": [{\"xlim\": [1270350.0, 1270650.0], \"yscale\": \"linear\", \"axesbg\": \"none\", \"texts\": [], \"zoomable\": true, \"images\": [], \"xdomain\": [1270350.0, 1270650.0], \"ylim\": [242750.0, 243200.0], \"paths\": [], \"sharey\": [], \"sharex\": [], \"axesbgalpha\": null, \"axes\": [{\"scale\": \"linear\", \"tickformat\": null, \"grid\": {\"gridOn\": false}, \"fontsize\": 10.0, \"position\": \"bottom\", \"nticks\": 7, \"tickvalues\": null}, {\"scale\": \"linear\", \"tickformat\": null, \"grid\": {\"gridOn\": false}, \"fontsize\": 10.0, \"position\": \"left\", \"nticks\": 10, \"tickvalues\": null}], \"lines\": [{\"color\": \"#F90A0A\", \"yindex\": 1, \"coordinates\": \"data\", \"dasharray\": \"10,0\", \"zorder\": 1, \"alpha\": 0.7, \"xindex\": 0, \"linewidth\": 1, \"data\": \"data01\", \"id\": \"el63894399478672\"}, {\"color\": \"#F90A0A\", \"yindex\": 1, \"coordinates\": \"data\", \"dasharray\": \"10,0\", \"zorder\": 1, \"alpha\": 0.7, \"xindex\": 0, \"linewidth\": 1, \"data\": \"data02\", \"id\": \"el63894399480528\"}, {\"color\": \"#F90A0A\", \"yindex\": 1, \"coordinates\": \"data\", \"dasharray\": \"10,0\", \"zorder\": 1, \"alpha\": 0.7, \"xindex\": 0, \"linewidth\": 1, \"data\": \"data03\", \"id\": \"el63894407535824\"}, {\"color\": \"#F90A0A\", \"yindex\": 1, \"coordinates\": \"data\", \"dasharray\": \"10,0\", \"zorder\": 1, \"alpha\": 0.7, \"xindex\": 0, \"linewidth\": 1, \"data\": \"data04\", \"id\": \"el63894407534800\"}], \"markers\": [], \"id\": \"el63894399539472\", \"ydomain\": [242750.0, 243200.0], \"collections\": [], \"xscale\": \"linear\", \"bbox\": [0.125, 0.125, 0.35227272727272724, 0.77500000000000002]}, {\"xlim\": [1270350.0, 1270650.0], \"yscale\": \"linear\", \"axesbg\": \"none\", \"texts\": [], \"zoomable\": true, \"images\": [], \"xdomain\": [1270350.0, 1270650.0], \"ylim\": [242750.0, 243200.0], \"paths\": [], \"sharey\": [], \"sharex\": [], \"axesbgalpha\": null, \"axes\": [{\"scale\": \"linear\", \"tickformat\": null, \"grid\": {\"gridOn\": false}, \"fontsize\": 10.0, \"position\": \"bottom\", \"nticks\": 7, \"tickvalues\": null}, {\"scale\": \"linear\", \"tickformat\": null, \"grid\": {\"gridOn\": false}, \"fontsize\": 10.0, \"position\": \"left\", \"nticks\": 10, \"tickvalues\": null}], \"lines\": [{\"color\": \"#F90A0A\", \"yindex\": 1, \"coordinates\": \"data\", \"dasharray\": \"10,0\", \"zorder\": 1, \"alpha\": 0.7, \"xindex\": 0, \"linewidth\": 1, \"data\": \"data05\", \"id\": \"el63894407477328\"}, {\"color\": \"#F90A0A\", \"yindex\": 1, \"coordinates\": \"data\", \"dasharray\": \"10,0\", \"zorder\": 1, \"alpha\": 0.7, \"xindex\": 0, \"linewidth\": 1, \"data\": \"data06\", \"id\": \"el63894407478480\"}, {\"color\": \"#F90A0A\", \"yindex\": 1, \"coordinates\": \"data\", \"dasharray\": \"10,0\", \"zorder\": 1, \"alpha\": 0.7, \"xindex\": 0, \"linewidth\": 1, \"data\": \"data07\", \"id\": \"el63894407252560\"}, {\"color\": \"#F90A0A\", \"yindex\": 1, \"coordinates\": \"data\", \"dasharray\": \"10,0\", \"zorder\": 1, \"alpha\": 0.7, \"xindex\": 0, \"linewidth\": 1, \"data\": \"data08\", \"id\": \"el63894405708176\"}], \"markers\": [], \"id\": \"el63894399477328\", \"ydomain\": [242750.0, 243200.0], \"collections\": [], \"xscale\": \"linear\", \"bbox\": [0.54772727272727262, 0.125, 0.35227272727272729, 0.77500000000000002]}], \"height\": 450.0, \"width\": 900.0, \"plugins\": [{\"type\": \"reset\"}, {\"enabled\": false, \"button\": true, \"type\": \"zoom\"}, {\"enabled\": false, \"button\": true, \"type\": \"boxzoom\"}], \"data\": {\"data08\": [[1270357.0707465482, 242790.63354624802], [1270628.8986188918, 242776.00013762712]], \"data06\": [[1270621.7698272353, 242776.38390445863], [1270631.9926087633, 243158.85025775433]], \"data07\": [[1270368.1702030534, 243174.08256003034], [1270616.9232491404, 243167.31661221385], [1270631.496710807, 243159.69326788187]], \"data04\": [[1270350.097011149, 242791.00896587968], [1270628.8986188918, 242776.00013762712]], \"data05\": [[1270357.0707465482, 242790.63354624802], [1270368.1702030534, 243174.08256003034]], \"data02\": [[1270621.5006678104, 242766.31380529702], [1270632.4885067195, 243158.00724762678]], \"data03\": [[1270360.6754020602, 243174.28641454875], [1270616.9232491404, 243167.31661221385], [1270631.496710807, 243159.69326788187]], \"data01\": [[1270356.8095961362, 242781.61167496443], [1270368.3581294715, 243180.57478779554]]}, \"id\": \"el63894399540752\"});\n",
       "      });\n",
       "    });\n",
       "}else{\n",
       "    // require.js not available: dynamically load d3 & mpld3\n",
       "    mpld3_load_lib(\"https://mpld3.github.io/js/d3.v3.min.js\", function(){\n",
       "         mpld3_load_lib(\"https://mpld3.github.io/js/mpld3.v0.2.js\", function(){\n",
       "                 \n",
       "                 mpld3.draw_figure(\"fig_el638943995407528792486825\", {\"axes\": [{\"xlim\": [1270350.0, 1270650.0], \"yscale\": \"linear\", \"axesbg\": \"none\", \"texts\": [], \"zoomable\": true, \"images\": [], \"xdomain\": [1270350.0, 1270650.0], \"ylim\": [242750.0, 243200.0], \"paths\": [], \"sharey\": [], \"sharex\": [], \"axesbgalpha\": null, \"axes\": [{\"scale\": \"linear\", \"tickformat\": null, \"grid\": {\"gridOn\": false}, \"fontsize\": 10.0, \"position\": \"bottom\", \"nticks\": 7, \"tickvalues\": null}, {\"scale\": \"linear\", \"tickformat\": null, \"grid\": {\"gridOn\": false}, \"fontsize\": 10.0, \"position\": \"left\", \"nticks\": 10, \"tickvalues\": null}], \"lines\": [{\"color\": \"#F90A0A\", \"yindex\": 1, \"coordinates\": \"data\", \"dasharray\": \"10,0\", \"zorder\": 1, \"alpha\": 0.7, \"xindex\": 0, \"linewidth\": 1, \"data\": \"data01\", \"id\": \"el63894399478672\"}, {\"color\": \"#F90A0A\", \"yindex\": 1, \"coordinates\": \"data\", \"dasharray\": \"10,0\", \"zorder\": 1, \"alpha\": 0.7, \"xindex\": 0, \"linewidth\": 1, \"data\": \"data02\", \"id\": \"el63894399480528\"}, {\"color\": \"#F90A0A\", \"yindex\": 1, \"coordinates\": \"data\", \"dasharray\": \"10,0\", \"zorder\": 1, \"alpha\": 0.7, \"xindex\": 0, \"linewidth\": 1, \"data\": \"data03\", \"id\": \"el63894407535824\"}, {\"color\": \"#F90A0A\", \"yindex\": 1, \"coordinates\": \"data\", \"dasharray\": \"10,0\", \"zorder\": 1, \"alpha\": 0.7, \"xindex\": 0, \"linewidth\": 1, \"data\": \"data04\", \"id\": \"el63894407534800\"}], \"markers\": [], \"id\": \"el63894399539472\", \"ydomain\": [242750.0, 243200.0], \"collections\": [], \"xscale\": \"linear\", \"bbox\": [0.125, 0.125, 0.35227272727272724, 0.77500000000000002]}, {\"xlim\": [1270350.0, 1270650.0], \"yscale\": \"linear\", \"axesbg\": \"none\", \"texts\": [], \"zoomable\": true, \"images\": [], \"xdomain\": [1270350.0, 1270650.0], \"ylim\": [242750.0, 243200.0], \"paths\": [], \"sharey\": [], \"sharex\": [], \"axesbgalpha\": null, \"axes\": [{\"scale\": \"linear\", \"tickformat\": null, \"grid\": {\"gridOn\": false}, \"fontsize\": 10.0, \"position\": \"bottom\", \"nticks\": 7, \"tickvalues\": null}, {\"scale\": \"linear\", \"tickformat\": null, \"grid\": {\"gridOn\": false}, \"fontsize\": 10.0, \"position\": \"left\", \"nticks\": 10, \"tickvalues\": null}], \"lines\": [{\"color\": \"#F90A0A\", \"yindex\": 1, \"coordinates\": \"data\", \"dasharray\": \"10,0\", \"zorder\": 1, \"alpha\": 0.7, \"xindex\": 0, \"linewidth\": 1, \"data\": \"data05\", \"id\": \"el63894407477328\"}, {\"color\": \"#F90A0A\", \"yindex\": 1, \"coordinates\": \"data\", \"dasharray\": \"10,0\", \"zorder\": 1, \"alpha\": 0.7, \"xindex\": 0, \"linewidth\": 1, \"data\": \"data06\", \"id\": \"el63894407478480\"}, {\"color\": \"#F90A0A\", \"yindex\": 1, \"coordinates\": \"data\", \"dasharray\": \"10,0\", \"zorder\": 1, \"alpha\": 0.7, \"xindex\": 0, \"linewidth\": 1, \"data\": \"data07\", \"id\": \"el63894407252560\"}, {\"color\": \"#F90A0A\", \"yindex\": 1, \"coordinates\": \"data\", \"dasharray\": \"10,0\", \"zorder\": 1, \"alpha\": 0.7, \"xindex\": 0, \"linewidth\": 1, \"data\": \"data08\", \"id\": \"el63894405708176\"}], \"markers\": [], \"id\": \"el63894399477328\", \"ydomain\": [242750.0, 243200.0], \"collections\": [], \"xscale\": \"linear\", \"bbox\": [0.54772727272727262, 0.125, 0.35227272727272729, 0.77500000000000002]}], \"height\": 450.0, \"width\": 900.0, \"plugins\": [{\"type\": \"reset\"}, {\"enabled\": false, \"button\": true, \"type\": \"zoom\"}, {\"enabled\": false, \"button\": true, \"type\": \"boxzoom\"}], \"data\": {\"data08\": [[1270357.0707465482, 242790.63354624802], [1270628.8986188918, 242776.00013762712]], \"data06\": [[1270621.7698272353, 242776.38390445863], [1270631.9926087633, 243158.85025775433]], \"data07\": [[1270368.1702030534, 243174.08256003034], [1270616.9232491404, 243167.31661221385], [1270631.496710807, 243159.69326788187]], \"data04\": [[1270350.097011149, 242791.00896587968], [1270628.8986188918, 242776.00013762712]], \"data05\": [[1270357.0707465482, 242790.63354624802], [1270368.1702030534, 243174.08256003034]], \"data02\": [[1270621.5006678104, 242766.31380529702], [1270632.4885067195, 243158.00724762678]], \"data03\": [[1270360.6754020602, 243174.28641454875], [1270616.9232491404, 243167.31661221385], [1270631.496710807, 243159.69326788187]], \"data01\": [[1270356.8095961362, 242781.61167496443], [1270368.3581294715, 243180.57478779554]]}, \"id\": \"el63894399540752\"});\n",
       "            })\n",
       "         });\n",
       "}\n",
       "</script>"
      ],
      "text/plain": [
       "<matplotlib.figure.Figure at 0x1063baa10>"
      ]
     },
     "metadata": {},
     "output_type": "display_data"
    }
   ],
   "source": [
    "from shapely.geometry import LineString, Polygon, Point\n",
    "from matplotlib import pyplot\n",
    "import mpld3\n",
    "%matplotlib inline\n",
    "mpld3.enable_notebook()\n",
    "fig = pyplot.figure(1, figsize=(10,5), dpi=90)\n",
    "ax = fig.add_subplot(121)\n",
    "print sideWalksWhichPolygon[0]\n",
    "for i in range(1,len(sideWalksWhichPolygon[0])):\n",
    "    plot_line(ax, sideWalksWhichPolygon[0][i], \"#F90A0A\")\n",
    "\n",
    "# handle_axesLimTitle_for_lineList(ax, sideWalksWhichPolygon[0], \"Side Walk\")\n",
    "print sideWalksWhichPolygoncopy[0]\n",
    "ax = fig.add_subplot(122)\n",
    "for i in range(1,len(sideWalksWhichPolygoncopy[0])):\n",
    "    plot_line(ax, sideWalksWhichPolygoncopy[0][i], \"#F90A0A\")\n",
    "# for i in range(1,len(sideWalksWhichPolygoncopy[0])):\n",
    "#         plot_line(ax, sideWalksWhichPolygoncopy[0][i], \"#F90A0A\")\n",
    "# # for polygoninfo in streetPolygonList:\n",
    "# #     plot_line(ax, polygoninfo[0], \"#0A3EF9\")\n",
    "# handle_axesLimTitle_for_lineList(ax, sideWalksWhichPolygoncopy[0], \"Side Walk\")\n",
    "# pyplot.show()"
   ]
  },
  {
   "cell_type": "code",
   "execution_count": null,
   "metadata": {
    "collapsed": true
   },
   "outputs": [],
   "source": []
  },
  {
   "cell_type": "code",
   "execution_count": null,
   "metadata": {
    "collapsed": true
   },
   "outputs": [],
   "source": []
  }
 ],
 "metadata": {
  "kernelspec": {
   "display_name": "Python 2",
   "language": "python",
   "name": "python2"
  },
  "language_info": {
   "codemirror_mode": {
    "name": "ipython",
    "version": 2
   },
   "file_extension": ".py",
   "mimetype": "text/x-python",
   "name": "python",
   "nbconvert_exporter": "python",
   "pygments_lexer": "ipython2",
   "version": "2.7.6"
  }
 },
 "nbformat": 4,
 "nbformat_minor": 0
}
