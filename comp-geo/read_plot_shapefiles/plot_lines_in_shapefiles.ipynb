{
 "cells": [
  {
   "cell_type": "markdown",
   "metadata": {},
   "source": [
    "##Goal:\n",
    "Read a $\\texttt{.shp}$ file full of lines and plot them using $\\texttt{fiona}$, $\\texttt{shapely}$, and $\\texttt{matplotlib}$"
   ]
  },
  {
   "cell_type": "markdown",
   "metadata": {},
   "source": [
    "##Steps:\n",
    "1. #### Read a $\\texttt{.shp}$ file using $\\texttt{fiona}$ package and discover what is in each row:\n",
    "2. #### Plot all the line strings using $\\texttt{shapely}$ and $\\texttt{matplotlib}$"
   ]
  },
  {
   "cell_type": "code",
   "execution_count": 1,
   "metadata": {
    "collapsed": false
   },
   "outputs": [
    {
     "name": "stdout",
     "output_type": "stream",
     "text": [
      "{'geometry': {'type': 'LineString', 'coordinates': [(548174.7687999997, 5281802.852), (548172.4803999998, 5281802.832599999), (547982.5483999997, 5281801.2202)]}, 'type': 'Feature', 'id': '0', 'properties': OrderedDict()}\n"
     ]
    }
   ],
   "source": [
    "import fiona\n",
    "with fiona.open('./Local-Data/2015_07_15_small_region.shp', 'r') as inputfile:\n",
    "    for row in inputfile:\n",
    "        print row\n",
    "        break"
   ]
  },
  {
   "cell_type": "markdown",
   "metadata": {},
   "source": [
    "Thus,\n",
    "* Each row in $\\texttt{Export_output.shp}$ is a $\\texttt{LineString}$ including at least two points.\n",
    "* Coordinates of these points are stored in a list under $\\texttt{'coordinates'}$ as $(x, y)$ in meters."
   ]
  },
  {
   "cell_type": "markdown",
   "metadata": {},
   "source": [
    "#### Plot all the line strings using $\\texttt{shapely}$ and $\\texttt{matplotlib}$:\n",
    "\n",
    "* Define a function to plot a LineString using $\\texttt{shapely}$"
   ]
  },
  {
   "cell_type": "code",
   "execution_count": 2,
   "metadata": {
    "collapsed": true
   },
   "outputs": [],
   "source": [
    "import shapely \n",
    "# ob is a LineString\n",
    "def plot_lineString(ax, ob):\n",
    "    x, y = ob.xy\n",
    "# plot lines between points\n",
    "    ax.plot(x, y, color=\"#C885CD\", alpha=0.7, linewidth=1, solid_capstyle='round', zorder=2)\n",
    "# Plot first and last points with different colors\n",
    "#  Add following lines in case you want to mark first and last ponint with different collors\n",
    "#     ax.plot(x[0], y[0], 'o', color='#80F222', zorder=2)\n",
    "#     ax.plot(x[-1], y[-1], 'o', color='#F22222', zorder=2)\n"
   ]
  },
  {
   "cell_type": "markdown",
   "metadata": {},
   "source": [
    "* Put coordinates of a all lines in a list: $\\texttt{lineStringList} = [\\; [\\texttt{$L_1$}],\\; [\\texttt{$L_2$}],\\; [\\texttt{$L_3$}],\\; \\cdot\\cdot\\cdot]$\n",
    "* Find $x_{\\text{min}}$, $x_{\\text{max}}$, $y_{\\text{min}}$, $y_{\\text{max}}$ to find plot axes limits"
   ]
  },
  {
   "cell_type": "code",
   "execution_count": 3,
   "metadata": {
    "collapsed": false
   },
   "outputs": [],
   "source": [
    "with fiona.open('./Local-Data/2015_07_15_small_region.shp', 'r') as input:\n",
    "    allXList = []\n",
    "    allYList = []\n",
    "    lineStringList = []\n",
    "    for row in input:\n",
    "        lineStringList.append(row['geometry']['coordinates'])\n",
    "        for point in row['geometry']['coordinates']:\n",
    "            allXList.append(point[0])\n",
    "            allYList.append(point[1])\n",
    "    XLim = [min(allXList), max(allXList)]\n",
    "    YLim = [min(allYList), max(allYList)]"
   ]
  },
  {
   "cell_type": "markdown",
   "metadata": {},
   "source": [
    "* Get the coordinates from $\\texttt{l𝚒𝚗𝚎𝚂𝚝𝚛𝚒𝚗𝚐List}$ make them LineString and plot them using $\\texttt{matplotlib}$"
   ]
  },
  {
   "cell_type": "code",
   "execution_count": 4,
   "metadata": {
    "collapsed": false
   },
   "outputs": [
    {
     "data": {
      "image/png": "[encoded data removed]",
      "text/plain": [
       "<matplotlib.figure.Figure at 0x11263f750>"
      ]
     },
     "metadata": {},
     "output_type": "display_data"
    }
   ],
   "source": [
    "from shapely.geometry import LineString\n",
    "from matplotlib import pyplot\n",
    "%matplotlib inline\n",
    "for line in lineStringList:\n",
    "    linestring = LineString(line)\n",
    "    fig = pyplot.figure(1, figsize=(10,5), dpi=90)\n",
    "    ax = fig.add_subplot(111)\n",
    "    plot_lineString(ax, linestring)\n",
    "\n",
    "# Dealing with limits of x-axis and y-axis\n",
    "XEmptySpace = int((XLim[1]-XLim[0])/10.0)\n",
    "YEmptySpace = int((YLim[1]-YLim[0])/10.0)\n",
    "Xrange = [int(XLim[0]) - XEmptySpace, int(XLim[1]) + XEmptySpace]\n",
    "Yrange = [int(YLim[0]) - YEmptySpace, int(YLim[1]) + YEmptySpace]\n",
    "ax.set_xlim(*Xrange)\n",
    "ax.set_ylim(*Yrange)\n",
    "# ax.set_yticks(list(range(*Yrange)) + [Yrange[-1]])\n",
    "ax.set_aspect(1)\n",
    "ax.set_title('All lines in Shape file')\n",
    "        \n",
    "pyplot.show()"
   ]
  },
  {
   "cell_type": "markdown",
   "metadata": {},
   "source": [
    "## CODE:"
   ]
  },
  {
   "cell_type": "code",
   "execution_count": 5,
   "metadata": {
    "collapsed": false
   },
   "outputs": [
    {
     "data": {
      "image/png": "[encoded data removed]",
      "text/plain": [
       "<matplotlib.figure.Figure at 0x1126e9b10>"
      ]
     },
     "metadata": {},
     "output_type": "display_data"
    }
   ],
   "source": [
    "import fiona\n",
    "import shapely\n",
    "from shapely.geometry import LineString\n",
    "\n",
    "from matplotlib import pyplot\n",
    "%matplotlib inline\n",
    "with fiona.open('./Local-Data/2015_07_15_small_region.shp', 'r') as input:\n",
    "    allXList = []\n",
    "    allYList = []\n",
    "    lineStringList = []\n",
    "    for row in input:\n",
    "        lineStringList.append(row['geometry']['coordinates'])\n",
    "        for point in row['geometry']['coordinates']:\n",
    "            allXList.append(point[0])\n",
    "            allYList.append(point[1])\n",
    "    XLim = [min(allXList), max(allXList)]\n",
    "    YLim = [min(allYList), max(allYList)]\n",
    "\n",
    "# ob is a LineString\n",
    "def plot_lineString(ax, ob):\n",
    "    x, y = ob.xy\n",
    "# plot lines between points\n",
    "    ax.plot(x, y, color=\"#C885CD\", alpha=0.7, linewidth=1, solid_capstyle='round', zorder=2)\n",
    "# Plot first and last points with different colors\n",
    "#  Add following lines in case you want to mark first and last ponint with different collors\n",
    "#     ax.plot(x[0], y[0], 'o', color='#80F222', zorder=2)\n",
    "#     ax.plot(x[-1], y[-1], 'o', color='#F22222', zorder=2)\n",
    "\n",
    "for line in lineStringList:\n",
    "    linestring = LineString(line)\n",
    "    fig = pyplot.figure(1, figsize=(10,5), dpi=90)\n",
    "    ax = fig.add_subplot(111)\n",
    "    plot_lineString(ax, linestring)\n",
    "\n",
    "# Dealing with limits of x-axis and y-axis\n",
    "XEmptySpace = int((XLim[1]-XLim[0])/10.0)\n",
    "YEmptySpace = int((YLim[1]-YLim[0])/10.0)\n",
    "Xrange = [int(XLim[0]) - XEmptySpace, int(XLim[1]) + XEmptySpace]\n",
    "Yrange = [int(YLim[0]) - YEmptySpace, int(YLim[1]) + YEmptySpace]\n",
    "ax.set_xlim(*Xrange)\n",
    "ax.set_ylim(*Yrange)\n",
    "# ax.set_yticks(list(range(*Yrange)) + [Yrange[-1]])\n",
    "ax.set_aspect(1)\n",
    "ax.set_title('All lines in Shape file')\n",
    "        \n",
    "pyplot.show()"
   ]
  },
  {
   "cell_type": "code",
   "execution_count": null,
   "metadata": {
    "collapsed": true
   },
   "outputs": [],
   "source": []
  }
 ],
 "metadata": {
  "kernelspec": {
   "display_name": "Python 2",
   "language": "python",
   "name": "python2"
  },
  "language_info": {
   "codemirror_mode": {
    "name": "ipython",
    "version": 2
   },
   "file_extension": ".py",
   "mimetype": "text/x-python",
   "name": "python",
   "nbconvert_exporter": "python",
   "pygments_lexer": "ipython2",
   "version": "2.7.6"
  }
 },
 "nbformat": 4,
 "nbformat_minor": 0
}
