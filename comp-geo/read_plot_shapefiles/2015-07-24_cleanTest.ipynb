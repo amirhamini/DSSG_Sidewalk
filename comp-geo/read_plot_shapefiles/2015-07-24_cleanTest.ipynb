{
 "cells": [
  {
   "cell_type": "code",
   "execution_count": 5,
   "metadata": {
    "collapsed": true
   },
   "outputs": [],
   "source": [
    "import shapely\n",
    "import matplotlib\n",
    "from shapely.geometry import Point, Polygon, LineString\n",
    "from matplotlib import pyplot\n",
    "import mpld3\n",
    "%matplotlib inline\n",
    "mpld3.enable_notebook()\n",
    "from copy import deepcopy\n",
    "\n",
    "def lenLine(line):\n",
    "    return Point(line[0]).distance(Point(line[1]))\n",
    "\n",
    "def cosAndsine(line):\n",
    "    # cos and sine made with horizon\n",
    "    if lenLine(line) != 0:\n",
    "        cos = float(line[1][0] - line[0][0])/float(lenLine(line))\n",
    "        sine = float(line[1][1] - line[0][1])/float(lenLine(line))\n",
    "        return [cos, sine]\n",
    "    else:\n",
    "        \n",
    "        print \"Warning: Following Line is changed to a Point Maybe Check your tolerances\"\n",
    "        print line\n",
    "        return [0,0]\n",
    "    \n",
    "def connectToAvgIfCloseEnough(twoLineList, tolClose):\n",
    "    lineAfterList = deepcopy(twoLineList)\n",
    "    for i in range(len(twoLineList[0])):\n",
    "        for j in range(len(twoLineList[1])):\n",
    "            if Point(twoLineList[0][i]).distance(Point(twoLineList[1][j])) < tolClose:\n",
    "                avgX = (twoLineList[0][i][0] + twoLineList[1][j][0])/float(2)\n",
    "                avgY = (twoLineList[0][i][1] + twoLineList[1][j][1])/float(2)\n",
    "                lineAfterList[0][i] = (avgX, avgY)\n",
    "                lineAfterList[1][j] = (avgX, avgY)\n",
    "    return lineAfterList\n",
    "\n",
    "def cleanIfintesectedAlready(twoLineList, tolInt, tolClose):\n",
    "    lines = deepcopy(twoLineList)\n",
    "    intrsct = LineString(lines[0]).intersection(LineString(lines[1]))\n",
    "    if intrsct.length == 0:\n",
    "        for i in range(len(lines)):\n",
    "            for j in range(2):\n",
    "                if Point(lines[i][-j]).distance(intrsct) < tolInt:\n",
    "                    lines[i][-j] = (intrsct.x, intrsct.y)\n",
    "        return lines\n",
    "    else: \n",
    "        return connectToAvgIfCloseEnough(lines, tolClose)\n",
    "\n",
    "def givefirstandLasttwoLines(line):\n",
    "    return [ [line[0],line[1]], [line[-2], line[-1]] ]\n",
    "    \n",
    "    \n",
    "def extendMultiSectioLinefromBothsides(line, extL):\n",
    "    extLine = deepcopy(line)\n",
    "    if len(line) > 2:\n",
    "        firstLast = givefirstandLasttwoLines(line)\n",
    "        for j in range(len(firstLast)):\n",
    "            line = firstLast[j]\n",
    "            cosT = cosAndsine(line)[0]\n",
    "            sinT = cosAndsine(line)[1]\n",
    "            extCoordsPos = (line[-j][0] + extL * cosT, line[-j][1] + extL * sinT)\n",
    "            extCoordsNeg = (line[-j][0] - extL * cosT, line[-j][1] - extL * sinT)\n",
    "            if Point(extCoordsPos).distance(Point(extLine[1-3*j])) > Point(extCoordsNeg).distance(Point(extLine[1-3*j])):\n",
    "                extCoords = extCoordsPos\n",
    "            else:\n",
    "                extCoords = extCoordsNeg\n",
    "            extLine[-j] = extCoords\n",
    "        return extLine\n",
    "    else:\n",
    "        cosT = cosAndsine(line)[0]\n",
    "        sinT = cosAndsine(line)[1]\n",
    "        for j in range(len(line)):\n",
    "            extCoordsPos = (line[-j][0] + extL * cosT, line[-j][1] + extL * sinT)\n",
    "            extCoordsNeg = (line[-j][0] - extL * cosT, line[-j][1] - extL * sinT)\n",
    "            if Point(extCoordsPos).distance(Point(extLine[abs(j-1)])) > Point(extCoordsNeg).distance(Point(extLine[abs(j-1)])):\n",
    "                extCoords = extCoordsPos\n",
    "            else:\n",
    "                extCoords = extCoordsNeg\n",
    "            extLine[j] = extCoords\n",
    "        return extLine\n",
    "\n",
    "def connectIfintesectedAfterExtending(twoLineList, extL ,tolInt,tolClose):\n",
    "    lines = deepcopy(twoLineList)\n",
    "    extLine1 = extendMultiSectioLinefromBothsides(twoLineList[0], extL)\n",
    "    extLine2 = extendMultiSectioLinefromBothsides(twoLineList[1], extL)\n",
    "    intrsct = LineString(extLine1).intersection(LineString(extLine2))\n",
    "    if intrsct.length == 0:\n",
    "        numDistanceBelowtolInt = 0\n",
    "        for line in lines:\n",
    "            for point in line:\n",
    "                if Point(point).distance(intrsct) < tolInt:\n",
    "                    numDistanceBelowtolInt += 1\n",
    "        if numDistanceBelowtolInt > 1:\n",
    "            for i in range(len(lines)):\n",
    "                for j in range(2):\n",
    "                    if Point(lines[i][-j]).distance(intrsct) < tolInt:\n",
    "                        lines[i][-j] = (intrsct.x, intrsct.y)\n",
    "            return lines\n",
    "        else:\n",
    "            return connectToAvgIfCloseEnough(lines, tolClose)\n",
    "    else:\n",
    "        return connectToAvgIfCloseEnough(lines, tolClose)\n",
    "\n",
    "def cleanDanglesofAnyKind(twoLineList, extL, tolInt, tolClose):\n",
    "    extline1 = extendMultiSectioLinefromBothsides(twoLineList[0], extL)\n",
    "    extline2 = extendMultiSectioLinefromBothsides(twoLineList[1], extL)\n",
    "    \n",
    "    if LineString(twoLineList[0]).intersects(LineString(twoLineList[1])) == True:\n",
    "        return cleanIfintesectedAlready(twoLineList, tolInt, tolClose)\n",
    "    \n",
    "    elif LineString(extline1).intersects(LineString(extline2)) == True:\n",
    "        return connectIfintesectedAfterExtending(twoLineList, extL ,tolInt, tolClose)\n",
    "    \n",
    "    else:\n",
    "        return connectToAvgIfCloseEnough(twoLineList, tolClose)\n",
    "def cleanEachGroup(linesList, extL, tolInt, tolClose):\n",
    "    linesListClean = deepcopy(linesList)\n",
    "    for i in range(len(linesListClean)):\n",
    "        for j in range(i+1, len(linesListClean)):\n",
    "            twoline = [linesListClean[i], linesListClean[j]]\n",
    "            twolineclean = cleanDanglesofAnyKind(twoline, extL, tolInt, tolClose)\n",
    "            if twoline[0] != twolineclean[0]:\n",
    "                linesListClean[i] = twolineclean[0]\n",
    "            if twoline[1] != twolineclean[1]:\n",
    "                linesListClean[j] = twolineclean[1]\n",
    "    return linesListClean\n",
    "\n",
    "import shapely \n",
    "# function: plots one line (not a lineList) with first and last points with different colors\n",
    "def plot_line(ax, line, color):\n",
    "    #line = [(x, y),...]\n",
    "    x, y = LineString(line).xy\n",
    "    # plot lines between points\n",
    "    ax.plot(x, y, color= color, alpha=0.7, linewidth=1, solid_capstyle='round', zorder=1)\n",
    "    # Plot first and last points with different colors\n",
    "#     ax.plot(x[0], y[0], 'o', color='#80F222', zorder=2)\n",
    "#     ax.plot(x[-1], y[-1], 'o', color='#F22222', zorder=2)\n",
    "    \n",
    "# function: handle axes limits and title of a plot of a (lineList \n",
    "def handle_axesLimTitle_for_lineList(ax, lineList, title):\n",
    "    #lineList = [line1, ...]\n",
    "    allXList = []\n",
    "    allYList = []\n",
    "    for line in lineList:\n",
    "        for point in line:\n",
    "            allXList.append(point[0])\n",
    "            allYList.append(point[1])\n",
    "    XLim = [min(allXList), max(allXList)]\n",
    "    YLim = [min(allYList), max(allYList)]\n",
    "    XEmptySpace = int((XLim[1]-XLim[0])/5.0)\n",
    "    YEmptySpace = int((YLim[1]-YLim[0])/5.0)\n",
    "    if XEmptySpace == 0:\n",
    "        XEmptySpace = 1\n",
    "    if YEmptySpace == 0:\n",
    "        YEmptySpace = 1\n",
    "    Xrange = [int(XLim[0]) - XEmptySpace, int(XLim[1]) + XEmptySpace]\n",
    "    Yrange = [int(YLim[0]) - YEmptySpace, int(YLim[1]) + YEmptySpace]\n",
    "    ax.set_xlim(*Xrange)\n",
    "    ax.set_ylim(*Yrange)\n",
    "    # ax.set_yticks(list(range(*Yrange)) + [Yrange[-1]])\n",
    "    # ax.set_aspect(1)\n",
    "    ax.set_title(title) "
   ]
  },
  {
   "cell_type": "code",
   "execution_count": 6,
   "metadata": {
    "collapsed": false
   },
   "outputs": [
    {
     "name": "stdout",
     "output_type": "stream",
     "text": [
      "[(1272335.6996672302, 245282.78121329844), (1272340.9804965556, 245463.79167805612)]\n"
     ]
    }
   ],
   "source": [
    "import fiona\n",
    "with fiona.open('./2015-07-23_SideWalk_Subset/2015-07-23_SideWalk_Subset.shp', 'r') as inputfile:\n",
    "    sidewalkLineList = []\n",
    "    # sidewalkLineList = [ [line0], [line1], ... ]     \n",
    "    for row in inputfile:\n",
    "        sidewalkLineList.append(row['geometry']['coordinates'])\n",
    "print sidewalkLineList[0]"
   ]
  },
  {
   "cell_type": "code",
   "execution_count": 7,
   "metadata": {
    "collapsed": false
   },
   "outputs": [
    {
     "name": "stdout",
     "output_type": "stream",
     "text": [
      "[[(1270054.0493293256, 243203.10622107983), (1270066.345009327, 243628.93610951304), (1270360.594481632, 243620.9056455046), (1270348.2708976269, 243195.1315650791), (1270054.0493293256, 243203.10622107983)], 10]\n"
     ]
    }
   ],
   "source": [
    "import fiona\n",
    "with fiona.open('./20150723-postgispolygons-from-streets/20150723-postgispolygons-from-streets.shp', 'r') as inputfile:\n",
    "    streetPolygonList = []\n",
    "    # streetPolygonList = [ [[polygon0], id], [[polygon1], id], ...]\n",
    "    for row in inputfile:\n",
    "        streetPolygonList.append([ row['geometry']['coordinates'][0], int(row['id']) ])\n",
    "print streetPolygonList[10]"
   ]
  },
  {
   "cell_type": "code",
   "execution_count": 8,
   "metadata": {
    "collapsed": false
   },
   "outputs": [
    {
     "name": "stdout",
     "output_type": "stream",
     "text": [
      "[0, [(1270356.8095961362, 242781.61167496443), (1270368.3581294715, 243180.57478779554)], [(1270621.5006678104, 242766.31380529702), (1270632.4885067195, 243158.00724762678)], [(1270360.6754020602, 243174.28641454875), (1270616.9232491404, 243167.31661221385), (1270631.496710807, 243159.69326788187)], [(1270350.097011149, 242791.00896587968), (1270628.8986188918, 242776.00013762712)]]\n"
     ]
    }
   ],
   "source": [
    "sideWalksWhichPolygon = [ [polygoninfo[1]] for polygoninfo in streetPolygonList]\n",
    "for line in sidewalkLineList:\n",
    "    for polygoninfo in streetPolygonList:\n",
    "        if Polygon(polygoninfo[0]).contains(Point(line[0])) and Polygon(polygoninfo[0]).contains(Point(line[1])):\n",
    "            sideWalksWhichPolygon[polygoninfo[1]].append(line)\n",
    "            continue\n",
    "print sideWalksWhichPolygon[0]"
   ]
  },
  {
   "cell_type": "code",
   "execution_count": null,
   "metadata": {
    "collapsed": true
   },
   "outputs": [],
   "source": [
    "plygon0sideWalks = []\n",
    "for i in range(1, len(sideWalksWhichPolygon[0])):\n",
    "    \n",
    "        "
   ]
  }
 ],
 "metadata": {
  "kernelspec": {
   "display_name": "Python 2",
   "language": "python",
   "name": "python2"
  },
  "language_info": {
   "codemirror_mode": {
    "name": "ipython",
    "version": 2
   },
   "file_extension": ".py",
   "mimetype": "text/x-python",
   "name": "python",
   "nbconvert_exporter": "python",
   "pygments_lexer": "ipython2",
   "version": "2.7.6"
  }
 },
 "nbformat": 4,
 "nbformat_minor": 0
}
