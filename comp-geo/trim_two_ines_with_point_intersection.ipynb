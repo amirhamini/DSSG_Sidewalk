{
 "cells": [
  {
   "cell_type": "markdown",
   "metadata": {},
   "source": [
    "## Goal:\n",
    "Trim two lines that cross eachother to their intersection point if the tolerance condition is satisfied.   \n",
    "Tolerance condition: the part after or before intersection should not be larger than ($\\texttt{upLim}$) and not smaller than ($\\texttt{lowLim}$)."
   ]
  },
  {
   "cell_type": "markdown",
   "metadata": {},
   "source": [
    "## Steps:\n",
    "\n",
    "#### 1.  Create two lines.\n",
    "#### 2. Check to see if they have any kind of intersection. \n",
    "#### 3. Trim the parts after or before intersection if the tolerence condition is satisfied.\n",
    "#### 4. Create a clean function."
   ]
  },
  {
   "cell_type": "markdown",
   "metadata": {
    "collapsed": true
   },
   "source": [
    "First: Define a function to plot a $\\texttt{Line}$ using $\\texttt{𝚜𝚑𝚊𝚙𝚎𝚕𝚢}$ so that visualization is possible."
   ]
  },
  {
   "cell_type": "code",
   "execution_count": 1,
   "metadata": {
    "collapsed": false
   },
   "outputs": [],
   "source": [
    "import shapely \n",
    "# function: plots one line (not a lineList) with first and last points with different colors\n",
    "def plot_line(ax, line):\n",
    "    #line = [(x, y),...]\n",
    "    x, y = LineString(line).xy\n",
    "    # plot lines between points\n",
    "    ax.plot(x, y, color=\"#C885CD\", alpha=0.7, linewidth=1, solid_capstyle='round', zorder=1)\n",
    "    # Plot first and last points with different colors\n",
    "    ax.plot(x[0], y[0], 'o', color='#80F222', zorder=2)\n",
    "    ax.plot(x[-1], y[-1], 'o', color='#F22222', zorder=2)\n",
    "    \n",
    "# function: handle axes limits and title of a plot of a (lineList \n",
    "def handle_axesLimTitle_for_lineList(ax, lineList, title):\n",
    "    #lineList = [line1, ...]\n",
    "    allXList = []\n",
    "    allYList = []\n",
    "    for line in lineList:\n",
    "        for point in line:\n",
    "            allXList.append(point[0])\n",
    "            allYList.append(point[1])\n",
    "    XLim = [min(allXList), max(allXList)]\n",
    "    YLim = [min(allYList), max(allYList)]\n",
    "    XEmptySpace = int((XLim[1]-XLim[0])/5.0)\n",
    "    YEmptySpace = int((YLim[1]-YLim[0])/5.0)\n",
    "    if XEmptySpace == 0:\n",
    "        XEmptySpace = 1\n",
    "    if YEmptySpace == 0:\n",
    "        YEmptySpace = 1\n",
    "    Xrange = [int(XLim[0]) - XEmptySpace, int(XLim[1]) + XEmptySpace]\n",
    "    Yrange = [int(YLim[0]) - YEmptySpace, int(YLim[1]) + YEmptySpace]\n",
    "    ax.set_xlim(*Xrange)\n",
    "    ax.set_ylim(*Yrange)\n",
    "    # ax.set_yticks(list(range(*Yrange)) + [Yrange[-1]])\n",
    "    # ax.set_aspect(1)\n",
    "    ax.set_title(title) "
   ]
  },
  {
   "cell_type": "markdown",
   "metadata": {},
   "source": [
    "#### Create two lines:\n",
    "* store the lines in a list"
   ]
  },
  {
   "cell_type": "code",
   "execution_count": 2,
   "metadata": {
    "collapsed": false
   },
   "outputs": [],
   "source": [
    "A = (-1, 0)\n",
    "B = (5, 0)\n",
    "C = (0, -1)\n",
    "D = (0, 5)\n",
    "line1 = [B, A]\n",
    "line2 = [C, D]\n",
    "lineList = [line1, line2]"
   ]
  },
  {
   "cell_type": "markdown",
   "metadata": {},
   "source": [
    "* Plot the lines"
   ]
  },
  {
   "cell_type": "code",
   "execution_count": 3,
   "metadata": {
    "collapsed": false
   },
   "outputs": [
    {
     "data": {
      "image/png": "[encoded data removed]",
      "text/plain": [
       "<matplotlib.figure.Figure at 0x1084c0ad0>"
      ]
     },
     "metadata": {},
     "output_type": "display_data"
    }
   ],
   "source": [
    "from shapely.geometry import LineString\n",
    "from matplotlib import pyplot\n",
    "%matplotlib inline\n",
    "\n",
    "fig = pyplot.figure(1, figsize=(10,5), dpi=90)\n",
    "ax = fig.add_subplot(111)\n",
    "for line in lineList:\n",
    "    plot_line(ax, line)\n",
    "handle_axesLimTitle_for_lineList(ax, lineList, \"Two lines before\")\n",
    "pyplot.show()   "
   ]
  },
  {
   "cell_type": "markdown",
   "metadata": {},
   "source": [
    "#### Check to see if they have a one point kind of intersection:"
   ]
  },
  {
   "cell_type": "code",
   "execution_count": 4,
   "metadata": {
    "collapsed": false
   },
   "outputs": [
    {
     "name": "stdout",
     "output_type": "stream",
     "text": [
      "POINT (0 0)\n"
     ]
    }
   ],
   "source": [
    "import shapely\n",
    "intsct = LineString(lineList[0]).intersection(LineString(lineList[1]))\n",
    "print intsct"
   ]
  },
  {
   "cell_type": "markdown",
   "metadata": {},
   "source": [
    "#### Trim the parts after or before intersection if the tolerence condition is satisfied:"
   ]
  },
  {
   "cell_type": "code",
   "execution_count": 5,
   "metadata": {
    "collapsed": false
   },
   "outputs": [],
   "source": [
    "import shapely\n",
    "from shapely.geometry import LineString\n",
    "from shapely.geometry import Point\n",
    "\n",
    "upLimTol, lowLimTol = 3, 0.5\n",
    "for i in range(0,len(lineList)):\n",
    "    line = lineList[i]\n",
    "    if Point(line[0]).distance(intsct) < upLimTol and Point(line[0]).distance(intsct) > lowLimTol:\n",
    "        lineList[i][0] = (intsct.x, intsct.y)\n",
    "    if Point(line[-1]).distance(intsct) < upLimTol and Point(line[1]).distance(intsct) > lowLimTol:\n",
    "        lineList[i][1] = (intsct.x, intsct.y)    "
   ]
  },
  {
   "cell_type": "markdown",
   "metadata": {},
   "source": [
    "* Plot the result "
   ]
  },
  {
   "cell_type": "code",
   "execution_count": 6,
   "metadata": {
    "collapsed": false
   },
   "outputs": [
    {
     "data": {
      "image/png": "[encoded data removed]",
      "text/plain": [
       "<matplotlib.figure.Figure at 0x107616f10>"
      ]
     },
     "metadata": {},
     "output_type": "display_data"
    }
   ],
   "source": [
    "from shapely.geometry import LineString\n",
    "from matplotlib import pyplot\n",
    "%matplotlib inline\n",
    "\n",
    "fig = pyplot.figure(1, figsize=(10,5), dpi=90)\n",
    "ax = fig.add_subplot(111)\n",
    "\n",
    "for line in lineList:\n",
    "    plot_line(ax, line)\n",
    "\n",
    "handle_axesLimTitle_for_lineList(ax, lineList, \"Two lines after\")\n",
    "pyplot.show() "
   ]
  },
  {
   "cell_type": "markdown",
   "metadata": {},
   "source": [
    "#### Create a clean function:\n",
    "* input: a lineList and two tolerances upLim and lowLim.\n",
    "* output: a lineList with lines after they are trimmed (if necessary)."
   ]
  },
  {
   "cell_type": "code",
   "execution_count": 7,
   "metadata": {
    "collapsed": true
   },
   "outputs": [],
   "source": [
    "import shapely\n",
    "from shapely.geometry import LineString\n",
    "from shapely.geometry import Point\n",
    "def two_line_trimmer(lineList, upLim, lowLim):\n",
    "    if LineString(lineList[0]).intersects(LineString(lineList[0])) == False:\n",
    "        return lineList\n",
    "    else:\n",
    "        intsct = LineString(lineList[0]).intersection(LineString(lineList[0]))\n",
    "        for i in range(0,len(lineList)):\n",
    "            line = lineList[i]\n",
    "            if Point(line[0]).distance(intsct) < upLimTol and Point(line[0]).distance(intsct) > lowLimTol:\n",
    "                lineList[i][0] = (intsct.x, intsct.y)\n",
    "            if Point(line[-1]).distance(intsct) < upLimTol and Point(line[1]).distance(intsct) > lowLimTol:\n",
    "                lineList[i][1] = (intsct.x, intsct.y)\n",
    "        return lineList    "
   ]
  },
  {
   "cell_type": "markdown",
   "metadata": {},
   "source": [
    "## Code:\n",
    "### a) Functions:"
   ]
  },
  {
   "cell_type": "code",
   "execution_count": 8,
   "metadata": {
    "collapsed": true
   },
   "outputs": [],
   "source": [
    "import shapely\n",
    "from shapely.geometry import LineString\n",
    "from shapely.geometry import Point\n",
    "from matplotlib import pyplot\n",
    "%matplotlib inline\n",
    "\n",
    "# function: plots one line (not a lineList) with first and last points with different colors\n",
    "def plot_line(ax, line):\n",
    "    #line = [(x, y),...]\n",
    "    x, y = LineString(line).xy\n",
    "    # plot lines between points\n",
    "    ax.plot(x, y, color=\"#C885CD\", alpha=0.7, linewidth=1, solid_capstyle='round', zorder=1)\n",
    "    # Plot first and last points with different colors\n",
    "    ax.plot(x[0], y[0], 'o', color='#80F222', zorder=2)\n",
    "    ax.plot(x[-1], y[-1], 'o', color='#F22222', zorder=2)\n",
    "    \n",
    "# function: handle axes limits and title of a plot of a (lineList \n",
    "def handle_axesLimTitle_for_lineList(ax, lineList, title):\n",
    "    #lineList = [line1, ...]\n",
    "    allXList = []\n",
    "    allYList = []\n",
    "    for line in lineList:\n",
    "        for point in line:\n",
    "            allXList.append(point[0])\n",
    "            allYList.append(point[1])\n",
    "    XLim = [min(allXList), max(allXList)]\n",
    "    YLim = [min(allYList), max(allYList)]\n",
    "    XEmptySpace = int((XLim[1]-XLim[0])/5.0)\n",
    "    YEmptySpace = int((YLim[1]-YLim[0])/5.0)\n",
    "    if XEmptySpace == 0:\n",
    "        XEmptySpace = 1\n",
    "    if YEmptySpace == 0:\n",
    "        YEmptySpace = 1\n",
    "    Xrange = [int(XLim[0]) - XEmptySpace, int(XLim[1]) + XEmptySpace]\n",
    "    Yrange = [int(YLim[0]) - YEmptySpace, int(YLim[1]) + YEmptySpace]\n",
    "    ax.set_xlim(*Xrange)\n",
    "    ax.set_ylim(*Yrange)\n",
    "    # ax.set_yticks(list(range(*Yrange)) + [Yrange[-1]])\n",
    "    # ax.set_aspect(1)\n",
    "    ax.set_title(title) \n",
    "# Trimmer Function\n",
    "def two_line_trimmer(lineList, upLim, lowLim):\n",
    "    if LineString(lineList[0]).intersects(LineString(lineList[0])) == False:\n",
    "        return lineList\n",
    "    else:\n",
    "        intsct = LineString(lineList[0]).intersection(LineString(lineList[1]))\n",
    "        for i in range(0,len(lineList)):\n",
    "            line = lineList[i]\n",
    "            if Point(line[0]).distance(intsct) < upLimTol and Point(line[0]).distance(intsct) > lowLimTol:\n",
    "                lineList[i][0] = (intsct.x, intsct.y)\n",
    "            if Point(line[-1]).distance(intsct) < upLimTol and Point(line[1]).distance(intsct) > lowLimTol:\n",
    "                lineList[i][1] = (intsct.x, intsct.y)\n",
    "        return lineList    "
   ]
  },
  {
   "cell_type": "markdown",
   "metadata": {},
   "source": [
    "### b) Main code:"
   ]
  },
  {
   "cell_type": "code",
   "execution_count": 9,
   "metadata": {
    "collapsed": false
   },
   "outputs": [
    {
     "data": {
      "image/png": "[encoded data removed]",
      "text/plain": [
       "<matplotlib.figure.Figure at 0x105ce2cd0>"
      ]
     },
     "metadata": {},
     "output_type": "display_data"
    }
   ],
   "source": [
    "# Create two lines\n",
    "A = (-1, 0)\n",
    "B = (5, 0)\n",
    "C = (0, 3)\n",
    "D = (0, 5)\n",
    "line1 = [A, B]\n",
    "line2 = [C, D]\n",
    "lineList = [line1, line2]\n",
    "\n",
    "# Plot things before Trimming\n",
    "fig = pyplot.figure(1, figsize=(10,5), dpi=90)\n",
    "ax = fig.add_subplot(121)\n",
    "for line in lineList:\n",
    "    plot_line(ax, line)\n",
    "handle_axesLimTitle_for_lineList(ax, lineList, \"Two lines before\")\n",
    "\n",
    "# Trim them if necessary\n",
    "upLim, lowLim = 3, 0.01 \n",
    "two_line_trimmer(lineList, upLim, lowLim)\n",
    "\n",
    "# Plot Things after Trimming\n",
    "ax = fig.add_subplot(122)\n",
    "for line in lineList:\n",
    "    plot_line(ax, line)\n",
    "handle_axesLimTitle_for_lineList(ax, lineList, \"Two lines after\")\n",
    "pyplot.show() "
   ]
  },
  {
   "cell_type": "code",
   "execution_count": null,
   "metadata": {
    "collapsed": true
   },
   "outputs": [],
   "source": []
  }
 ],
 "metadata": {
  "kernelspec": {
   "display_name": "Python 2",
   "language": "python",
   "name": "python2"
  },
  "language_info": {
   "codemirror_mode": {
    "name": "ipython",
    "version": 2
   },
   "file_extension": ".py",
   "mimetype": "text/x-python",
   "name": "python",
   "nbconvert_exporter": "python",
   "pygments_lexer": "ipython2",
   "version": "2.7.6"
  }
 },
 "nbformat": 4,
 "nbformat_minor": 0
}
