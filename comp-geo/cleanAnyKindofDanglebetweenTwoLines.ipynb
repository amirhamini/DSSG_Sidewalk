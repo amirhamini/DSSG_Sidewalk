{
 "cells": [
  {
   "cell_type": "code",
   "execution_count": 37,
   "metadata": {
    "collapsed": false
   },
   "outputs": [],
   "source": [
    "import shapely\n",
    "from shapely.geometry import Point\n",
    "from shapely.geometry import LineString\n",
    "from matplotlib import pyplot\n",
    "%matplotlib inline\n",
    "from copy import deepcopy\n",
    "# function: plots one line (not a lineList) with first and last points with different colors\n",
    "def plot_line(ax, line):\n",
    "    #line = [(x, y),...]\n",
    "    x, y = LineString(line).xy\n",
    "    # plot lines between points\n",
    "    ax.plot(x, y, color=\"#C885CD\", alpha=0.7, linewidth=1, solid_capstyle='round', zorder=1)\n",
    "    # Plot first and last points with different colors\n",
    "    ax.plot(x[0], y[0], 'o', color='#80F222', zorder=2)\n",
    "    ax.plot(x[-1], y[-1], 'o', color='#F22222', zorder=2)\n",
    "    \n",
    "# function: handle axes limits and title of a plot of a (lineList \n",
    "def handle_axesLimTitle_for_lineList(ax, lineList, title):\n",
    "    #lineList = [line1, ...]\n",
    "    allXList = []\n",
    "    allYList = []\n",
    "    for line in lineList:\n",
    "        for point in line:\n",
    "            allXList.append(point[0])\n",
    "            allYList.append(point[1])\n",
    "    XLim = [min(allXList), max(allXList)]\n",
    "    YLim = [min(allYList), max(allYList)]\n",
    "    XEmptySpace = int((XLim[1]-XLim[0])/5.0)\n",
    "    YEmptySpace = int((YLim[1]-YLim[0])/5.0)\n",
    "    if XEmptySpace == 0:\n",
    "        XEmptySpace = 1\n",
    "    if YEmptySpace == 0:\n",
    "        YEmptySpace = 1\n",
    "    Xrange = [int(XLim[0]) - XEmptySpace, int(XLim[1]) + XEmptySpace]\n",
    "    Yrange = [int(YLim[0]) - YEmptySpace, int(YLim[1]) + YEmptySpace]\n",
    "    ax.set_xlim(*Xrange)\n",
    "    ax.set_ylim(*Yrange)\n",
    "    # ax.set_yticks(list(range(*Yrange)) + [Yrange[-1]])\n",
    "    # ax.set_aspect(1)\n",
    "    ax.set_title(title) \n",
    "\n",
    "def lenLine(line):\n",
    "    return Point(line[0]).distance(Point(line[1]))\n",
    "\n",
    "def cosAndsine(line):\n",
    "    # cos and sine made with horizon \n",
    "    cos = float(line[1][0] - line[0][0])/float(lenLine(line))\n",
    "    sine = float(line[1][1] - line[0][1])/float(lenLine(line))\n",
    "    return [cos, sine]\n",
    "def vecLine(line):\n",
    "    # line = [(,), (,)]\n",
    "    # vec = [,]\n",
    "    return [line[1][0] - line[0][0], line[1][1] - line[0][1]]\n",
    "\n",
    "def crossAlmost(twoLineList):\n",
    "    a = vecLine(twoLineList[0])\n",
    "    b = vecLine(twoLineList[1])\n",
    "    return a[0] * b[1] - a[1] * b[0]\n",
    "\n",
    "def connectIfintesectedAlready(twoLineList, tolInt):\n",
    "    lines = deepcopy(twoLineList)\n",
    "    intrsct = LineString(lines[0]).intersection(LineString(lines[1]))\n",
    "    for i in range(len(lines)):\n",
    "        for j in range(len(lines[i])):\n",
    "            if Point(lines[i][j]).distance(intrsct) < tolInt:\n",
    "                lines[i][j] = (intrsct.x, intrsct.y)\n",
    "    return lines\n",
    "\n",
    "            \n",
    "                \n",
    "\n",
    "\n",
    "def closerTwoPointsIndex(twoLineList):\n",
    "    line1 = twoLineList[0]\n",
    "    line2 = twoLineList[1]\n",
    "    distances = [Point(line1[0]).distance(Point(line2[0])), Point(line1[0]).distance(Point(line2[1])),\n",
    "                 Point(line1[1]).distance(Point(line2[0])), Point(line1[1]).distance(Point(line2[1]))]\n",
    "\n",
    "    min_dis = min(distances)\n",
    "\n",
    "    minIndex = distances.index(min_dis)\n",
    "    # info = [ [line1closepointindex, line1closecoordinates],\n",
    "    #          [line2closepointindex, line2closecoordinates], mindistance, (avgX, avgY)]\n",
    "    # it two lines are parallel \n",
    "    if minIndex == 0:\n",
    "        info = [ [0, line1[0] ] , [0, line2[0]], min_dis]\n",
    "        avgX = (line1[0][0] + line2[0][0])/float(2)\n",
    "        avgY = (line1[0][1] + line2[0][1])/float(2)\n",
    "        info.append((avgX, avgY))\n",
    "    elif minIndex == 1:\n",
    "        info = [ [0, line1[0] ] , [1, line2[1]], min_dis]\n",
    "        avgX = (line1[0][0] + line2[1][0])/float(2)\n",
    "        avgY = (line1[0][1] + line2[1][1])/float(2)\n",
    "        info.append((avgX, avgY))\n",
    "    elif minIndex == 2:\n",
    "        info = [ [1, line1[1] ] , [0, line2[0]], min_dis]\n",
    "        avgX = (line1[1][0] + line2[0][0])/float(2)\n",
    "        avgY = (line1[1][1] + line2[0][1])/float(2)\n",
    "        info.append((avgX, avgY))\n",
    "    elif minIndex == 3:\n",
    "        info = [ [1, line1[1] ] , [1, line2[1]], min_dis]\n",
    "        avgX = (line1[1][0] + line2[1][0])/float(2)\n",
    "        avgY = (line1[1][1] + line2[1][1])/float(2)\n",
    "        info.append((avgX, avgY))\n",
    "    return info\n",
    "\n",
    "def extendTwoLinesFromClosePointSide(twoLineList, extL):\n",
    "    info = closerTwoPointsIndex(twoLineList)\n",
    "    lineListAfter = deepcopy(twoLineList)\n",
    "\n",
    "    for i in range(len(lineListAfter)):\n",
    "        \n",
    "        extPoint = Point(info[i][1])\n",
    "        otherPoint = Point(lineListAfter[i][abs(1-info[i][0])])\n",
    "\n",
    "        cosT = cosAndsine(lineListAfter[i])[0]\n",
    "        sinT = cosAndsine(lineListAfter[i])[1]\n",
    "        extNewPoint = (extPoint.x + extL * cosT, extPoint.y + extL * sinT)\n",
    "        if Point(extNewPoint).distance(otherPoint) < lenLine(lineListAfter[i]):\n",
    "            extNewPoint = (extPoint.x - extL * cosT, extPoint.y - extL * sinT)\n",
    "        \n",
    "        lineListAfter[i][info[i][0]] = (extNewPoint[0], extNewPoint[1])\n",
    "    return lineListAfter\n",
    "\n",
    "def findDistancesFromIntersection(twoLineList, extL):\n",
    "    info = closerTwoPointsIndex(twoLineList)\n",
    "    lines = extendTwoLinesFromClosePointSide(twoLineList, extL)\n",
    "    if LineString(lines[0]).intersects(LineString(lines[1])) == True:\n",
    "        intrsct = LineString(lines[0]).intersection(LineString(lines[1]))\n",
    "        firstLineDis = Point(info[0][1]).distance(intrsct)\n",
    "        secLineDis = Point(info[1][1]).distance(intrsct)\n",
    "        return [(intrsct.x, intrsct.y), firstLineDis, secLineDis]\n",
    "    else:\n",
    "        return \"noInt\"\n",
    "\n",
    "def connectTointersectionIfTolSatisfied(twoLineList, extL, tolInt, tolClose):\n",
    "    if LineString(twoLineList[0]).intersects(LineString(twoLineList[1])) == True:\n",
    "        return connectIfintesectedAlready(twoLineList, tolInt)\n",
    "    else:\n",
    "        info = closerTwoPointsIndex(twoLineList)\n",
    "        disFromInt = findDistancesFromIntersection(twoLineList, extL)\n",
    "        lineListAfter = deepcopy(twoLineList)\n",
    "        if disFromInt != \"noInt\" and max(disFromInt[1], disFromInt[2]) < tolInt:\n",
    "            for i in range(len(lineListAfter)):\n",
    "                lineListAfter[i][info[i][0]] = disFromInt[0]\n",
    "            return lineListAfter\n",
    "        elif info[2] < tolClose:\n",
    "            for i in range(len(lineListAfter)):\n",
    "                lineListAfter[i][info[i][0]] = info[3]\n",
    "            return lineListAfter\n",
    "        else: \n",
    "            return twoLineList\n"
   ]
  },
  {
   "cell_type": "code",
   "execution_count": 38,
   "metadata": {
    "collapsed": false
   },
   "outputs": [
    {
     "data": {
      "image/png": "[encoded data removed]",
      "text/plain": [
       "<matplotlib.figure.Figure at 0x10ce06d90>"
      ]
     },
     "metadata": {},
     "output_type": "display_data"
    }
   ],
   "source": [
    "A = (0,1)\n",
    "B = (0,5)\n",
    "C = (0.5,0)\n",
    "D = (4,0)\n",
    "\n",
    "line1 = [A, B]\n",
    "line2 = [C, D]\n",
    "lineList =[line1, line2]\n",
    "\n",
    "extL, tolInt, tolClose = 5, 1, 0.5\n",
    "res = connectTointersectionIfTolSatisfied(lineList, extL, tolInt, tolClose)\n",
    "\n",
    "fig = pyplot.figure(1, figsize=(10,5), dpi=90)\n",
    "ax = fig.add_subplot(121)\n",
    "for line in lineList:\n",
    "    plot_line(ax, line)\n",
    "\n",
    "handle_axesLimTitle_for_lineList(ax, lineList, \"Before\")\n",
    "ax = fig.add_subplot(122)\n",
    "for line in res:\n",
    "    plot_line(ax, line)\n",
    "\n",
    "handle_axesLimTitle_for_lineList(ax, lineList, \"After\")\n",
    "pyplot.show()"
   ]
  },
  {
   "cell_type": "code",
   "execution_count": 39,
   "metadata": {
    "collapsed": false
   },
   "outputs": [
    {
     "data": {
      "image/png": "[encoded data removed]",
      "text/plain": [
       "<matplotlib.figure.Figure at 0x10ce0a790>"
      ]
     },
     "metadata": {},
     "output_type": "display_data"
    }
   ],
   "source": [
    "A = (0,0.9)\n",
    "B = (0,5)\n",
    "C = (0.5,0)\n",
    "D = (4,0)\n",
    "\n",
    "line1 = [A, B]\n",
    "line2 = [C, D]\n",
    "lineList =[line1, line2]\n",
    "\n",
    "extL, tolInt, tolClose = 5, 1, 0.5\n",
    "res = connectTointersectionIfTolSatisfied(lineList, extL, tolInt, tolClose)\n",
    "\n",
    "fig = pyplot.figure(1, figsize=(10,5), dpi=90)\n",
    "ax = fig.add_subplot(121)\n",
    "for line in lineList:\n",
    "    plot_line(ax, line)\n",
    "\n",
    "handle_axesLimTitle_for_lineList(ax, lineList, \"Before\")\n",
    "ax = fig.add_subplot(122)\n",
    "for line in res:\n",
    "    plot_line(ax, line)\n",
    "\n",
    "handle_axesLimTitle_for_lineList(ax, lineList, \"After\")\n",
    "pyplot.show()"
   ]
  },
  {
   "cell_type": "code",
   "execution_count": 40,
   "metadata": {
    "collapsed": false
   },
   "outputs": [
    {
     "data": {
      "image/png": "[encoded data removed]",
      "text/plain": [
       "<matplotlib.figure.Figure at 0x10e8ac850>"
      ]
     },
     "metadata": {},
     "output_type": "display_data"
    }
   ],
   "source": [
    "A = (0,1)\n",
    "B = (0,5)\n",
    "C = (-1,0)\n",
    "D = (4,0)\n",
    "\n",
    "line1 = [A, B]\n",
    "line2 = [C, D]\n",
    "lineList =[line1, line2]\n",
    "\n",
    "extL, tolInt, tolClose = 5, 1, 0.5\n",
    "res = connectTointersectionIfTolSatisfied(lineList, extL, tolInt, tolClose)\n",
    "\n",
    "fig = pyplot.figure(1, figsize=(10,5), dpi=90)\n",
    "ax = fig.add_subplot(121)\n",
    "for line in lineList:\n",
    "    plot_line(ax, line)\n",
    "\n",
    "handle_axesLimTitle_for_lineList(ax, lineList, \"Before\")\n",
    "ax = fig.add_subplot(122)\n",
    "for line in res:\n",
    "    plot_line(ax, line)\n",
    "\n",
    "handle_axesLimTitle_for_lineList(ax, lineList, \"After\")\n",
    "pyplot.show()"
   ]
  },
  {
   "cell_type": "code",
   "execution_count": 41,
   "metadata": {
    "collapsed": false
   },
   "outputs": [
    {
     "data": {
      "image/png": "[encoded data removed]",
      "text/plain": [
       "<matplotlib.figure.Figure at 0x10e8e8450>"
      ]
     },
     "metadata": {},
     "output_type": "display_data"
    }
   ],
   "source": [
    "A = (0,0.9)\n",
    "B = (0,5)\n",
    "C = (-0.9,0)\n",
    "D = (4,0)\n",
    "\n",
    "line1 = [A, B]\n",
    "line2 = [C, D]\n",
    "lineList =[line1, line2]\n",
    "\n",
    "extL, tolInt, tolClose = 5, 1, 0.5\n",
    "res = connectTointersectionIfTolSatisfied(lineList, extL, tolInt, tolClose)\n",
    "\n",
    "fig = pyplot.figure(1, figsize=(10,5), dpi=90)\n",
    "ax = fig.add_subplot(121)\n",
    "for line in lineList:\n",
    "    plot_line(ax, line)\n",
    "\n",
    "handle_axesLimTitle_for_lineList(ax, lineList, \"Before\")\n",
    "ax = fig.add_subplot(122)\n",
    "for line in res:\n",
    "    plot_line(ax, line)\n",
    "\n",
    "handle_axesLimTitle_for_lineList(ax, lineList, \"After\")\n",
    "pyplot.show()"
   ]
  },
  {
   "cell_type": "code",
   "execution_count": 42,
   "metadata": {
    "collapsed": false
   },
   "outputs": [
    {
     "data": {
      "image/png": "[encoded data removed]",
      "text/plain": [
       "<matplotlib.figure.Figure at 0x10e898a10>"
      ]
     },
     "metadata": {},
     "output_type": "display_data"
    }
   ],
   "source": [
    "A = (1,1)\n",
    "B = (2,2)\n",
    "C = (0.5,1)\n",
    "D = (1.5,2)\n",
    "\n",
    "line1 = [A, B]\n",
    "line2 = [C, D]\n",
    "lineList =[line1, line2]\n",
    "\n",
    "extL, tolInt, tolClose = 5, 1, 0.5\n",
    "res = connectTointersectionIfTolSatisfied(lineList, extL, tolInt, tolClose)\n",
    "\n",
    "fig = pyplot.figure(1, figsize=(10,5), dpi=90)\n",
    "ax = fig.add_subplot(121)\n",
    "for line in lineList:\n",
    "    plot_line(ax, line)\n",
    "\n",
    "handle_axesLimTitle_for_lineList(ax, lineList, \"Before\")\n",
    "ax = fig.add_subplot(122)\n",
    "for line in res:\n",
    "    plot_line(ax, line)\n",
    "\n",
    "handle_axesLimTitle_for_lineList(ax, lineList, \"After\")\n",
    "pyplot.show()"
   ]
  },
  {
   "cell_type": "code",
   "execution_count": 43,
   "metadata": {
    "collapsed": false
   },
   "outputs": [
    {
     "data": {
      "image/png": "[encoded data removed]",
      "text/plain": [
       "<matplotlib.figure.Figure at 0x10ce739d0>"
      ]
     },
     "metadata": {},
     "output_type": "display_data"
    }
   ],
   "source": [
    "A = (1,1)\n",
    "B = (2,2)\n",
    "C = (0.6,1.3)\n",
    "D = (1.7,2)\n",
    "\n",
    "line1 = [A, B]\n",
    "line2 = [C, D]\n",
    "lineList =[line1, line2]\n",
    "\n",
    "extL, tolInt, tolClose = 5, 0.5, 0.5\n",
    "res = connectTointersectionIfTolSatisfied(lineList, extL, tolInt, tolClose)\n",
    "\n",
    "fig = pyplot.figure(1, figsize=(10,5), dpi=90)\n",
    "ax = fig.add_subplot(121)\n",
    "for line in lineList:\n",
    "    plot_line(ax, line)\n",
    "\n",
    "handle_axesLimTitle_for_lineList(ax, lineList, \"Before\")\n",
    "ax = fig.add_subplot(122)\n",
    "for line in res:\n",
    "    plot_line(ax, line)\n",
    "\n",
    "handle_axesLimTitle_for_lineList(ax, lineList, \"After\")\n",
    "pyplot.show()"
   ]
  },
  {
   "cell_type": "code",
   "execution_count": 44,
   "metadata": {
    "collapsed": false
   },
   "outputs": [
    {
     "data": {
      "image/png": "[encoded data removed]",
      "text/plain": [
       "<matplotlib.figure.Figure at 0x10e8ac610>"
      ]
     },
     "metadata": {},
     "output_type": "display_data"
    }
   ],
   "source": [
    "A = (1,1)\n",
    "B = (1.5,2)\n",
    "C = (0.6,1.3)\n",
    "D = (1.7,2)\n",
    "\n",
    "line1 = [A, B]\n",
    "line2 = [C, D]\n",
    "lineList =[line1, line2]\n",
    "\n",
    "extL, tolInt, tolClose = 5, 0.5, 0.5\n",
    "res = connectTointersectionIfTolSatisfied(lineList, extL, tolInt, tolClose)\n",
    "\n",
    "fig = pyplot.figure(1, figsize=(10,5), dpi=90)\n",
    "ax = fig.add_subplot(121)\n",
    "for line in lineList:\n",
    "    plot_line(ax, line)\n",
    "\n",
    "handle_axesLimTitle_for_lineList(ax, lineList, \"Before\")\n",
    "ax = fig.add_subplot(122)\n",
    "for line in res:\n",
    "    plot_line(ax, line)\n",
    "\n",
    "handle_axesLimTitle_for_lineList(ax, lineList, \"After\")\n",
    "pyplot.show()"
   ]
  },
  {
   "cell_type": "code",
   "execution_count": 50,
   "metadata": {
    "collapsed": false
   },
   "outputs": [
    {
     "name": "stdout",
     "output_type": "stream",
     "text": [
      "[[(1, 1), (1.3636363636363635, 1.8727272727272726)], [(0.6, 1.3), (5, 4.6)]]\n",
      "[[(1, 1), (1.5, 2.2)], [(0.6, 1.3), (5, 4.6)]]\n",
      "[[(1, 1), (1.3636363636363635, 1.8727272727272726)], [(0.6, 1.3), (5, 4.6)]]\n"
     ]
    },
    {
     "data": {
      "image/png": "[encoded data removed]",
      "text/plain": [
       "<matplotlib.figure.Figure at 0x10ce8d910>"
      ]
     },
     "metadata": {},
     "output_type": "display_data"
    }
   ],
   "source": [
    "A = (1,1)\n",
    "B = (1.5,2.2)\n",
    "C = (0.6,1.3)\n",
    "D = (5,4.6)\n",
    "\n",
    "line1 = [A, B]\n",
    "line2 = [C, D]\n",
    "lineList =[line1, line2]\n",
    "\n",
    "print connectIfintesectedAlready(lineList, 0.5)\n",
    "print lineList\n",
    "\n",
    "extL, tolInt, tolClose = 5, 0.5, 0.5\n",
    "res = connectTointersectionIfTolSatisfied(lineList, extL, tolInt, tolClose)\n",
    "print res\n",
    "\n",
    "fig = pyplot.figure(1, figsize=(10,5), dpi=90)\n",
    "ax = fig.add_subplot(121)\n",
    "for line in lineList:\n",
    "    plot_line(ax, line)\n",
    "\n",
    "handle_axesLimTitle_for_lineList(ax, lineList, \"Before\")\n",
    "ax = fig.add_subplot(122)\n",
    "for line in res:\n",
    "    plot_line(ax, line)\n",
    "\n",
    "handle_axesLimTitle_for_lineList(ax, lineList, \"After\")\n",
    "pyplot.show()"
   ]
  },
  {
   "cell_type": "code",
   "execution_count": null,
   "metadata": {
    "collapsed": true
   },
   "outputs": [],
   "source": []
  }
 ],
 "metadata": {
  "kernelspec": {
   "display_name": "Python 2",
   "language": "python",
   "name": "python2"
  },
  "language_info": {
   "codemirror_mode": {
    "name": "ipython",
    "version": 2
   },
   "file_extension": ".py",
   "mimetype": "text/x-python",
   "name": "python",
   "nbconvert_exporter": "python",
   "pygments_lexer": "ipython2",
   "version": "2.7.6"
  }
 },
 "nbformat": 4,
 "nbformat_minor": 0
}
